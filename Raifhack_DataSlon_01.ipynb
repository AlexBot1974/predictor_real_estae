{
  "nbformat": 4,
  "nbformat_minor": 0,
  "metadata": {
    "colab": {
      "name": "Raifhack_DataSlon_01.ipynb",
      "provenance": []
    },
    "kernelspec": {
      "name": "python3",
      "display_name": "Python 3"
    },
    "language_info": {
      "name": "python"
    },
    "widgets": {
      "application/vnd.jupyter.widget-state+json": {
        "fb89d8f16aad4a999157ee34eaab6837": {
          "model_module": "catboost-widget",
          "model_name": "CatboostWidgetModel",
          "model_module_version": "^1.0.0",
          "state": {
            "_view_name": "CatboostWidgetView",
            "_dom_classes": [],
            "_model_name": "CatboostWidgetModel",
            "data": {
              "catboost_info": {
                "content": {
                  "data": {
                    "meta": {
                      "name": "experiment",
                      "parameters": "",
                      "test_metrics": [
                        {
                          "best_value": "Min",
                          "name": "RMSE"
                        }
                      ],
                      "learn_sets": [
                        "learn"
                      ],
                      "launch_mode": "Train",
                      "learn_metrics": [
                        {
                          "best_value": "Min",
                          "name": "RMSE"
                        }
                      ],
                      "iteration_count": 800,
                      "test_sets": [
                        "test"
                      ]
                    },
                    "iterations": [
                      {
                        "test": [
                          172621.8028
                        ],
                        "passed_time": 4.364221257,
                        "iteration": 0,
                        "remaining_time": 3487.012784,
                        "learn": [
                          169757.3634
                        ]
                      },
                      {
                        "test": [
                          171192.857
                        ],
                        "passed_time": 7.64168462,
                        "iteration": 1,
                        "remaining_time": 3049.032163,
                        "learn": [
                          168311.9892
                        ]
                      },
                      {
                        "test": [
                          169786.313
                        ],
                        "passed_time": 10.86037272,
                        "iteration": 2,
                        "remaining_time": 2885.23902,
                        "learn": [
                          166909.3919
                        ]
                      },
                      {
                        "test": [
                          168415.5824
                        ],
                        "passed_time": 14.0926567,
                        "iteration": 3,
                        "remaining_time": 2804.438684,
                        "learn": [
                          165532.1533
                        ]
                      },
                      {
                        "test": [
                          167049.6601
                        ],
                        "passed_time": 17.30620194,
                        "iteration": 4,
                        "remaining_time": 2751.686108,
                        "learn": [
                          164160.5294
                        ]
                      },
                      {
                        "test": [
                          165717.6998
                        ],
                        "passed_time": 20.50003345,
                        "iteration": 5,
                        "remaining_time": 2712.837759,
                        "learn": [
                          162826.784
                        ]
                      },
                      {
                        "test": [
                          164440.9051
                        ],
                        "passed_time": 23.66857127,
                        "iteration": 6,
                        "remaining_time": 2681.311003,
                        "learn": [
                          161529.3019
                        ]
                      },
                      {
                        "test": [
                          163221.24
                        ],
                        "passed_time": 26.89976349,
                        "iteration": 7,
                        "remaining_time": 2663.076586,
                        "learn": [
                          160275.4455
                        ]
                      },
                      {
                        "test": [
                          161928.1787
                        ],
                        "passed_time": 30.05613142,
                        "iteration": 8,
                        "remaining_time": 2641.599995,
                        "learn": [
                          158988.9473
                        ]
                      },
                      {
                        "test": [
                          160676.3007
                        ],
                        "passed_time": 33.23572229,
                        "iteration": 9,
                        "remaining_time": 2625.622061,
                        "learn": [
                          157720.6126
                        ]
                      },
                      {
                        "test": [
                          159475.554
                        ],
                        "passed_time": 36.47450685,
                        "iteration": 10,
                        "remaining_time": 2616.2169,
                        "learn": [
                          156493.9733
                        ]
                      },
                      {
                        "test": [
                          158264.1944
                        ],
                        "passed_time": 39.6694775,
                        "iteration": 11,
                        "remaining_time": 2604.962356,
                        "learn": [
                          155274.7041
                        ]
                      },
                      {
                        "test": [
                          157069.9027
                        ],
                        "passed_time": 42.79650851,
                        "iteration": 12,
                        "remaining_time": 2590.834784,
                        "learn": [
                          154079.6735
                        ]
                      },
                      {
                        "test": [
                          155904.0528
                        ],
                        "passed_time": 46.01878786,
                        "iteration": 13,
                        "remaining_time": 2583.626233,
                        "learn": [
                          152903.8141
                        ]
                      },
                      {
                        "test": [
                          154763.5742
                        ],
                        "passed_time": 49.19320905,
                        "iteration": 14,
                        "remaining_time": 2574.444607,
                        "learn": [
                          151759.7373
                        ]
                      },
                      {
                        "test": [
                          153667.1022
                        ],
                        "passed_time": 52.38118088,
                        "iteration": 15,
                        "remaining_time": 2566.677863,
                        "learn": [
                          150637.1647
                        ]
                      },
                      {
                        "test": [
                          152544.4685
                        ],
                        "passed_time": 55.54733023,
                        "iteration": 16,
                        "remaining_time": 2558.444681,
                        "learn": [
                          149522.4099
                        ]
                      },
                      {
                        "test": [
                          151500.246
                        ],
                        "passed_time": 58.76504404,
                        "iteration": 17,
                        "remaining_time": 2553.014691,
                        "learn": [
                          148444.0181
                        ]
                      },
                      {
                        "test": [
                          150458.7633
                        ],
                        "passed_time": 61.94656579,
                        "iteration": 18,
                        "remaining_time": 2546.329889,
                        "learn": [
                          147379.8645
                        ]
                      },
                      {
                        "test": [
                          149441.5023
                        ],
                        "passed_time": 65.11932341,
                        "iteration": 19,
                        "remaining_time": 2539.653613,
                        "learn": [
                          146330.6453
                        ]
                      },
                      {
                        "test": [
                          148429.096
                        ],
                        "passed_time": 68.33343356,
                        "iteration": 20,
                        "remaining_time": 2534.844988,
                        "learn": [
                          145296.7346
                        ]
                      },
                      {
                        "test": [
                          147432.6957
                        ],
                        "passed_time": 71.51053703,
                        "iteration": 21,
                        "remaining_time": 2528.872628,
                        "learn": [
                          144291.5944
                        ]
                      },
                      {
                        "test": [
                          146454.9312
                        ],
                        "passed_time": 74.61678991,
                        "iteration": 22,
                        "remaining_time": 2520.749816,
                        "learn": [
                          143292.698
                        ]
                      },
                      {
                        "test": [
                          145449.0177
                        ],
                        "passed_time": 77.74620493,
                        "iteration": 23,
                        "remaining_time": 2513.793959,
                        "learn": [
                          142290.358
                        ]
                      },
                      {
                        "test": [
                          144496.7866
                        ],
                        "passed_time": 80.96276543,
                        "iteration": 24,
                        "remaining_time": 2509.845728,
                        "learn": [
                          141326.4377
                        ]
                      },
                      {
                        "test": [
                          143562.8121
                        ],
                        "passed_time": 84.18565791,
                        "iteration": 25,
                        "remaining_time": 2506.142278,
                        "learn": [
                          140366.3844
                        ]
                      },
                      {
                        "test": [
                          142635.9743
                        ],
                        "passed_time": 87.43985607,
                        "iteration": 26,
                        "remaining_time": 2503.370694,
                        "learn": [
                          139418.693
                        ]
                      },
                      {
                        "test": [
                          141745.5706
                        ],
                        "passed_time": 90.60109886,
                        "iteration": 27,
                        "remaining_time": 2498.001726,
                        "learn": [
                          138496.7125
                        ]
                      },
                      {
                        "test": [
                          140859.4999
                        ],
                        "passed_time": 93.8448076,
                        "iteration": 28,
                        "remaining_time": 2494.977471,
                        "learn": [
                          137592.441
                        ]
                      },
                      {
                        "test": [
                          139974.1721
                        ],
                        "passed_time": 97.06938797,
                        "iteration": 29,
                        "remaining_time": 2491.447624,
                        "learn": [
                          136695.6751
                        ]
                      },
                      {
                        "test": [
                          139129.4601
                        ],
                        "passed_time": 100.2869028,
                        "iteration": 30,
                        "remaining_time": 2487.762202,
                        "learn": [
                          135813.7288
                        ]
                      },
                      {
                        "test": [
                          138278.6131
                        ],
                        "passed_time": 103.471186,
                        "iteration": 31,
                        "remaining_time": 2483.308464,
                        "learn": [
                          134934.4945
                        ]
                      },
                      {
                        "test": [
                          137444.8622
                        ],
                        "passed_time": 106.6743347,
                        "iteration": 32,
                        "remaining_time": 2479.370143,
                        "learn": [
                          134079.0145
                        ]
                      },
                      {
                        "test": [
                          136605.5814
                        ],
                        "passed_time": 109.8874921,
                        "iteration": 33,
                        "remaining_time": 2475.700558,
                        "learn": [
                          133237.0298
                        ]
                      },
                      {
                        "test": [
                          135807.9542
                        ],
                        "passed_time": 113.1132296,
                        "iteration": 34,
                        "remaining_time": 2472.332019,
                        "learn": [
                          132412.1313
                        ]
                      },
                      {
                        "test": [
                          135007.921
                        ],
                        "passed_time": 116.3456961,
                        "iteration": 35,
                        "remaining_time": 2469.114218,
                        "learn": [
                          131604.3358
                        ]
                      },
                      {
                        "test": [
                          134249.5906
                        ],
                        "passed_time": 119.5270923,
                        "iteration": 36,
                        "remaining_time": 2464.84247,
                        "learn": [
                          130834.3274
                        ]
                      },
                      {
                        "test": [
                          133479.1131
                        ],
                        "passed_time": 122.7297363,
                        "iteration": 37,
                        "remaining_time": 2461.054187,
                        "learn": [
                          130055.7871
                        ]
                      },
                      {
                        "test": [
                          132729.9002
                        ],
                        "passed_time": 125.9345838,
                        "iteration": 38,
                        "remaining_time": 2457.338929,
                        "learn": [
                          129287.8498
                        ]
                      },
                      {
                        "test": [
                          132016.8072
                        ],
                        "passed_time": 129.1541587,
                        "iteration": 39,
                        "remaining_time": 2453.929016,
                        "learn": [
                          128538.5141
                        ]
                      },
                      {
                        "test": [
                          131305.1768
                        ],
                        "passed_time": 132.2969896,
                        "iteration": 40,
                        "remaining_time": 2449.107686,
                        "learn": [
                          127806.4404
                        ]
                      },
                      {
                        "test": [
                          130574.9216
                        ],
                        "passed_time": 135.5070275,
                        "iteration": 41,
                        "remaining_time": 2445.57921,
                        "learn": [
                          127075.9202
                        ]
                      },
                      {
                        "test": [
                          129889.3843
                        ],
                        "passed_time": 138.7172962,
                        "iteration": 42,
                        "remaining_time": 2442.069611,
                        "learn": [
                          126375.9419
                        ]
                      },
                      {
                        "test": [
                          129208.254
                        ],
                        "passed_time": 141.9002164,
                        "iteration": 43,
                        "remaining_time": 2438.103719,
                        "learn": [
                          125668.0935
                        ]
                      },
                      {
                        "test": [
                          128540.1714
                        ],
                        "passed_time": 145.1930626,
                        "iteration": 44,
                        "remaining_time": 2436.016939,
                        "learn": [
                          124975.9108
                        ]
                      },
                      {
                        "test": [
                          127900.9214
                        ],
                        "passed_time": 148.3385737,
                        "iteration": 45,
                        "remaining_time": 2431.462709,
                        "learn": [
                          124324.2036
                        ]
                      },
                      {
                        "test": [
                          127246.9244
                        ],
                        "passed_time": 151.5834117,
                        "iteration": 46,
                        "remaining_time": 2428.559767,
                        "learn": [
                          123647.873
                        ]
                      },
                      {
                        "test": [
                          126606.8327
                        ],
                        "passed_time": 154.8007952,
                        "iteration": 47,
                        "remaining_time": 2425.212457,
                        "learn": [
                          122997.1625
                        ]
                      },
                      {
                        "test": [
                          125974.8784
                        ],
                        "passed_time": 158.0005255,
                        "iteration": 48,
                        "remaining_time": 2421.599891,
                        "learn": [
                          122348.7583
                        ]
                      },
                      {
                        "test": [
                          125366.8038
                        ],
                        "passed_time": 161.1384242,
                        "iteration": 49,
                        "remaining_time": 2417.076363,
                        "learn": [
                          121720.6855
                        ]
                      },
                      {
                        "test": [
                          124759.7033
                        ],
                        "passed_time": 164.3829857,
                        "iteration": 50,
                        "remaining_time": 2414.173653,
                        "learn": [
                          121094.8687
                        ]
                      },
                      {
                        "test": [
                          124179.6974
                        ],
                        "passed_time": 167.5797517,
                        "iteration": 51,
                        "remaining_time": 2410.570274,
                        "learn": [
                          120482.7125
                        ]
                      },
                      {
                        "test": [
                          123592.2701
                        ],
                        "passed_time": 170.7447468,
                        "iteration": 52,
                        "remaining_time": 2406.53445,
                        "learn": [
                          119878.0622
                        ]
                      },
                      {
                        "test": [
                          123030.3626
                        ],
                        "passed_time": 173.9527332,
                        "iteration": 53,
                        "remaining_time": 2403.124795,
                        "learn": [
                          119287.9495
                        ]
                      },
                      {
                        "test": [
                          122474.0896
                        ],
                        "passed_time": 177.1355746,
                        "iteration": 54,
                        "remaining_time": 2399.381874,
                        "learn": [
                          118724.8294
                        ]
                      },
                      {
                        "test": [
                          121919.9961
                        ],
                        "passed_time": 180.3557108,
                        "iteration": 55,
                        "remaining_time": 2396.154444,
                        "learn": [
                          118148.7634
                        ]
                      },
                      {
                        "test": [
                          121381.8481
                        ],
                        "passed_time": 183.5628745,
                        "iteration": 56,
                        "remaining_time": 2392.758171,
                        "learn": [
                          117600.0982
                        ]
                      },
                      {
                        "test": [
                          120868.4517
                        ],
                        "passed_time": 186.7848386,
                        "iteration": 57,
                        "remaining_time": 2389.557762,
                        "learn": [
                          117040.9937
                        ]
                      },
                      {
                        "test": [
                          120332.4066
                        ],
                        "passed_time": 189.94337,
                        "iteration": 58,
                        "remaining_time": 2385.559952,
                        "learn": [
                          116478.9297
                        ]
                      },
                      {
                        "test": [
                          119836.181
                        ],
                        "passed_time": 193.1249313,
                        "iteration": 59,
                        "remaining_time": 2381.874153,
                        "learn": [
                          115948.2873
                        ]
                      },
                      {
                        "test": [
                          119321.1596
                        ],
                        "passed_time": 196.3440413,
                        "iteration": 60,
                        "remaining_time": 2378.659779,
                        "learn": [
                          115419.4829
                        ]
                      },
                      {
                        "test": [
                          118802.3816
                        ],
                        "passed_time": 199.5267935,
                        "iteration": 61,
                        "remaining_time": 2375.012477,
                        "learn": [
                          114898.3593
                        ]
                      },
                      {
                        "test": [
                          118325.0456
                        ],
                        "passed_time": 202.7091436,
                        "iteration": 62,
                        "remaining_time": 2371.37522,
                        "learn": [
                          114403.9318
                        ]
                      },
                      {
                        "test": [
                          117861.0636
                        ],
                        "passed_time": 205.8931267,
                        "iteration": 63,
                        "remaining_time": 2367.770956,
                        "learn": [
                          113929.5784
                        ]
                      },
                      {
                        "test": [
                          117389.7845
                        ],
                        "passed_time": 209.1061701,
                        "iteration": 64,
                        "remaining_time": 2364.508231,
                        "learn": [
                          113447.8915
                        ]
                      },
                      {
                        "test": [
                          116916.0005
                        ],
                        "passed_time": 212.3764938,
                        "iteration": 65,
                        "remaining_time": 2361.884037,
                        "learn": [
                          112957.6543
                        ]
                      },
                      {
                        "test": [
                          116435.8401
                        ],
                        "passed_time": 215.5973256,
                        "iteration": 66,
                        "remaining_time": 2358.6991,
                        "learn": [
                          112468.7334
                        ]
                      },
                      {
                        "test": [
                          115994.2999
                        ],
                        "passed_time": 218.8244028,
                        "iteration": 67,
                        "remaining_time": 2355.580336,
                        "learn": [
                          111999.9923
                        ]
                      },
                      {
                        "test": [
                          115553.1763
                        ],
                        "passed_time": 222.0086962,
                        "iteration": 68,
                        "remaining_time": 2352.005173,
                        "learn": [
                          111549.6996
                        ]
                      },
                      {
                        "test": [
                          115119.3043
                        ],
                        "passed_time": 225.16641,
                        "iteration": 69,
                        "remaining_time": 2348.16399,
                        "learn": [
                          111108.2068
                        ]
                      },
                      {
                        "test": [
                          114690.8957
                        ],
                        "passed_time": 228.3435485,
                        "iteration": 70,
                        "remaining_time": 2344.541505,
                        "learn": [
                          110663.2774
                        ]
                      },
                      {
                        "test": [
                          114271.0001
                        ],
                        "passed_time": 231.5109443,
                        "iteration": 71,
                        "remaining_time": 2340.832881,
                        "learn": [
                          110227.3031
                        ]
                      },
                      {
                        "test": [
                          113863.5399
                        ],
                        "passed_time": 234.6842683,
                        "iteration": 72,
                        "remaining_time": 2337.198124,
                        "learn": [
                          109811.3885
                        ]
                      },
                      {
                        "test": [
                          113453.0447
                        ],
                        "passed_time": 237.8568364,
                        "iteration": 73,
                        "remaining_time": 2333.568422,
                        "learn": [
                          109384.5874
                        ]
                      },
                      {
                        "test": [
                          113066.1508
                        ],
                        "passed_time": 241.0117479,
                        "iteration": 74,
                        "remaining_time": 2329.78023,
                        "learn": [
                          108985.7261
                        ]
                      },
                      {
                        "test": [
                          112679.7801
                        ],
                        "passed_time": 244.1204029,
                        "iteration": 75,
                        "remaining_time": 2325.568048,
                        "learn": [
                          108585.0847
                        ]
                      },
                      {
                        "test": [
                          112303.8683
                        ],
                        "passed_time": 247.3664782,
                        "iteration": 76,
                        "remaining_time": 2322.674853,
                        "learn": [
                          108190.2118
                        ]
                      },
                      {
                        "test": [
                          111943.1205
                        ],
                        "passed_time": 250.5509935,
                        "iteration": 77,
                        "remaining_time": 2319.202786,
                        "learn": [
                          107820.6316
                        ]
                      },
                      {
                        "test": [
                          111635.329
                        ],
                        "passed_time": 250.7792043,
                        "iteration": 78,
                        "remaining_time": 2288.757042,
                        "learn": [
                          107526.4446
                        ]
                      },
                      {
                        "test": [
                          111284.7267
                        ],
                        "passed_time": 253.9854759,
                        "iteration": 79,
                        "remaining_time": 2285.869283,
                        "learn": [
                          107127.5356
                        ]
                      },
                      {
                        "test": [
                          110916.4203
                        ],
                        "passed_time": 257.2124012,
                        "iteration": 80,
                        "remaining_time": 2283.156993,
                        "learn": [
                          106749.4115
                        ]
                      },
                      {
                        "test": [
                          110560.2907
                        ],
                        "passed_time": 260.4206463,
                        "iteration": 81,
                        "remaining_time": 2280.268586,
                        "learn": [
                          106373.0897
                        ]
                      },
                      {
                        "test": [
                          110213.3127
                        ],
                        "passed_time": 263.6762161,
                        "iteration": 82,
                        "remaining_time": 2277.781288,
                        "learn": [
                          106006.1672
                        ]
                      },
                      {
                        "test": [
                          109877.1162
                        ],
                        "passed_time": 266.8654311,
                        "iteration": 83,
                        "remaining_time": 2274.710103,
                        "learn": [
                          105642.2921
                        ]
                      },
                      {
                        "test": [
                          109553.0903
                        ],
                        "passed_time": 270.0099262,
                        "iteration": 84,
                        "remaining_time": 2271.259967,
                        "learn": [
                          105293.0582
                        ]
                      },
                      {
                        "test": [
                          109211.2265
                        ],
                        "passed_time": 273.2138159,
                        "iteration": 85,
                        "remaining_time": 2268.310053,
                        "learn": [
                          104935.7588
                        ]
                      },
                      {
                        "test": [
                          108881.3237
                        ],
                        "passed_time": 276.436542,
                        "iteration": 86,
                        "remaining_time": 2265.508672,
                        "learn": [
                          104582.2675
                        ]
                      },
                      {
                        "test": [
                          108558.1724
                        ],
                        "passed_time": 279.6550992,
                        "iteration": 87,
                        "remaining_time": 2262.663984,
                        "learn": [
                          104234.1451
                        ]
                      },
                      {
                        "test": [
                          108231.8582
                        ],
                        "passed_time": 282.8813483,
                        "iteration": 88,
                        "remaining_time": 2259.872344,
                        "learn": [
                          103892.524
                        ]
                      },
                      {
                        "test": [
                          107938.8457
                        ],
                        "passed_time": 286.0886799,
                        "iteration": 89,
                        "remaining_time": 2256.921808,
                        "learn": [
                          103586.1393
                        ]
                      },
                      {
                        "test": [
                          107649.2426
                        ],
                        "passed_time": 289.2843345,
                        "iteration": 90,
                        "remaining_time": 2253.87465,
                        "learn": [
                          103279.0304
                        ]
                      },
                      {
                        "test": [
                          107372.2203
                        ],
                        "passed_time": 292.4424167,
                        "iteration": 91,
                        "remaining_time": 2250.53512,
                        "learn": [
                          102982.9992
                        ]
                      },
                      {
                        "test": [
                          107079.9689
                        ],
                        "passed_time": 295.6556909,
                        "iteration": 92,
                        "remaining_time": 2247.619069,
                        "learn": [
                          102672.2401
                        ]
                      },
                      {
                        "test": [
                          106792.0787
                        ],
                        "passed_time": 298.888347,
                        "iteration": 93,
                        "remaining_time": 2244.842266,
                        "learn": [
                          102360.2422
                        ]
                      },
                      {
                        "test": [
                          106513.2655
                        ],
                        "passed_time": 302.110012,
                        "iteration": 94,
                        "remaining_time": 2241.9743,
                        "learn": [
                          102058.6812
                        ]
                      },
                      {
                        "test": [
                          106240.3019
                        ],
                        "passed_time": 305.2907921,
                        "iteration": 95,
                        "remaining_time": 2238.799142,
                        "learn": [
                          101771.2441
                        ]
                      },
                      {
                        "test": [
                          105960.6614
                        ],
                        "passed_time": 308.4428106,
                        "iteration": 96,
                        "remaining_time": 2235.415421,
                        "learn": [
                          101486.0721
                        ]
                      },
                      {
                        "test": [
                          105695.5576
                        ],
                        "passed_time": 311.6825077,
                        "iteration": 97,
                        "remaining_time": 2232.664494,
                        "learn": [
                          101193.874
                        ]
                      },
                      {
                        "test": [
                          105438.774
                        ],
                        "passed_time": 314.8394694,
                        "iteration": 98,
                        "remaining_time": 2229.317859,
                        "learn": [
                          100912.9498
                        ]
                      },
                      {
                        "test": [
                          105177.7061
                        ],
                        "passed_time": 318.0335699,
                        "iteration": 99,
                        "remaining_time": 2226.23499,
                        "learn": [
                          100633.4622
                        ]
                      },
                      {
                        "test": [
                          104911.9143
                        ],
                        "passed_time": 321.2236974,
                        "iteration": 100,
                        "remaining_time": 2223.12242,
                        "learn": [
                          100344.0946
                        ]
                      },
                      {
                        "test": [
                          104638.7945
                        ],
                        "passed_time": 324.4339944,
                        "iteration": 101,
                        "remaining_time": 2220.146354,
                        "learn": [
                          100061.2182
                        ]
                      },
                      {
                        "test": [
                          104397.2508
                        ],
                        "passed_time": 327.6803666,
                        "iteration": 102,
                        "remaining_time": 2217.409859,
                        "learn": [
                          99801.58879
                        ]
                      },
                      {
                        "test": [
                          104164.1423
                        ],
                        "passed_time": 330.8867784,
                        "iteration": 103,
                        "remaining_time": 2214.396133,
                        "learn": [
                          99531.49813
                        ]
                      },
                      {
                        "test": [
                          103927.6908
                        ],
                        "passed_time": 334.0949009,
                        "iteration": 104,
                        "remaining_time": 2211.390058,
                        "learn": [
                          99277.70862
                        ]
                      },
                      {
                        "test": [
                          103699.3041
                        ],
                        "passed_time": 337.2865556,
                        "iteration": 105,
                        "remaining_time": 2208.272355,
                        "learn": [
                          99033.79641
                        ]
                      },
                      {
                        "test": [
                          103478.2444
                        ],
                        "passed_time": 340.4512208,
                        "iteration": 106,
                        "remaining_time": 2204.978467,
                        "learn": [
                          98779.81366
                        ]
                      },
                      {
                        "test": [
                          103268.4001
                        ],
                        "passed_time": 343.5600353,
                        "iteration": 107,
                        "remaining_time": 2201.329115,
                        "learn": [
                          98564.88894
                        ]
                      },
                      {
                        "test": [
                          103039.142
                        ],
                        "passed_time": 346.7737004,
                        "iteration": 108,
                        "remaining_time": 2198.354376,
                        "learn": [
                          98316.23673
                        ]
                      },
                      {
                        "test": [
                          102828.9253
                        ],
                        "passed_time": 349.9572801,
                        "iteration": 109,
                        "remaining_time": 2195.186575,
                        "learn": [
                          98091.86876
                        ]
                      },
                      {
                        "test": [
                          102623.4037
                        ],
                        "passed_time": 353.1083146,
                        "iteration": 110,
                        "remaining_time": 2191.816475,
                        "learn": [
                          97863.17401
                        ]
                      },
                      {
                        "test": [
                          102423.8071
                        ],
                        "passed_time": 356.3191415,
                        "iteration": 111,
                        "remaining_time": 2188.817584,
                        "learn": [
                          97649.40142
                        ]
                      },
                      {
                        "test": [
                          102214.8262
                        ],
                        "passed_time": 359.4911132,
                        "iteration": 112,
                        "remaining_time": 2185.578715,
                        "learn": [
                          97440.17522
                        ]
                      },
                      {
                        "test": [
                          102000.6434
                        ],
                        "passed_time": 362.6937745,
                        "iteration": 113,
                        "remaining_time": 2182.525696,
                        "learn": [
                          97205.20319
                        ]
                      },
                      {
                        "test": [
                          101782.0278
                        ],
                        "passed_time": 365.8999205,
                        "iteration": 114,
                        "remaining_time": 2179.490831,
                        "learn": [
                          96967.58085
                        ]
                      },
                      {
                        "test": [
                          101574.9437
                        ],
                        "passed_time": 369.0818552,
                        "iteration": 115,
                        "remaining_time": 2176.310249,
                        "learn": [
                          96740.6457
                        ]
                      },
                      {
                        "test": [
                          101365.0178
                        ],
                        "passed_time": 372.2606294,
                        "iteration": 116,
                        "remaining_time": 2173.111195,
                        "learn": [
                          96508.52577
                        ]
                      },
                      {
                        "test": [
                          101180.6258
                        ],
                        "passed_time": 375.3868368,
                        "iteration": 117,
                        "remaining_time": 2169.608667,
                        "learn": [
                          96312.10168
                        ]
                      },
                      {
                        "test": [
                          100982.6398
                        ],
                        "passed_time": 378.5366845,
                        "iteration": 118,
                        "remaining_time": 2166.247749,
                        "learn": [
                          96106.31037
                        ]
                      },
                      {
                        "test": [
                          100796.065
                        ],
                        "passed_time": 381.7348339,
                        "iteration": 119,
                        "remaining_time": 2163.164059,
                        "learn": [
                          95897.615
                        ]
                      },
                      {
                        "test": [
                          100624.3983
                        ],
                        "passed_time": 384.9102555,
                        "iteration": 120,
                        "remaining_time": 2159.950938,
                        "learn": [
                          95693.9365
                        ]
                      },
                      {
                        "test": [
                          100467.1859
                        ],
                        "passed_time": 388.1500638,
                        "iteration": 121,
                        "remaining_time": 2157.096256,
                        "learn": [
                          95523.93413
                        ]
                      },
                      {
                        "test": [
                          100296.561
                        ],
                        "passed_time": 391.2823722,
                        "iteration": 122,
                        "remaining_time": 2153.643626,
                        "learn": [
                          95345.93114
                        ]
                      },
                      {
                        "test": [
                          100115.7082
                        ],
                        "passed_time": 394.5159603,
                        "iteration": 123,
                        "remaining_time": 2150.7483,
                        "learn": [
                          95146.93105
                        ]
                      },
                      {
                        "test": [
                          99940.38108
                        ],
                        "passed_time": 397.7690579,
                        "iteration": 124,
                        "remaining_time": 2147.952913,
                        "learn": [
                          94948.44282
                        ]
                      },
                      {
                        "test": [
                          99781.76968
                        ],
                        "passed_time": 401.0020034,
                        "iteration": 125,
                        "remaining_time": 2145.042462,
                        "learn": [
                          94774.59442
                        ]
                      },
                      {
                        "test": [
                          99620.0496
                        ],
                        "passed_time": 404.2254316,
                        "iteration": 126,
                        "remaining_time": 2142.0765,
                        "learn": [
                          94583.42621
                        ]
                      },
                      {
                        "test": [
                          99446.14211
                        ],
                        "passed_time": 407.4469557,
                        "iteration": 127,
                        "remaining_time": 2139.096518,
                        "learn": [
                          94384.51697
                        ]
                      },
                      {
                        "test": [
                          99281.754
                        ],
                        "passed_time": 410.618567,
                        "iteration": 128,
                        "remaining_time": 2135.853166,
                        "learn": [
                          94211.46879
                        ]
                      },
                      {
                        "test": [
                          99129.46744
                        ],
                        "passed_time": 413.7968471,
                        "iteration": 129,
                        "remaining_time": 2132.645289,
                        "learn": [
                          94033.49748
                        ]
                      },
                      {
                        "test": [
                          98980.06072
                        ],
                        "passed_time": 416.9454116,
                        "iteration": 130,
                        "remaining_time": 2129.28611,
                        "learn": [
                          93861.18641
                        ]
                      },
                      {
                        "test": [
                          98835.0063
                        ],
                        "passed_time": 420.0445016,
                        "iteration": 131,
                        "remaining_time": 2125.67975,
                        "learn": [
                          93687.2382
                        ]
                      },
                      {
                        "test": [
                          98677.5663
                        ],
                        "passed_time": 423.2831208,
                        "iteration": 132,
                        "remaining_time": 2122.780764,
                        "learn": [
                          93498.9604
                        ]
                      },
                      {
                        "test": [
                          98532.21103
                        ],
                        "passed_time": 426.380502,
                        "iteration": 133,
                        "remaining_time": 2119.174734,
                        "learn": [
                          93328.16924
                        ]
                      },
                      {
                        "test": [
                          98393.43047
                        ],
                        "passed_time": 429.5133628,
                        "iteration": 134,
                        "remaining_time": 2115.751009,
                        "learn": [
                          93156.88966
                        ]
                      },
                      {
                        "test": [
                          98256.13403
                        ],
                        "passed_time": 432.6287355,
                        "iteration": 135,
                        "remaining_time": 2112.246179,
                        "learn": [
                          92986.67761
                        ]
                      },
                      {
                        "test": [
                          98116.20214
                        ],
                        "passed_time": 435.7575852,
                        "iteration": 136,
                        "remaining_time": 2108.812255,
                        "learn": [
                          92830.99921
                        ]
                      },
                      {
                        "test": [
                          97988.02281
                        ],
                        "passed_time": 438.9281335,
                        "iteration": 137,
                        "remaining_time": 2105.582785,
                        "learn": [
                          92685.21958
                        ]
                      },
                      {
                        "test": [
                          97843.90259
                        ],
                        "passed_time": 442.1262839,
                        "iteration": 138,
                        "remaining_time": 2102.485422,
                        "learn": [
                          92519.56375
                        ]
                      },
                      {
                        "test": [
                          97707.87002
                        ],
                        "passed_time": 445.2927018,
                        "iteration": 139,
                        "remaining_time": 2099.237023,
                        "learn": [
                          92366.76714
                        ]
                      },
                      {
                        "test": [
                          97563.21124
                        ],
                        "passed_time": 448.4817907,
                        "iteration": 140,
                        "remaining_time": 2096.095745,
                        "learn": [
                          92205.9628
                        ]
                      },
                      {
                        "test": [
                          97431.27709
                        ],
                        "passed_time": 451.6420403,
                        "iteration": 141,
                        "remaining_time": 2092.820159,
                        "learn": [
                          92045.641
                        ]
                      },
                      {
                        "test": [
                          97280.59162
                        ],
                        "passed_time": 454.8343233,
                        "iteration": 142,
                        "remaining_time": 2089.693359,
                        "learn": [
                          91861.26015
                        ]
                      },
                      {
                        "test": [
                          97135.92188
                        ],
                        "passed_time": 458.0031417,
                        "iteration": 143,
                        "remaining_time": 2086.458757,
                        "learn": [
                          91701.08224
                        ]
                      },
                      {
                        "test": [
                          97016.63572
                        ],
                        "passed_time": 461.2343839,
                        "iteration": 144,
                        "remaining_time": 2083.507045,
                        "learn": [
                          91559.03645
                        ]
                      },
                      {
                        "test": [
                          96881.26599
                        ],
                        "passed_time": 464.3922073,
                        "iteration": 145,
                        "remaining_time": 2080.222627,
                        "learn": [
                          91407.56156
                        ]
                      },
                      {
                        "test": [
                          96738.96483
                        ],
                        "passed_time": 467.631899,
                        "iteration": 146,
                        "remaining_time": 2077.303606,
                        "learn": [
                          91236.18994
                        ]
                      },
                      {
                        "test": [
                          96641.1249
                        ],
                        "passed_time": 470.7989688,
                        "iteration": 147,
                        "remaining_time": 2074.060322,
                        "learn": [
                          91125.40425
                        ]
                      },
                      {
                        "test": [
                          96514.47563
                        ],
                        "passed_time": 474.0555875,
                        "iteration": 148,
                        "remaining_time": 2071.209312,
                        "learn": [
                          90970.26645
                        ]
                      },
                      {
                        "test": [
                          96377.75376
                        ],
                        "passed_time": 477.2221232,
                        "iteration": 149,
                        "remaining_time": 2067.962534,
                        "learn": [
                          90812.16554
                        ]
                      },
                      {
                        "test": [
                          96262.34654
                        ],
                        "passed_time": 480.4869691,
                        "iteration": 150,
                        "remaining_time": 2065.139357,
                        "learn": [
                          90673.89803
                        ]
                      },
                      {
                        "test": [
                          96135.38359
                        ],
                        "passed_time": 483.6461993,
                        "iteration": 151,
                        "remaining_time": 2061.860113,
                        "learn": [
                          90527.29302
                        ]
                      },
                      {
                        "test": [
                          96022.16075
                        ],
                        "passed_time": 486.77717,
                        "iteration": 152,
                        "remaining_time": 2058.462935,
                        "learn": [
                          90391.0676
                        ]
                      },
                      {
                        "test": [
                          95891.09355
                        ],
                        "passed_time": 489.9633513,
                        "iteration": 153,
                        "remaining_time": 2055.300811,
                        "learn": [
                          90244.52896
                        ]
                      },
                      {
                        "test": [
                          95775.13375
                        ],
                        "passed_time": 493.2005476,
                        "iteration": 154,
                        "remaining_time": 2052.350666,
                        "learn": [
                          90094.47294
                        ]
                      },
                      {
                        "test": [
                          95672.79466
                        ],
                        "passed_time": 496.309645,
                        "iteration": 155,
                        "remaining_time": 2048.868022,
                        "learn": [
                          89980.47404
                        ]
                      },
                      {
                        "test": [
                          95554.24354
                        ],
                        "passed_time": 499.4096336,
                        "iteration": 156,
                        "remaining_time": 2045.352831,
                        "learn": [
                          89848.2398
                        ]
                      },
                      {
                        "test": [
                          95428.8801
                        ],
                        "passed_time": 502.483148,
                        "iteration": 157,
                        "remaining_time": 2041.735323,
                        "learn": [
                          89703.80643
                        ]
                      },
                      {
                        "test": [
                          95318.98681
                        ],
                        "passed_time": 505.6483502,
                        "iteration": 158,
                        "remaining_time": 2038.494292,
                        "learn": [
                          89571.59678
                        ]
                      },
                      {
                        "test": [
                          95200.15624
                        ],
                        "passed_time": 508.8075786,
                        "iteration": 159,
                        "remaining_time": 2035.230315,
                        "learn": [
                          89427.57167
                        ]
                      },
                      {
                        "test": [
                          95075.16816
                        ],
                        "passed_time": 511.8833487,
                        "iteration": 160,
                        "remaining_time": 2031.636396,
                        "learn": [
                          89279.82258
                        ]
                      },
                      {
                        "test": [
                          94960.27959
                        ],
                        "passed_time": 514.9569544,
                        "iteration": 161,
                        "remaining_time": 2028.040351,
                        "learn": [
                          89152.63067
                        ]
                      },
                      {
                        "test": [
                          94850.78588
                        ],
                        "passed_time": 518.0834427,
                        "iteration": 162,
                        "remaining_time": 2024.65738,
                        "learn": [
                          89016.93193
                        ]
                      },
                      {
                        "test": [
                          94729.26367
                        ],
                        "passed_time": 521.1943007,
                        "iteration": 163,
                        "remaining_time": 2021.216922,
                        "learn": [
                          88872.61046
                        ]
                      },
                      {
                        "test": [
                          94620.84761
                        ],
                        "passed_time": 524.3027148,
                        "iteration": 164,
                        "remaining_time": 2017.771054,
                        "learn": [
                          88739.71357
                        ]
                      },
                      {
                        "test": [
                          94508.70422
                        ],
                        "passed_time": 527.4401589,
                        "iteration": 165,
                        "remaining_time": 2014.440125,
                        "learn": [
                          88603.2104
                        ]
                      },
                      {
                        "test": [
                          94400.8006
                        ],
                        "passed_time": 530.5332729,
                        "iteration": 166,
                        "remaining_time": 2010.943484,
                        "learn": [
                          88476.36133
                        ]
                      },
                      {
                        "test": [
                          94283.01471
                        ],
                        "passed_time": 533.6747224,
                        "iteration": 167,
                        "remaining_time": 2007.633479,
                        "learn": [
                          88337.47882
                        ]
                      },
                      {
                        "test": [
                          94177.42304
                        ],
                        "passed_time": 536.812865,
                        "iteration": 168,
                        "remaining_time": 2004.313123,
                        "learn": [
                          88202.1485
                        ]
                      },
                      {
                        "test": [
                          94077.90342
                        ],
                        "passed_time": 539.9923321,
                        "iteration": 169,
                        "remaining_time": 2001.148054,
                        "learn": [
                          88078.60009
                        ]
                      },
                      {
                        "test": [
                          93968.28247
                        ],
                        "passed_time": 543.1090031,
                        "iteration": 170,
                        "remaining_time": 1997.75183,
                        "learn": [
                          87952.84146
                        ]
                      },
                      {
                        "test": [
                          93855.22007
                        ],
                        "passed_time": 546.1904962,
                        "iteration": 171,
                        "remaining_time": 1994.230416,
                        "learn": [
                          87825.30238
                        ]
                      },
                      {
                        "test": [
                          93756.67923
                        ],
                        "passed_time": 549.3135182,
                        "iteration": 172,
                        "remaining_time": 1990.864601,
                        "learn": [
                          87705.0174
                        ]
                      },
                      {
                        "test": [
                          93647.30682
                        ],
                        "passed_time": 552.5170723,
                        "iteration": 173,
                        "remaining_time": 1987.791306,
                        "learn": [
                          87575.60871
                        ]
                      },
                      {
                        "test": [
                          93559.52189
                        ],
                        "passed_time": 555.6505179,
                        "iteration": 174,
                        "remaining_time": 1984.466135,
                        "learn": [
                          87475.64441
                        ]
                      },
                      {
                        "test": [
                          93464.43934
                        ],
                        "passed_time": 558.8224413,
                        "iteration": 175,
                        "remaining_time": 1981.279565,
                        "learn": [
                          87352.01487
                        ]
                      },
                      {
                        "test": [
                          93370.85027
                        ],
                        "passed_time": 561.9323587,
                        "iteration": 176,
                        "remaining_time": 1977.874912,
                        "learn": [
                          87242.94917
                        ]
                      },
                      {
                        "test": [
                          93284.36732
                        ],
                        "passed_time": 565.0140694,
                        "iteration": 177,
                        "remaining_time": 1974.375007,
                        "learn": [
                          87141.27198
                        ]
                      },
                      {
                        "test": [
                          93180.86606
                        ],
                        "passed_time": 568.1268342,
                        "iteration": 178,
                        "remaining_time": 1970.987509,
                        "learn": [
                          87018.3657
                        ]
                      },
                      {
                        "test": [
                          93086.90854
                        ],
                        "passed_time": 571.1962793,
                        "iteration": 179,
                        "remaining_time": 1967.453851,
                        "learn": [
                          86913.98765
                        ]
                      },
                      {
                        "test": [
                          92992.38671
                        ],
                        "passed_time": 574.3797225,
                        "iteration": 180,
                        "remaining_time": 1964.315183,
                        "learn": [
                          86788.88054
                        ]
                      },
                      {
                        "test": [
                          92919.61109
                        ],
                        "passed_time": 577.5087279,
                        "iteration": 181,
                        "remaining_time": 1960.991175,
                        "learn": [
                          86686.02542
                        ]
                      },
                      {
                        "test": [
                          92828.32056
                        ],
                        "passed_time": 580.6617347,
                        "iteration": 182,
                        "remaining_time": 1957.75022,
                        "learn": [
                          86576.95429
                        ]
                      },
                      {
                        "test": [
                          92760.08277
                        ],
                        "passed_time": 583.7541931,
                        "iteration": 183,
                        "remaining_time": 1954.307516,
                        "learn": [
                          86492.41803
                        ]
                      },
                      {
                        "test": [
                          92676.42037
                        ],
                        "passed_time": 586.759154,
                        "iteration": 184,
                        "remaining_time": 1950.577728,
                        "learn": [
                          86397.76901
                        ]
                      },
                      {
                        "test": [
                          92610.09579
                        ],
                        "passed_time": 589.8830842,
                        "iteration": 185,
                        "remaining_time": 1947.248461,
                        "learn": [
                          86318.60742
                        ]
                      },
                      {
                        "test": [
                          92528.12596
                        ],
                        "passed_time": 592.9728548,
                        "iteration": 186,
                        "remaining_time": 1943.809412,
                        "learn": [
                          86210.75374
                        ]
                      },
                      {
                        "test": [
                          92436.44559
                        ],
                        "passed_time": 596.1085115,
                        "iteration": 187,
                        "remaining_time": 1940.523452,
                        "learn": [
                          86101.74901
                        ]
                      },
                      {
                        "test": [
                          92357.78033
                        ],
                        "passed_time": 599.3212398,
                        "iteration": 188,
                        "remaining_time": 1937.488241,
                        "learn": [
                          85993.09941
                        ]
                      },
                      {
                        "test": [
                          92276.93196
                        ],
                        "passed_time": 602.3798096,
                        "iteration": 189,
                        "remaining_time": 1933.956231,
                        "learn": [
                          85899.70647
                        ]
                      },
                      {
                        "test": [
                          92198.47065
                        ],
                        "passed_time": 605.4786823,
                        "iteration": 190,
                        "remaining_time": 1930.557683,
                        "learn": [
                          85804.7184
                        ]
                      },
                      {
                        "test": [
                          92112.32432
                        ],
                        "passed_time": 608.6407853,
                        "iteration": 191,
                        "remaining_time": 1927.362487,
                        "learn": [
                          85701.82695
                        ]
                      },
                      {
                        "test": [
                          92047.82344
                        ],
                        "passed_time": 611.7045981,
                        "iteration": 192,
                        "remaining_time": 1923.858503,
                        "learn": [
                          85625.70553
                        ]
                      },
                      {
                        "test": [
                          91967.74916
                        ],
                        "passed_time": 614.9302094,
                        "iteration": 193,
                        "remaining_time": 1920.864469,
                        "learn": [
                          85513.30622
                        ]
                      },
                      {
                        "test": [
                          91894.19545
                        ],
                        "passed_time": 618.0649003,
                        "iteration": 194,
                        "remaining_time": 1917.585973,
                        "learn": [
                          85418.54722
                        ]
                      },
                      {
                        "test": [
                          91807.91459
                        ],
                        "passed_time": 621.1635101,
                        "iteration": 195,
                        "remaining_time": 1914.197756,
                        "learn": [
                          85322.07744
                        ]
                      },
                      {
                        "test": [
                          91732.31212
                        ],
                        "passed_time": 624.2857659,
                        "iteration": 196,
                        "remaining_time": 1910.884857,
                        "learn": [
                          85239.71076
                        ]
                      },
                      {
                        "test": [
                          91648.39696
                        ],
                        "passed_time": 627.4243112,
                        "iteration": 197,
                        "remaining_time": 1907.623411,
                        "learn": [
                          85135.6788
                        ]
                      },
                      {
                        "test": [
                          91581.39198
                        ],
                        "passed_time": 630.5789283,
                        "iteration": 198,
                        "remaining_time": 1904.411738,
                        "learn": [
                          85043.84319
                        ]
                      },
                      {
                        "test": [
                          91510.55815
                        ],
                        "passed_time": 633.6777146,
                        "iteration": 199,
                        "remaining_time": 1901.033144,
                        "learn": [
                          84952.59435
                        ]
                      },
                      {
                        "test": [
                          91431.22588
                        ],
                        "passed_time": 636.8947286,
                        "iteration": 200,
                        "remaining_time": 1898.009664,
                        "learn": [
                          84841.0428
                        ]
                      },
                      {
                        "test": [
                          91356.99653
                        ],
                        "passed_time": 640.0254815,
                        "iteration": 201,
                        "remaining_time": 1894.728901,
                        "learn": [
                          84740.62399
                        ]
                      },
                      {
                        "test": [
                          91287.47473
                        ],
                        "passed_time": 643.2385697,
                        "iteration": 202,
                        "remaining_time": 1891.691754,
                        "learn": [
                          84634.54648
                        ]
                      },
                      {
                        "test": [
                          91215.40711
                        ],
                        "passed_time": 646.3427368,
                        "iteration": 203,
                        "remaining_time": 1888.334662,
                        "learn": [
                          84541.76756
                        ]
                      },
                      {
                        "test": [
                          91148.17492
                        ],
                        "passed_time": 649.4190531,
                        "iteration": 204,
                        "remaining_time": 1884.899203,
                        "learn": [
                          84465.49951
                        ]
                      },
                      {
                        "test": [
                          91092.56535
                        ],
                        "passed_time": 652.5427945,
                        "iteration": 205,
                        "remaining_time": 1881.60398,
                        "learn": [
                          84395.6169
                        ]
                      },
                      {
                        "test": [
                          91018.67097
                        ],
                        "passed_time": 655.5619814,
                        "iteration": 206,
                        "remaining_time": 1878.010894,
                        "learn": [
                          84308.49003
                        ]
                      },
                      {
                        "test": [
                          90954.84439
                        ],
                        "passed_time": 658.6847452,
                        "iteration": 207,
                        "remaining_time": 1874.718121,
                        "learn": [
                          84228.58481
                        ]
                      },
                      {
                        "test": [
                          90881.56727
                        ],
                        "passed_time": 661.8190063,
                        "iteration": 208,
                        "remaining_time": 1871.459487,
                        "learn": [
                          84129.36371
                        ]
                      },
                      {
                        "test": [
                          90824.77651
                        ],
                        "passed_time": 664.9276985,
                        "iteration": 209,
                        "remaining_time": 1868.1302,
                        "learn": [
                          84055.96734
                        ]
                      },
                      {
                        "test": [
                          90769.60856
                        ],
                        "passed_time": 668.0317413,
                        "iteration": 210,
                        "remaining_time": 1864.790027,
                        "learn": [
                          83975.63689
                        ]
                      },
                      {
                        "test": [
                          90711.79338
                        ],
                        "passed_time": 671.0886498,
                        "iteration": 211,
                        "remaining_time": 1861.32135,
                        "learn": [
                          83899.42745
                        ]
                      },
                      {
                        "test": [
                          90657.32111
                        ],
                        "passed_time": 674.18717,
                        "iteration": 212,
                        "remaining_time": 1857.971215,
                        "learn": [
                          83824.65107
                        ]
                      },
                      {
                        "test": [
                          90604.70739
                        ],
                        "passed_time": 677.2100252,
                        "iteration": 213,
                        "remaining_time": 1854.416237,
                        "learn": [
                          83758.29646
                        ]
                      },
                      {
                        "test": [
                          90550.01381
                        ],
                        "passed_time": 680.3079767,
                        "iteration": 214,
                        "remaining_time": 1851.070541,
                        "learn": [
                          83683.96982
                        ]
                      },
                      {
                        "test": [
                          90494.65233
                        ],
                        "passed_time": 683.4010037,
                        "iteration": 215,
                        "remaining_time": 1847.713825,
                        "learn": [
                          83622.31171
                        ]
                      },
                      {
                        "test": [
                          90436.97028
                        ],
                        "passed_time": 686.4640951,
                        "iteration": 216,
                        "remaining_time": 1844.279113,
                        "learn": [
                          83549.62882
                        ]
                      },
                      {
                        "test": [
                          90374.30656
                        ],
                        "passed_time": 689.5204935,
                        "iteration": 217,
                        "remaining_time": 1840.829941,
                        "learn": [
                          83461.93898
                        ]
                      },
                      {
                        "test": [
                          90311.87539
                        ],
                        "passed_time": 692.6081715,
                        "iteration": 218,
                        "remaining_time": 1837.467341,
                        "learn": [
                          83377.4771
                        ]
                      },
                      {
                        "test": [
                          90255.94302
                        ],
                        "passed_time": 695.6937679,
                        "iteration": 219,
                        "remaining_time": 1834.101752,
                        "learn": [
                          83311.58447
                        ]
                      },
                      {
                        "test": [
                          90212.53866
                        ],
                        "passed_time": 698.8093707,
                        "iteration": 220,
                        "remaining_time": 1830.817311,
                        "learn": [
                          83254.69269
                        ]
                      },
                      {
                        "test": [
                          90152.55805
                        ],
                        "passed_time": 701.8578308,
                        "iteration": 221,
                        "remaining_time": 1827.359577,
                        "learn": [
                          83172.95571
                        ]
                      },
                      {
                        "test": [
                          90101.15529
                        ],
                        "passed_time": 704.8827085,
                        "iteration": 222,
                        "remaining_time": 1823.844497,
                        "learn": [
                          83113.9162
                        ]
                      },
                      {
                        "test": [
                          90052.1284
                        ],
                        "passed_time": 707.9609156,
                        "iteration": 223,
                        "remaining_time": 1820.470926,
                        "learn": [
                          83047.54532
                        ]
                      },
                      {
                        "test": [
                          89998.82907
                        ],
                        "passed_time": 711.0645525,
                        "iteration": 224,
                        "remaining_time": 1817.164968,
                        "learn": [
                          82976.90074
                        ]
                      },
                      {
                        "test": [
                          89955.11066
                        ],
                        "passed_time": 714.2021217,
                        "iteration": 225,
                        "remaining_time": 1813.946982,
                        "learn": [
                          82913.17531
                        ]
                      },
                      {
                        "test": [
                          89903.27057
                        ],
                        "passed_time": 717.3213103,
                        "iteration": 226,
                        "remaining_time": 1810.683308,
                        "learn": [
                          82848.14106
                        ]
                      },
                      {
                        "test": [
                          89846.38463
                        ],
                        "passed_time": 720.5051673,
                        "iteration": 227,
                        "remaining_time": 1807.583139,
                        "learn": [
                          82766.6582
                        ]
                      },
                      {
                        "test": [
                          89788.96985
                        ],
                        "passed_time": 723.5868474,
                        "iteration": 228,
                        "remaining_time": 1804.227467,
                        "learn": [
                          82706.31947
                        ]
                      },
                      {
                        "test": [
                          89732.09113
                        ],
                        "passed_time": 726.7058297,
                        "iteration": 229,
                        "remaining_time": 1800.966621,
                        "learn": [
                          82626.94874
                        ]
                      },
                      {
                        "test": [
                          89669.33266
                        ],
                        "passed_time": 729.844062,
                        "iteration": 230,
                        "remaining_time": 1797.754421,
                        "learn": [
                          82544.53758
                        ]
                      },
                      {
                        "test": [
                          89616.17726
                        ],
                        "passed_time": 732.9845417,
                        "iteration": 231,
                        "remaining_time": 1794.548361,
                        "learn": [
                          82468.96873
                        ]
                      },
                      {
                        "test": [
                          89561.62573
                        ],
                        "passed_time": 736.105655,
                        "iteration": 232,
                        "remaining_time": 1791.295736,
                        "learn": [
                          82390.77104
                        ]
                      },
                      {
                        "test": [
                          89521.95371
                        ],
                        "passed_time": 739.2239994,
                        "iteration": 233,
                        "remaining_time": 1788.037537,
                        "learn": [
                          82334.6877
                        ]
                      },
                      {
                        "test": [
                          89465.06418
                        ],
                        "passed_time": 742.2582015,
                        "iteration": 234,
                        "remaining_time": 1784.578229,
                        "learn": [
                          82264.08074
                        ]
                      },
                      {
                        "test": [
                          89409.67125
                        ],
                        "passed_time": 745.3854324,
                        "iteration": 235,
                        "remaining_time": 1781.344847,
                        "learn": [
                          82186.87068
                        ]
                      },
                      {
                        "test": [
                          89362.73424
                        ],
                        "passed_time": 748.5430716,
                        "iteration": 236,
                        "remaining_time": 1778.184596,
                        "learn": [
                          82124.51724
                        ]
                      },
                      {
                        "test": [
                          89313.58328
                        ],
                        "passed_time": 751.6828121,
                        "iteration": 237,
                        "remaining_time": 1774.982103,
                        "learn": [
                          82055.79007
                        ]
                      },
                      {
                        "test": [
                          89261.90199
                        ],
                        "passed_time": 754.7971275,
                        "iteration": 238,
                        "remaining_time": 1771.720454,
                        "learn": [
                          81987.84955
                        ]
                      },
                      {
                        "test": [
                          89223.29612
                        ],
                        "passed_time": 757.8823867,
                        "iteration": 239,
                        "remaining_time": 1768.392236,
                        "learn": [
                          81940.00202
                        ]
                      },
                      {
                        "test": [
                          89182.13049
                        ],
                        "passed_time": 760.9832294,
                        "iteration": 240,
                        "remaining_time": 1765.102179,
                        "learn": [
                          81886.07269
                        ]
                      },
                      {
                        "test": [
                          89121.77436
                        ],
                        "passed_time": 764.1621285,
                        "iteration": 241,
                        "remaining_time": 1761.993668,
                        "learn": [
                          81806.72489
                        ]
                      },
                      {
                        "test": [
                          89073.89652
                        ],
                        "passed_time": 767.2198739,
                        "iteration": 242,
                        "remaining_time": 1758.606871,
                        "learn": [
                          81740.23753
                        ]
                      },
                      {
                        "test": [
                          89041.32629
                        ],
                        "passed_time": 770.2864314,
                        "iteration": 243,
                        "remaining_time": 1755.242852,
                        "learn": [
                          81703.34246
                        ]
                      },
                      {
                        "test": [
                          88999.56197
                        ],
                        "passed_time": 773.3839121,
                        "iteration": 244,
                        "remaining_time": 1751.951311,
                        "learn": [
                          81649.36014
                        ]
                      },
                      {
                        "test": [
                          88955.29142
                        ],
                        "passed_time": 776.3985942,
                        "iteration": 245,
                        "remaining_time": 1748.474883,
                        "learn": [
                          81598.19167
                        ]
                      },
                      {
                        "test": [
                          88911.87513
                        ],
                        "passed_time": 779.4981554,
                        "iteration": 246,
                        "remaining_time": 1745.192227,
                        "learn": [
                          81532.75107
                        ]
                      },
                      {
                        "test": [
                          88868.39476
                        ],
                        "passed_time": 782.6191563,
                        "iteration": 247,
                        "remaining_time": 1741.958767,
                        "learn": [
                          81466.98822
                        ]
                      },
                      {
                        "test": [
                          88829.56405
                        ],
                        "passed_time": 785.7454706,
                        "iteration": 248,
                        "remaining_time": 1738.737969,
                        "learn": [
                          81405.74982
                        ]
                      },
                      {
                        "test": [
                          88786.66477
                        ],
                        "passed_time": 788.9182447,
                        "iteration": 249,
                        "remaining_time": 1735.620138,
                        "learn": [
                          81341.39863
                        ]
                      },
                      {
                        "test": [
                          88750.54795
                        ],
                        "passed_time": 791.9868741,
                        "iteration": 250,
                        "remaining_time": 1732.274079,
                        "learn": [
                          81293.74466
                        ]
                      },
                      {
                        "test": [
                          88712.76799
                        ],
                        "passed_time": 795.1080819,
                        "iteration": 251,
                        "remaining_time": 1729.044559,
                        "learn": [
                          81246.31146
                        ]
                      },
                      {
                        "test": [
                          88674.88006
                        ],
                        "passed_time": 798.2140619,
                        "iteration": 252,
                        "remaining_time": 1725.782972,
                        "learn": [
                          81193.99073
                        ]
                      },
                      {
                        "test": [
                          88647.56475
                        ],
                        "passed_time": 801.354905,
                        "iteration": 253,
                        "remaining_time": 1722.597552,
                        "learn": [
                          81151.80582
                        ]
                      },
                      {
                        "test": [
                          88613.02878
                        ],
                        "passed_time": 804.4044789,
                        "iteration": 254,
                        "remaining_time": 1719.217416,
                        "learn": [
                          81110.50238
                        ]
                      },
                      {
                        "test": [
                          88569.98781
                        ],
                        "passed_time": 807.5237194,
                        "iteration": 255,
                        "remaining_time": 1715.987904,
                        "learn": [
                          81056.91868
                        ]
                      },
                      {
                        "test": [
                          88525.65499
                        ],
                        "passed_time": 810.6633589,
                        "iteration": 256,
                        "remaining_time": 1712.80235,
                        "learn": [
                          81000.96734
                        ]
                      },
                      {
                        "test": [
                          88482.89676
                        ],
                        "passed_time": 813.8178827,
                        "iteration": 257,
                        "remaining_time": 1709.64842,
                        "learn": [
                          80941.20169
                        ]
                      },
                      {
                        "test": [
                          88438.89432
                        ],
                        "passed_time": 816.93543,
                        "iteration": 258,
                        "remaining_time": 1706.417249,
                        "learn": [
                          80886.56267
                        ]
                      },
                      {
                        "test": [
                          88403.68718
                        ],
                        "passed_time": 820.0402866,
                        "iteration": 259,
                        "remaining_time": 1703.160595,
                        "learn": [
                          80836.67655
                        ]
                      },
                      {
                        "test": [
                          88381.4696
                        ],
                        "passed_time": 823.1756056,
                        "iteration": 260,
                        "remaining_time": 1699.968013,
                        "learn": [
                          80804.44925
                        ]
                      },
                      {
                        "test": [
                          88343.04803
                        ],
                        "passed_time": 826.3157205,
                        "iteration": 261,
                        "remaining_time": 1696.785716,
                        "learn": [
                          80746.04436
                        ]
                      },
                      {
                        "test": [
                          88306.76592
                        ],
                        "passed_time": 829.4145626,
                        "iteration": 262,
                        "remaining_time": 1693.519468,
                        "learn": [
                          80703.49935
                        ]
                      },
                      {
                        "test": [
                          88265.94608
                        ],
                        "passed_time": 832.5498786,
                        "iteration": 263,
                        "remaining_time": 1690.328541,
                        "learn": [
                          80644.21236
                        ]
                      },
                      {
                        "test": [
                          88232.01012
                        ],
                        "passed_time": 835.6817845,
                        "iteration": 264,
                        "remaining_time": 1687.13115,
                        "learn": [
                          80599.96242
                        ]
                      },
                      {
                        "test": [
                          88198.45872
                        ],
                        "passed_time": 838.8114541,
                        "iteration": 265,
                        "remaining_time": 1683.929761,
                        "learn": [
                          80549.97604
                        ]
                      },
                      {
                        "test": [
                          88166.82249
                        ],
                        "passed_time": 841.9334978,
                        "iteration": 266,
                        "remaining_time": 1680.713687,
                        "learn": [
                          80501.34825
                        ]
                      },
                      {
                        "test": [
                          88138.08713
                        ],
                        "passed_time": 845.026922,
                        "iteration": 267,
                        "remaining_time": 1677.441502,
                        "learn": [
                          80460.04802
                        ]
                      },
                      {
                        "test": [
                          88113.45964
                        ],
                        "passed_time": 848.1226251,
                        "iteration": 268,
                        "remaining_time": 1674.175145,
                        "learn": [
                          80425.82046
                        ]
                      },
                      {
                        "test": [
                          88078.32949
                        ],
                        "passed_time": 851.2514576,
                        "iteration": 269,
                        "remaining_time": 1670.975084,
                        "learn": [
                          80384.64751
                        ]
                      },
                      {
                        "test": [
                          88056.49411
                        ],
                        "passed_time": 854.3408418,
                        "iteration": 270,
                        "remaining_time": 1667.698544,
                        "learn": [
                          80349.70321
                        ]
                      },
                      {
                        "test": [
                          88022.86529
                        ],
                        "passed_time": 857.465292,
                        "iteration": 271,
                        "remaining_time": 1664.491449,
                        "learn": [
                          80298.80258
                        ]
                      },
                      {
                        "test": [
                          87983.85631
                        ],
                        "passed_time": 860.6206338,
                        "iteration": 272,
                        "remaining_time": 1661.344593,
                        "learn": [
                          80242.83879
                        ]
                      },
                      {
                        "test": [
                          87952.93656
                        ],
                        "passed_time": 863.6975691,
                        "iteration": 273,
                        "remaining_time": 1658.047158,
                        "learn": [
                          80199.6101
                        ]
                      },
                      {
                        "test": [
                          87905.31171
                        ],
                        "passed_time": 866.8938794,
                        "iteration": 274,
                        "remaining_time": 1654.979224,
                        "learn": [
                          80137.19945
                        ]
                      },
                      {
                        "test": [
                          87877.31478
                        ],
                        "passed_time": 870.024082,
                        "iteration": 275,
                        "remaining_time": 1651.784851,
                        "learn": [
                          80093.69847
                        ]
                      },
                      {
                        "test": [
                          87846.17281
                        ],
                        "passed_time": 873.1151435,
                        "iteration": 276,
                        "remaining_time": 1648.51704,
                        "learn": [
                          80056.21575
                        ]
                      },
                      {
                        "test": [
                          87811.80914
                        ],
                        "passed_time": 876.260004,
                        "iteration": 277,
                        "remaining_time": 1645.351518,
                        "learn": [
                          80006.96555
                        ]
                      },
                      {
                        "test": [
                          87792.39587
                        ],
                        "passed_time": 879.3900726,
                        "iteration": 278,
                        "remaining_time": 1642.158523,
                        "learn": [
                          79974.65564
                        ]
                      },
                      {
                        "test": [
                          87762.41873
                        ],
                        "passed_time": 882.5022724,
                        "iteration": 279,
                        "remaining_time": 1638.932792,
                        "learn": [
                          79938.01265
                        ]
                      },
                      {
                        "test": [
                          87736.774
                        ],
                        "passed_time": 885.5961992,
                        "iteration": 280,
                        "remaining_time": 1635.674119,
                        "learn": [
                          79905.86322
                        ]
                      },
                      {
                        "test": [
                          87708.06606
                        ],
                        "passed_time": 888.6494051,
                        "iteration": 281,
                        "remaining_time": 1632.341815,
                        "learn": [
                          79869.77215
                        ]
                      },
                      {
                        "test": [
                          87673.44001
                        ],
                        "passed_time": 891.8613311,
                        "iteration": 282,
                        "remaining_time": 1629.301442,
                        "learn": [
                          79812.04178
                        ]
                      },
                      {
                        "test": [
                          87650.81662
                        ],
                        "passed_time": 894.9811797,
                        "iteration": 283,
                        "remaining_time": 1626.092566,
                        "learn": [
                          79780.87026
                        ]
                      },
                      {
                        "test": [
                          87618.37156
                        ],
                        "passed_time": 898.0679629,
                        "iteration": 284,
                        "remaining_time": 1622.824565,
                        "learn": [
                          79735.99272
                        ]
                      },
                      {
                        "test": [
                          87593.4129
                        ],
                        "passed_time": 901.1391211,
                        "iteration": 285,
                        "remaining_time": 1619.529749,
                        "learn": [
                          79706.10067
                        ]
                      },
                      {
                        "test": [
                          87565.5838
                        ],
                        "passed_time": 904.2348857,
                        "iteration": 286,
                        "remaining_time": 1616.280475,
                        "learn": [
                          79662.89438
                        ]
                      },
                      {
                        "test": [
                          87533.83911
                        ],
                        "passed_time": 907.3641508,
                        "iteration": 287,
                        "remaining_time": 1613.091824,
                        "learn": [
                          79622.87391
                        ]
                      },
                      {
                        "test": [
                          87502.69969
                        ],
                        "passed_time": 910.4580177,
                        "iteration": 288,
                        "remaining_time": 1609.840993,
                        "learn": [
                          79581.59394
                        ]
                      },
                      {
                        "test": [
                          87472.77849
                        ],
                        "passed_time": 913.6154719,
                        "iteration": 289,
                        "remaining_time": 1606.703071,
                        "learn": [
                          79531.54483
                        ]
                      },
                      {
                        "test": [
                          87443.58179
                        ],
                        "passed_time": 916.8091054,
                        "iteration": 290,
                        "remaining_time": 1603.628298,
                        "learn": [
                          79481.6311
                        ]
                      },
                      {
                        "test": [
                          87421.9574
                        ],
                        "passed_time": 919.8960762,
                        "iteration": 291,
                        "remaining_time": 1600.367146,
                        "learn": [
                          79453.77371
                        ]
                      },
                      {
                        "test": [
                          87399.28312
                        ],
                        "passed_time": 923.0215008,
                        "iteration": 292,
                        "remaining_time": 1597.173723,
                        "learn": [
                          79426.18415
                        ]
                      },
                      {
                        "test": [
                          87368.126
                        ],
                        "passed_time": 926.113029,
                        "iteration": 293,
                        "remaining_time": 1593.922424,
                        "learn": [
                          79387.39059
                        ]
                      },
                      {
                        "test": [
                          87338.21333
                        ],
                        "passed_time": 929.2060497,
                        "iteration": 294,
                        "remaining_time": 1590.674763,
                        "learn": [
                          79350.84211
                        ]
                      },
                      {
                        "test": [
                          87311.43598
                        ],
                        "passed_time": 932.3684769,
                        "iteration": 295,
                        "remaining_time": 1587.546325,
                        "learn": [
                          79311.16785
                        ]
                      },
                      {
                        "test": [
                          87281.53986
                        ],
                        "passed_time": 935.4599106,
                        "iteration": 296,
                        "remaining_time": 1584.297424,
                        "learn": [
                          79264.2693
                        ]
                      },
                      {
                        "test": [
                          87260.29509
                        ],
                        "passed_time": 938.5839398,
                        "iteration": 297,
                        "remaining_time": 1581.104489,
                        "learn": [
                          79232.12931
                        ]
                      },
                      {
                        "test": [
                          87227.88517
                        ],
                        "passed_time": 941.7206807,
                        "iteration": 298,
                        "remaining_time": 1577.933315,
                        "learn": [
                          79188.89308
                        ]
                      },
                      {
                        "test": [
                          87201.59002
                        ],
                        "passed_time": 944.8677299,
                        "iteration": 299,
                        "remaining_time": 1574.77955,
                        "learn": [
                          79154.91577
                        ]
                      },
                      {
                        "test": [
                          87167.66954
                        ],
                        "passed_time": 948.0250707,
                        "iteration": 300,
                        "remaining_time": 1571.642891,
                        "learn": [
                          79108.93791
                        ]
                      },
                      {
                        "test": [
                          87142.6781
                        ],
                        "passed_time": 951.0827531,
                        "iteration": 301,
                        "remaining_time": 1568.341758,
                        "learn": [
                          79068.65102
                        ]
                      },
                      {
                        "test": [
                          87119.78588
                        ],
                        "passed_time": 954.2103486,
                        "iteration": 302,
                        "remaining_time": 1565.156909,
                        "learn": [
                          79033.15696
                        ]
                      },
                      {
                        "test": [
                          87104.34141
                        ],
                        "passed_time": 957.3026236,
                        "iteration": 303,
                        "remaining_time": 1561.914807,
                        "learn": [
                          79012.33706
                        ]
                      },
                      {
                        "test": [
                          87086.67551
                        ],
                        "passed_time": 960.3742586,
                        "iteration": 304,
                        "remaining_time": 1558.64019,
                        "learn": [
                          78987.63689
                        ]
                      },
                      {
                        "test": [
                          87062.63124
                        ],
                        "passed_time": 963.4379537,
                        "iteration": 305,
                        "remaining_time": 1555.354082,
                        "learn": [
                          78951.3695
                        ]
                      },
                      {
                        "test": [
                          87026.3913
                        ],
                        "passed_time": 966.6401716,
                        "iteration": 306,
                        "remaining_time": 1552.291872,
                        "learn": [
                          78893.36719
                        ]
                      },
                      {
                        "test": [
                          86990.97097
                        ],
                        "passed_time": 969.8101093,
                        "iteration": 307,
                        "remaining_time": 1549.177188,
                        "learn": [
                          78842.58676
                        ]
                      },
                      {
                        "test": [
                          86966.06985
                        ],
                        "passed_time": 972.9248168,
                        "iteration": 308,
                        "remaining_time": 1545.974385,
                        "learn": [
                          78800.29908
                        ]
                      },
                      {
                        "test": [
                          86950.31389
                        ],
                        "passed_time": 976.029474,
                        "iteration": 309,
                        "remaining_time": 1542.756265,
                        "learn": [
                          78776.99634
                        ]
                      },
                      {
                        "test": [
                          86926.28649
                        ],
                        "passed_time": 979.1198199,
                        "iteration": 310,
                        "remaining_time": 1539.516373,
                        "learn": [
                          78742.37197
                        ]
                      },
                      {
                        "test": [
                          86914.93846
                        ],
                        "passed_time": 982.2096265,
                        "iteration": 311,
                        "remaining_time": 1536.276595,
                        "learn": [
                          78722.54152
                        ]
                      },
                      {
                        "test": [
                          86885.70497
                        ],
                        "passed_time": 985.2687323,
                        "iteration": 312,
                        "remaining_time": 1532.990008,
                        "learn": [
                          78687.40777
                        ]
                      },
                      {
                        "test": [
                          86846.37263
                        ],
                        "passed_time": 988.4161501,
                        "iteration": 313,
                        "remaining_time": 1529.841557,
                        "learn": [
                          78647.17707
                        ]
                      },
                      {
                        "test": [
                          86802.23522
                        ],
                        "passed_time": 991.6299611,
                        "iteration": 314,
                        "remaining_time": 1526.795337,
                        "learn": [
                          78577.35134
                        ]
                      },
                      {
                        "test": [
                          86767.9192
                        ],
                        "passed_time": 994.7881266,
                        "iteration": 315,
                        "remaining_time": 1523.662827,
                        "learn": [
                          78523.23991
                        ]
                      },
                      {
                        "test": [
                          86737.09727
                        ],
                        "passed_time": 997.9450984,
                        "iteration": 316,
                        "remaining_time": 1520.528336,
                        "learn": [
                          78481.96295
                        ]
                      },
                      {
                        "test": [
                          86722.2689
                        ],
                        "passed_time": 1001.043974,
                        "iteration": 317,
                        "remaining_time": 1517.305647,
                        "learn": [
                          78457.204
                        ]
                      },
                      {
                        "test": [
                          86690.40134
                        ],
                        "passed_time": 1004.180217,
                        "iteration": 318,
                        "remaining_time": 1514.140076,
                        "learn": [
                          78407.91249
                        ]
                      },
                      {
                        "test": [
                          86667.41905
                        ],
                        "passed_time": 1007.336644,
                        "iteration": 319,
                        "remaining_time": 1511.004966,
                        "learn": [
                          78375.89451
                        ]
                      },
                      {
                        "test": [
                          86639.59958
                        ],
                        "passed_time": 1010.436713,
                        "iteration": 320,
                        "remaining_time": 1507.785625,
                        "learn": [
                          78337.38552
                        ]
                      },
                      {
                        "test": [
                          86619.95302
                        ],
                        "passed_time": 1013.524248,
                        "iteration": 321,
                        "remaining_time": 1504.548418,
                        "learn": [
                          78316.04447
                        ]
                      },
                      {
                        "test": [
                          86602.50358
                        ],
                        "passed_time": 1016.594038,
                        "iteration": 322,
                        "remaining_time": 1501.285932,
                        "learn": [
                          78286.36251
                        ]
                      },
                      {
                        "test": [
                          86574.25555
                        ],
                        "passed_time": 1019.711941,
                        "iteration": 323,
                        "remaining_time": 1498.09532,
                        "learn": [
                          78242.06999
                        ]
                      },
                      {
                        "test": [
                          86554.48669
                        ],
                        "passed_time": 1022.884107,
                        "iteration": 324,
                        "remaining_time": 1494.984463,
                        "learn": [
                          78199.54367
                        ]
                      },
                      {
                        "test": [
                          86541.26073
                        ],
                        "passed_time": 1026.022325,
                        "iteration": 325,
                        "remaining_time": 1491.823871,
                        "learn": [
                          78177.70627
                        ]
                      },
                      {
                        "test": [
                          86515.44989
                        ],
                        "passed_time": 1029.125318,
                        "iteration": 326,
                        "remaining_time": 1488.612463,
                        "learn": [
                          78142.05062
                        ]
                      },
                      {
                        "test": [
                          86485.69364
                        ],
                        "passed_time": 1032.288064,
                        "iteration": 327,
                        "remaining_time": 1485.487702,
                        "learn": [
                          78096.55315
                        ]
                      },
                      {
                        "test": [
                          86458.11047
                        ],
                        "passed_time": 1035.491509,
                        "iteration": 328,
                        "remaining_time": 1482.420974,
                        "learn": [
                          78050.62916
                        ]
                      },
                      {
                        "test": [
                          86432.97501
                        ],
                        "passed_time": 1038.648956,
                        "iteration": 329,
                        "remaining_time": 1479.287907,
                        "learn": [
                          78006.07028
                        ]
                      },
                      {
                        "test": [
                          86410.48575
                        ],
                        "passed_time": 1041.743346,
                        "iteration": 330,
                        "remaining_time": 1476.065345,
                        "learn": [
                          77965.94358
                        ]
                      },
                      {
                        "test": [
                          86376.32136
                        ],
                        "passed_time": 1044.919666,
                        "iteration": 331,
                        "remaining_time": 1472.959047,
                        "learn": [
                          77911.02946
                        ]
                      },
                      {
                        "test": [
                          86356.46814
                        ],
                        "passed_time": 1048.044126,
                        "iteration": 332,
                        "remaining_time": 1469.779601,
                        "learn": [
                          77884.18178
                        ]
                      },
                      {
                        "test": [
                          86329.55307
                        ],
                        "passed_time": 1051.210384,
                        "iteration": 333,
                        "remaining_time": 1466.6588,
                        "learn": [
                          77849.32221
                        ]
                      },
                      {
                        "test": [
                          86297.34647
                        ],
                        "passed_time": 1054.352252,
                        "iteration": 334,
                        "remaining_time": 1463.503872,
                        "learn": [
                          77806.22943
                        ]
                      },
                      {
                        "test": [
                          86278.23913
                        ],
                        "passed_time": 1057.483232,
                        "iteration": 335,
                        "remaining_time": 1460.333987,
                        "learn": [
                          77774.51754
                        ]
                      },
                      {
                        "test": [
                          86250.98336
                        ],
                        "passed_time": 1060.579252,
                        "iteration": 336,
                        "remaining_time": 1457.116302,
                        "learn": [
                          77741.40241
                        ]
                      },
                      {
                        "test": [
                          86224.46851
                        ],
                        "passed_time": 1063.697879,
                        "iteration": 337,
                        "remaining_time": 1453.930237,
                        "learn": [
                          77705.3176
                        ]
                      },
                      {
                        "test": [
                          86206.87317
                        ],
                        "passed_time": 1066.773388,
                        "iteration": 338,
                        "remaining_time": 1450.685935,
                        "learn": [
                          77676.75382
                        ]
                      },
                      {
                        "test": [
                          86183.28785
                        ],
                        "passed_time": 1069.866994,
                        "iteration": 339,
                        "remaining_time": 1447.467109,
                        "learn": [
                          77641.94609
                        ]
                      },
                      {
                        "test": [
                          86161.60039
                        ],
                        "passed_time": 1072.917189,
                        "iteration": 340,
                        "remaining_time": 1444.190585,
                        "learn": [
                          77608.68758
                        ]
                      },
                      {
                        "test": [
                          86143.14873
                        ],
                        "passed_time": 1075.996934,
                        "iteration": 341,
                        "remaining_time": 1440.954959,
                        "learn": [
                          77578.24245
                        ]
                      },
                      {
                        "test": [
                          86112.17786
                        ],
                        "passed_time": 1079.181117,
                        "iteration": 342,
                        "remaining_time": 1437.85939,
                        "learn": [
                          77527.45701
                        ]
                      },
                      {
                        "test": [
                          86095.88618
                        ],
                        "passed_time": 1082.321974,
                        "iteration": 343,
                        "remaining_time": 1434.705873,
                        "learn": [
                          77496.39477
                        ]
                      },
                      {
                        "test": [
                          86061.41102
                        ],
                        "passed_time": 1085.475646,
                        "iteration": 344,
                        "remaining_time": 1431.56933,
                        "learn": [
                          77450.09965
                        ]
                      },
                      {
                        "test": [
                          86041.93948
                        ],
                        "passed_time": 1088.581527,
                        "iteration": 345,
                        "remaining_time": 1428.36998,
                        "learn": [
                          77421.33396
                        ]
                      },
                      {
                        "test": [
                          86028.8866
                        ],
                        "passed_time": 1091.599785,
                        "iteration": 346,
                        "remaining_time": 1425.05678,
                        "learn": [
                          77403.76928
                        ]
                      },
                      {
                        "test": [
                          86006.1887
                        ],
                        "passed_time": 1094.648678,
                        "iteration": 347,
                        "remaining_time": 1421.785065,
                        "learn": [
                          77367.43641
                        ]
                      },
                      {
                        "test": [
                          85989.78454
                        ],
                        "passed_time": 1097.717861,
                        "iteration": 348,
                        "remaining_time": 1418.540846,
                        "learn": [
                          77344.60876
                        ]
                      },
                      {
                        "test": [
                          85969.61923
                        ],
                        "passed_time": 1100.762029,
                        "iteration": 349,
                        "remaining_time": 1415.265466,
                        "learn": [
                          77317.44972
                        ]
                      },
                      {
                        "test": [
                          85943.23018
                        ],
                        "passed_time": 1103.866982,
                        "iteration": 350,
                        "remaining_time": 1412.06916,
                        "learn": [
                          77279.39739
                        ]
                      },
                      {
                        "test": [
                          85929.55908
                        ],
                        "passed_time": 1106.907583,
                        "iteration": 351,
                        "remaining_time": 1408.791469,
                        "learn": [
                          77255.03284
                        ]
                      },
                      {
                        "test": [
                          85907.29915
                        ],
                        "passed_time": 1110.024597,
                        "iteration": 352,
                        "remaining_time": 1405.611884,
                        "learn": [
                          77225.01475
                        ]
                      },
                      {
                        "test": [
                          85881.19825
                        ],
                        "passed_time": 1113.149296,
                        "iteration": 353,
                        "remaining_time": 1402.442333,
                        "learn": [
                          77190.72173
                        ]
                      },
                      {
                        "test": [
                          85862.16629
                        ],
                        "passed_time": 1116.303982,
                        "iteration": 354,
                        "remaining_time": 1399.310626,
                        "learn": [
                          77155.32346
                        ]
                      },
                      {
                        "test": [
                          85852.12347
                        ],
                        "passed_time": 1119.428865,
                        "iteration": 355,
                        "remaining_time": 1396.141618,
                        "learn": [
                          77137.04169
                        ]
                      },
                      {
                        "test": [
                          85812.82323
                        ],
                        "passed_time": 1122.616614,
                        "iteration": 356,
                        "remaining_time": 1393.050868,
                        "learn": [
                          77067.85483
                        ]
                      },
                      {
                        "test": [
                          85794.16035
                        ],
                        "passed_time": 1125.712169,
                        "iteration": 357,
                        "remaining_time": 1389.845751,
                        "learn": [
                          77041.00265
                        ]
                      },
                      {
                        "test": [
                          85777.33822
                        ],
                        "passed_time": 1126.664038,
                        "iteration": 358,
                        "remaining_time": 1384.007913,
                        "learn": [
                          77018.11816
                        ]
                      },
                      {
                        "test": [
                          85757.86383
                        ],
                        "passed_time": 1129.75479,
                        "iteration": 359,
                        "remaining_time": 1380.81141,
                        "learn": [
                          76989.69498
                        ]
                      },
                      {
                        "test": [
                          85736.0824
                        ],
                        "passed_time": 1132.829184,
                        "iteration": 360,
                        "remaining_time": 1377.595601,
                        "learn": [
                          76960.19402
                        ]
                      },
                      {
                        "test": [
                          85712.81075
                        ],
                        "passed_time": 1135.968497,
                        "iteration": 361,
                        "remaining_time": 1374.459121,
                        "learn": [
                          76925.34072
                        ]
                      },
                      {
                        "test": [
                          85692.42103
                        ],
                        "passed_time": 1139.088312,
                        "iteration": 362,
                        "remaining_time": 1371.299153,
                        "learn": [
                          76893.89933
                        ]
                      },
                      {
                        "test": [
                          85689.58626
                        ],
                        "passed_time": 1139.180829,
                        "iteration": 363,
                        "remaining_time": 1364.513301,
                        "learn": [
                          76891.33335
                        ]
                      },
                      {
                        "test": [
                          85680.48763
                        ],
                        "passed_time": 1142.342495,
                        "iteration": 364,
                        "remaining_time": 1361.421877,
                        "learn": [
                          76870.51867
                        ]
                      },
                      {
                        "test": [
                          85662.31932
                        ],
                        "passed_time": 1145.491178,
                        "iteration": 365,
                        "remaining_time": 1358.314676,
                        "learn": [
                          76833.88341
                        ]
                      },
                      {
                        "test": [
                          85640.03365
                        ],
                        "passed_time": 1148.535424,
                        "iteration": 366,
                        "remaining_time": 1355.084029,
                        "learn": [
                          76804.2039
                        ]
                      },
                      {
                        "test": [
                          85624.1847
                        ],
                        "passed_time": 1151.602882,
                        "iteration": 367,
                        "remaining_time": 1351.881644,
                        "learn": [
                          76776.80244
                        ]
                      },
                      {
                        "test": [
                          85616.5053
                        ],
                        "passed_time": 1154.729019,
                        "iteration": 368,
                        "remaining_time": 1348.74853,
                        "learn": [
                          76759.41921
                        ]
                      },
                      {
                        "test": [
                          85602.34263
                        ],
                        "passed_time": 1157.80771,
                        "iteration": 369,
                        "remaining_time": 1345.560312,
                        "learn": [
                          76738.04588
                        ]
                      },
                      {
                        "test": [
                          85574.72118
                        ],
                        "passed_time": 1161.008072,
                        "iteration": 370,
                        "remaining_time": 1342.513377,
                        "learn": [
                          76690.53087
                        ]
                      },
                      {
                        "test": [
                          85550.78965
                        ],
                        "passed_time": 1164.217851,
                        "iteration": 371,
                        "remaining_time": 1339.476453,
                        "learn": [
                          76653.11311
                        ]
                      },
                      {
                        "test": [
                          85534.46458
                        ],
                        "passed_time": 1167.340104,
                        "iteration": 372,
                        "remaining_time": 1336.338403,
                        "learn": [
                          76621.07391
                        ]
                      },
                      {
                        "test": [
                          85517.4661
                        ],
                        "passed_time": 1170.456127,
                        "iteration": 373,
                        "remaining_time": 1333.193343,
                        "learn": [
                          76593.7085
                        ]
                      },
                      {
                        "test": [
                          85494.62089
                        ],
                        "passed_time": 1173.581475,
                        "iteration": 374,
                        "remaining_time": 1330.059005,
                        "learn": [
                          76562.44704
                        ]
                      },
                      {
                        "test": [
                          85466.68757
                        ],
                        "passed_time": 1176.703846,
                        "iteration": 375,
                        "remaining_time": 1326.921358,
                        "learn": [
                          76522.36995
                        ]
                      },
                      {
                        "test": [
                          85451.93547
                        ],
                        "passed_time": 1179.866289,
                        "iteration": 376,
                        "remaining_time": 1323.828754,
                        "learn": [
                          76490.13716
                        ]
                      },
                      {
                        "test": [
                          85441.28361
                        ],
                        "passed_time": 1182.997146,
                        "iteration": 377,
                        "remaining_time": 1320.700518,
                        "learn": [
                          76471.41732
                        ]
                      },
                      {
                        "test": [
                          85424.31835
                        ],
                        "passed_time": 1186.109999,
                        "iteration": 378,
                        "remaining_time": 1317.552268,
                        "learn": [
                          76446.59357
                        ]
                      },
                      {
                        "test": [
                          85404.3289
                        ],
                        "passed_time": 1189.224464,
                        "iteration": 379,
                        "remaining_time": 1314.405986,
                        "learn": [
                          76414.18328
                        ]
                      },
                      {
                        "test": [
                          85385.0543
                        ],
                        "passed_time": 1192.391974,
                        "iteration": 380,
                        "remaining_time": 1311.318208,
                        "learn": [
                          76386.28035
                        ]
                      },
                      {
                        "test": [
                          85363.25745
                        ],
                        "passed_time": 1195.56556,
                        "iteration": 381,
                        "remaining_time": 1308.23666,
                        "learn": [
                          76344.4118
                        ]
                      },
                      {
                        "test": [
                          85343.13385
                        ],
                        "passed_time": 1198.656465,
                        "iteration": 382,
                        "remaining_time": 1305.06461,
                        "learn": [
                          76312.27354
                        ]
                      },
                      {
                        "test": [
                          85326.21725
                        ],
                        "passed_time": 1201.827721,
                        "iteration": 383,
                        "remaining_time": 1301.980031,
                        "learn": [
                          76281.01714
                        ]
                      },
                      {
                        "test": [
                          85303.02602
                        ],
                        "passed_time": 1204.882623,
                        "iteration": 384,
                        "remaining_time": 1298.769581,
                        "learn": [
                          76246.84039
                        ]
                      },
                      {
                        "test": [
                          85285.41244
                        ],
                        "passed_time": 1207.970813,
                        "iteration": 385,
                        "remaining_time": 1295.595639,
                        "learn": [
                          76213.87954
                        ]
                      },
                      {
                        "test": [
                          85271.51082
                        ],
                        "passed_time": 1211.100168,
                        "iteration": 386,
                        "remaining_time": 1292.466071,
                        "learn": [
                          76190.69713
                        ]
                      },
                      {
                        "test": [
                          85255.77874
                        ],
                        "passed_time": 1214.163618,
                        "iteration": 387,
                        "remaining_time": 1289.266522,
                        "learn": [
                          76166.07795
                        ]
                      },
                      {
                        "test": [
                          85243.26432
                        ],
                        "passed_time": 1217.222631,
                        "iteration": 388,
                        "remaining_time": 1286.062985,
                        "learn": [
                          76144.35251
                        ]
                      },
                      {
                        "test": [
                          85234.39374
                        ],
                        "passed_time": 1220.284167,
                        "iteration": 389,
                        "remaining_time": 1282.862842,
                        "learn": [
                          76130.30915
                        ]
                      },
                      {
                        "test": [
                          85225.96298
                        ],
                        "passed_time": 1223.397922,
                        "iteration": 390,
                        "remaining_time": 1279.718031,
                        "learn": [
                          76115.16714
                        ]
                      },
                      {
                        "test": [
                          85202.4983
                        ],
                        "passed_time": 1226.451249,
                        "iteration": 391,
                        "remaining_time": 1276.510484,
                        "learn": [
                          76081.76916
                        ]
                      },
                      {
                        "test": [
                          85169.78836
                        ],
                        "passed_time": 1229.564313,
                        "iteration": 392,
                        "remaining_time": 1273.365586,
                        "learn": [
                          76031.92991
                        ]
                      },
                      {
                        "test": [
                          85162.3495
                        ],
                        "passed_time": 1232.676357,
                        "iteration": 393,
                        "remaining_time": 1270.219799,
                        "learn": [
                          76015.32422
                        ]
                      },
                      {
                        "test": [
                          85153.28646
                        ],
                        "passed_time": 1235.824906,
                        "iteration": 394,
                        "remaining_time": 1267.111612,
                        "learn": [
                          75994.56752
                        ]
                      },
                      {
                        "test": [
                          85108.64356
                        ],
                        "passed_time": 1239.024083,
                        "iteration": 395,
                        "remaining_time": 1264.054872,
                        "learn": [
                          75928.64961
                        ]
                      },
                      {
                        "test": [
                          85099.73161
                        ],
                        "passed_time": 1239.420925,
                        "iteration": 396,
                        "remaining_time": 1258.152728,
                        "learn": [
                          75915.57216
                        ]
                      },
                      {
                        "test": [
                          85075.19901
                        ],
                        "passed_time": 1242.558536,
                        "iteration": 397,
                        "remaining_time": 1255.046561,
                        "learn": [
                          75884.03693
                        ]
                      },
                      {
                        "test": [
                          85044.8745
                        ],
                        "passed_time": 1245.719882,
                        "iteration": 398,
                        "remaining_time": 1251.964092,
                        "learn": [
                          75843.78197
                        ]
                      },
                      {
                        "test": [
                          85024.6779
                        ],
                        "passed_time": 1248.820307,
                        "iteration": 399,
                        "remaining_time": 1248.820307,
                        "learn": [
                          75811.33766
                        ]
                      },
                      {
                        "test": [
                          85012.28038
                        ],
                        "passed_time": 1251.887057,
                        "iteration": 400,
                        "remaining_time": 1245.643232,
                        "learn": [
                          75794.07638
                        ]
                      },
                      {
                        "test": [
                          84990.79971
                        ],
                        "passed_time": 1255.019316,
                        "iteration": 401,
                        "remaining_time": 1242.531562,
                        "learn": [
                          75755.28847
                        ]
                      },
                      {
                        "test": [
                          84971.01584
                        ],
                        "passed_time": 1258.099654,
                        "iteration": 402,
                        "remaining_time": 1239.368642,
                        "learn": [
                          75720.90888
                        ]
                      },
                      {
                        "test": [
                          84954.56958
                        ],
                        "passed_time": 1261.221208,
                        "iteration": 403,
                        "remaining_time": 1236.24653,
                        "learn": [
                          75690.06532
                        ]
                      },
                      {
                        "test": [
                          84950.14136
                        ],
                        "passed_time": 1264.264129,
                        "iteration": 404,
                        "remaining_time": 1233.047731,
                        "learn": [
                          75681.36422
                        ]
                      },
                      {
                        "test": [
                          84928.92609
                        ],
                        "passed_time": 1267.379637,
                        "iteration": 405,
                        "remaining_time": 1229.92014,
                        "learn": [
                          75649.56939
                        ]
                      },
                      {
                        "test": [
                          84914.05251
                        ],
                        "passed_time": 1270.483591,
                        "iteration": 406,
                        "remaining_time": 1226.781453,
                        "learn": [
                          75626.59095
                        ]
                      },
                      {
                        "test": [
                          84895.0581
                        ],
                        "passed_time": 1273.564602,
                        "iteration": 407,
                        "remaining_time": 1223.620892,
                        "learn": [
                          75596.57418
                        ]
                      },
                      {
                        "test": [
                          84877.29259
                        ],
                        "passed_time": 1276.729236,
                        "iteration": 408,
                        "remaining_time": 1220.540664,
                        "learn": [
                          75568.08588
                        ]
                      },
                      {
                        "test": [
                          84869.16288
                        ],
                        "passed_time": 1279.805296,
                        "iteration": 409,
                        "remaining_time": 1217.375769,
                        "learn": [
                          75555.2264
                        ]
                      },
                      {
                        "test": [
                          84853.28226
                        ],
                        "passed_time": 1282.818918,
                        "iteration": 410,
                        "remaining_time": 1214.152212,
                        "learn": [
                          75534.94817
                        ]
                      },
                      {
                        "test": [
                          84834.45352
                        ],
                        "passed_time": 1285.96397,
                        "iteration": 411,
                        "remaining_time": 1211.053448,
                        "learn": [
                          75502.70493
                        ]
                      },
                      {
                        "test": [
                          84813.74338
                        ],
                        "passed_time": 1289.099234,
                        "iteration": 412,
                        "remaining_time": 1207.945287,
                        "learn": [
                          75466.43736
                        ]
                      },
                      {
                        "test": [
                          84795.2969
                        ],
                        "passed_time": 1292.245137,
                        "iteration": 413,
                        "remaining_time": 1204.846915,
                        "learn": [
                          75437.7499
                        ]
                      },
                      {
                        "test": [
                          84777.34537
                        ],
                        "passed_time": 1295.384485,
                        "iteration": 414,
                        "remaining_time": 1201.742233,
                        "learn": [
                          75411.25102
                        ]
                      },
                      {
                        "test": [
                          84773.25301
                        ],
                        "passed_time": 1298.519854,
                        "iteration": 415,
                        "remaining_time": 1198.633712,
                        "learn": [
                          75401.97651
                        ]
                      },
                      {
                        "test": [
                          84751.67007
                        ],
                        "passed_time": 1301.616643,
                        "iteration": 416,
                        "remaining_time": 1195.489626,
                        "learn": [
                          75371.58489
                        ]
                      },
                      {
                        "test": [
                          84728.28166
                        ],
                        "passed_time": 1304.738757,
                        "iteration": 417,
                        "remaining_time": 1192.368912,
                        "learn": [
                          75336.26604
                        ]
                      },
                      {
                        "test": [
                          84703.83564
                        ],
                        "passed_time": 1307.823041,
                        "iteration": 418,
                        "remaining_time": 1189.213791,
                        "learn": [
                          75304.18619
                        ]
                      },
                      {
                        "test": [
                          84693.88067
                        ],
                        "passed_time": 1310.972119,
                        "iteration": 419,
                        "remaining_time": 1186.117632,
                        "learn": [
                          75274.9856
                        ]
                      },
                      {
                        "test": [
                          84682.98618
                        ],
                        "passed_time": 1314.120369,
                        "iteration": 420,
                        "remaining_time": 1183.020475,
                        "learn": [
                          75258.16026
                        ]
                      },
                      {
                        "test": [
                          84660.98091
                        ],
                        "passed_time": 1317.246393,
                        "iteration": 421,
                        "remaining_time": 1179.903167,
                        "learn": [
                          75228.60166
                        ]
                      },
                      {
                        "test": [
                          84640.9851
                        ],
                        "passed_time": 1320.381709,
                        "iteration": 422,
                        "remaining_time": 1176.7941,
                        "learn": [
                          75194.69891
                        ]
                      },
                      {
                        "test": [
                          84622.7192
                        ],
                        "passed_time": 1323.542199,
                        "iteration": 423,
                        "remaining_time": 1173.707233,
                        "learn": [
                          75163.59842
                        ]
                      },
                      {
                        "test": [
                          84605.79126
                        ],
                        "passed_time": 1326.588851,
                        "iteration": 424,
                        "remaining_time": 1170.519574,
                        "learn": [
                          75139.87586
                        ]
                      },
                      {
                        "test": [
                          84598.30668
                        ],
                        "passed_time": 1329.724382,
                        "iteration": 425,
                        "remaining_time": 1167.410608,
                        "learn": [
                          75118.36328
                        ]
                      },
                      {
                        "test": [
                          84559.49052
                        ],
                        "passed_time": 1332.949782,
                        "iteration": 426,
                        "remaining_time": 1164.38002,
                        "learn": [
                          75054.11446
                        ]
                      },
                      {
                        "test": [
                          84556.44532
                        ],
                        "passed_time": 1336.102848,
                        "iteration": 427,
                        "remaining_time": 1161.285653,
                        "learn": [
                          75039.86233
                        ]
                      },
                      {
                        "test": [
                          84538.9658
                        ],
                        "passed_time": 1339.188248,
                        "iteration": 428,
                        "remaining_time": 1158.132494,
                        "learn": [
                          75015.26098
                        ]
                      },
                      {
                        "test": [
                          84535.18542
                        ],
                        "passed_time": 1342.232578,
                        "iteration": 429,
                        "remaining_time": 1154.944311,
                        "learn": [
                          75004.67406
                        ]
                      },
                      {
                        "test": [
                          84524.62251
                        ],
                        "passed_time": 1345.313105,
                        "iteration": 430,
                        "remaining_time": 1151.787786,
                        "learn": [
                          74981.59869
                        ]
                      },
                      {
                        "test": [
                          84503.28126
                        ],
                        "passed_time": 1348.427807,
                        "iteration": 431,
                        "remaining_time": 1148.660725,
                        "learn": [
                          74944.80308
                        ]
                      },
                      {
                        "test": [
                          84495.52025
                        ],
                        "passed_time": 1351.550402,
                        "iteration": 432,
                        "remaining_time": 1145.54041,
                        "learn": [
                          74924.22936
                        ]
                      },
                      {
                        "test": [
                          84479.88869
                        ],
                        "passed_time": 1354.656722,
                        "iteration": 433,
                        "remaining_time": 1142.40636,
                        "learn": [
                          74896.33831
                        ]
                      },
                      {
                        "test": [
                          84458.89849
                        ],
                        "passed_time": 1357.751317,
                        "iteration": 434,
                        "remaining_time": 1139.262599,
                        "learn": [
                          74865.58798
                        ]
                      },
                      {
                        "test": [
                          84437.75756
                        ],
                        "passed_time": 1360.953325,
                        "iteration": 435,
                        "remaining_time": 1136.208739,
                        "learn": [
                          74820.89166
                        ]
                      },
                      {
                        "test": [
                          84432.66024
                        ],
                        "passed_time": 1364.109286,
                        "iteration": 436,
                        "remaining_time": 1133.115952,
                        "learn": [
                          74799.28788
                        ]
                      },
                      {
                        "test": [
                          84409.97756
                        ],
                        "passed_time": 1367.293207,
                        "iteration": 437,
                        "remaining_time": 1130.045984,
                        "learn": [
                          74760.28223
                        ]
                      },
                      {
                        "test": [
                          84392.15885
                        ],
                        "passed_time": 1370.361135,
                        "iteration": 438,
                        "remaining_time": 1126.880114,
                        "learn": [
                          74734.07593
                        ]
                      },
                      {
                        "test": [
                          84376.46658
                        ],
                        "passed_time": 1373.475049,
                        "iteration": 439,
                        "remaining_time": 1123.752313,
                        "learn": [
                          74708.61066
                        ]
                      },
                      {
                        "test": [
                          84369.96635
                        ],
                        "passed_time": 1376.599574,
                        "iteration": 440,
                        "remaining_time": 1120.633213,
                        "learn": [
                          74688.18637
                        ]
                      },
                      {
                        "test": [
                          84350.24107
                        ],
                        "passed_time": 1379.73291,
                        "iteration": 441,
                        "remaining_time": 1117.521226,
                        "learn": [
                          74658.74906
                        ]
                      },
                      {
                        "test": [
                          84338.17823
                        ],
                        "passed_time": 1382.825511,
                        "iteration": 442,
                        "remaining_time": 1114.376315,
                        "learn": [
                          74638.27255
                        ]
                      },
                      {
                        "test": [
                          84320.50992
                        ],
                        "passed_time": 1385.928118,
                        "iteration": 443,
                        "remaining_time": 1111.239662,
                        "learn": [
                          74609.61519
                        ]
                      },
                      {
                        "test": [
                          84307.58294
                        ],
                        "passed_time": 1389.022762,
                        "iteration": 444,
                        "remaining_time": 1108.09681,
                        "learn": [
                          74586.04769
                        ]
                      },
                      {
                        "test": [
                          84274.84048
                        ],
                        "passed_time": 1392.253752,
                        "iteration": 445,
                        "remaining_time": 1105.062395,
                        "learn": [
                          74535.46011
                        ]
                      },
                      {
                        "test": [
                          84254.86369
                        ],
                        "passed_time": 1395.384464,
                        "iteration": 446,
                        "remaining_time": 1101.94791,
                        "learn": [
                          74504.99495
                        ]
                      },
                      {
                        "test": [
                          84237.73626
                        ],
                        "passed_time": 1398.508076,
                        "iteration": 447,
                        "remaining_time": 1098.827774,
                        "learn": [
                          74478.4586
                        ]
                      },
                      {
                        "test": [
                          84217.57065
                        ],
                        "passed_time": 1401.571227,
                        "iteration": 448,
                        "remaining_time": 1095.660358,
                        "learn": [
                          74444.04971
                        ]
                      },
                      {
                        "test": [
                          84210.68505
                        ],
                        "passed_time": 1404.735156,
                        "iteration": 449,
                        "remaining_time": 1092.571788,
                        "learn": [
                          74421.15347
                        ]
                      },
                      {
                        "test": [
                          84202.31226
                        ],
                        "passed_time": 1407.844507,
                        "iteration": 450,
                        "remaining_time": 1089.44065,
                        "learn": [
                          74406.91545
                        ]
                      },
                      {
                        "test": [
                          84186.1661
                        ],
                        "passed_time": 1411.012965,
                        "iteration": 451,
                        "remaining_time": 1086.355114,
                        "learn": [
                          74375.49039
                        ]
                      },
                      {
                        "test": [
                          84174.46484
                        ],
                        "passed_time": 1414.088881,
                        "iteration": 452,
                        "remaining_time": 1083.198326,
                        "learn": [
                          74354.54857
                        ]
                      },
                      {
                        "test": [
                          84165.4983
                        ],
                        "passed_time": 1417.206808,
                        "iteration": 453,
                        "remaining_time": 1080.073911,
                        "learn": [
                          74338.54101
                        ]
                      },
                      {
                        "test": [
                          84149.60876
                        ],
                        "passed_time": 1420.340472,
                        "iteration": 454,
                        "remaining_time": 1076.961457,
                        "learn": [
                          74316.81879
                        ]
                      },
                      {
                        "test": [
                          84142.47432
                        ],
                        "passed_time": 1423.453827,
                        "iteration": 455,
                        "remaining_time": 1073.833589,
                        "learn": [
                          74300.44893
                        ]
                      },
                      {
                        "test": [
                          84120.84688
                        ],
                        "passed_time": 1426.418707,
                        "iteration": 456,
                        "remaining_time": 1070.594347,
                        "learn": [
                          74272.16769
                        ]
                      },
                      {
                        "test": [
                          84112.80187
                        ],
                        "passed_time": 1429.546908,
                        "iteration": 457,
                        "remaining_time": 1067.478258,
                        "learn": [
                          74251.56478
                        ]
                      },
                      {
                        "test": [
                          84099.86498
                        ],
                        "passed_time": 1432.68153,
                        "iteration": 458,
                        "remaining_time": 1064.366888,
                        "learn": [
                          74222.46772
                        ]
                      },
                      {
                        "test": [
                          84086.98732
                        ],
                        "passed_time": 1435.754949,
                        "iteration": 459,
                        "remaining_time": 1061.210179,
                        "learn": [
                          74204.8978
                        ]
                      },
                      {
                        "test": [
                          84065.98662
                        ],
                        "passed_time": 1438.878383,
                        "iteration": 460,
                        "remaining_time": 1058.090611,
                        "learn": [
                          74171.3957
                        ]
                      },
                      {
                        "test": [
                          84060.45606
                        ],
                        "passed_time": 1441.972002,
                        "iteration": 461,
                        "remaining_time": 1054.949214,
                        "learn": [
                          74157.3108
                        ]
                      },
                      {
                        "test": [
                          84054.59533
                        ],
                        "passed_time": 1445.017549,
                        "iteration": 462,
                        "remaining_time": 1051.773032,
                        "learn": [
                          74148.74164
                        ]
                      },
                      {
                        "test": [
                          84031.18397
                        ],
                        "passed_time": 1448.231181,
                        "iteration": 463,
                        "remaining_time": 1048.719131,
                        "learn": [
                          74103.86157
                        ]
                      },
                      {
                        "test": [
                          84015.45865
                        ],
                        "passed_time": 1451.371155,
                        "iteration": 464,
                        "remaining_time": 1045.611477,
                        "learn": [
                          74079.78672
                        ]
                      },
                      {
                        "test": [
                          83996.37576
                        ],
                        "passed_time": 1454.616411,
                        "iteration": 465,
                        "remaining_time": 1042.579144,
                        "learn": [
                          74030.13718
                        ]
                      },
                      {
                        "test": [
                          83968.27649
                        ],
                        "passed_time": 1457.768422,
                        "iteration": 466,
                        "remaining_time": 1039.47941,
                        "learn": [
                          73988.40534
                        ]
                      },
                      {
                        "test": [
                          83945.9439
                        ],
                        "passed_time": 1461.002251,
                        "iteration": 467,
                        "remaining_time": 1036.437494,
                        "learn": [
                          73948.83299
                        ]
                      },
                      {
                        "test": [
                          83927.95763
                        ],
                        "passed_time": 1464.184482,
                        "iteration": 468,
                        "remaining_time": 1033.358345,
                        "learn": [
                          73914.43556
                        ]
                      },
                      {
                        "test": [
                          83914.24734
                        ],
                        "passed_time": 1467.331545,
                        "iteration": 469,
                        "remaining_time": 1030.254064,
                        "learn": [
                          73885.37785
                        ]
                      },
                      {
                        "test": [
                          83892.04688
                        ],
                        "passed_time": 1470.459516,
                        "iteration": 470,
                        "remaining_time": 1027.136265,
                        "learn": [
                          73844.67246
                        ]
                      },
                      {
                        "test": [
                          83878.06548
                        ],
                        "passed_time": 1473.664376,
                        "iteration": 471,
                        "remaining_time": 1024.071855,
                        "learn": [
                          73819.90069
                        ]
                      },
                      {
                        "test": [
                          83861.01998
                        ],
                        "passed_time": 1476.792179,
                        "iteration": 472,
                        "remaining_time": 1020.953578,
                        "learn": [
                          73795.54208
                        ]
                      },
                      {
                        "test": [
                          83842.71381
                        ],
                        "passed_time": 1479.887503,
                        "iteration": 473,
                        "remaining_time": 1017.812924,
                        "learn": [
                          73762.23151
                        ]
                      },
                      {
                        "test": [
                          83822.12535
                        ],
                        "passed_time": 1483.043269,
                        "iteration": 474,
                        "remaining_time": 1014.713816,
                        "learn": [
                          73729.33036
                        ]
                      },
                      {
                        "test": [
                          83805.10803
                        ],
                        "passed_time": 1486.211488,
                        "iteration": 475,
                        "remaining_time": 1011.622945,
                        "learn": [
                          73698.44644
                        ]
                      },
                      {
                        "test": [
                          83789.90054
                        ],
                        "passed_time": 1489.343779,
                        "iteration": 476,
                        "remaining_time": 1008.507423,
                        "learn": [
                          73672.28751
                        ]
                      },
                      {
                        "test": [
                          83776.77089
                        ],
                        "passed_time": 1492.460903,
                        "iteration": 477,
                        "remaining_time": 1005.381612,
                        "learn": [
                          73651.22856
                        ]
                      },
                      {
                        "test": [
                          83756.06313
                        ],
                        "passed_time": 1495.667227,
                        "iteration": 478,
                        "remaining_time": 1002.315616,
                        "learn": [
                          73612.25815
                        ]
                      },
                      {
                        "test": [
                          83731.77417
                        ],
                        "passed_time": 1498.775283,
                        "iteration": 479,
                        "remaining_time": 999.1835218,
                        "learn": [
                          73579.09975
                        ]
                      },
                      {
                        "test": [
                          83730.35531
                        ],
                        "passed_time": 1501.884583,
                        "iteration": 480,
                        "remaining_time": 996.0523535,
                        "learn": [
                          73568.66067
                        ]
                      },
                      {
                        "test": [
                          83715.32939
                        ],
                        "passed_time": 1505.000173,
                        "iteration": 481,
                        "remaining_time": 992.9254252,
                        "learn": [
                          73540.32684
                        ]
                      },
                      {
                        "test": [
                          83704.68942
                        ],
                        "passed_time": 1508.104069,
                        "iteration": 482,
                        "remaining_time": 989.7908694,
                        "learn": [
                          73518.64455
                        ]
                      },
                      {
                        "test": [
                          83676.45394
                        ],
                        "passed_time": 1511.288822,
                        "iteration": 483,
                        "remaining_time": 986.7092309,
                        "learn": [
                          73478.15876
                        ]
                      },
                      {
                        "test": [
                          83673.7121
                        ],
                        "passed_time": 1514.442144,
                        "iteration": 484,
                        "remaining_time": 983.6067535,
                        "learn": [
                          73467.74347
                        ]
                      },
                      {
                        "test": [
                          83664.0829
                        ],
                        "passed_time": 1517.532998,
                        "iteration": 485,
                        "remaining_time": 980.4637063,
                        "learn": [
                          73444.46101
                        ]
                      },
                      {
                        "test": [
                          83650.22342
                        ],
                        "passed_time": 1520.639199,
                        "iteration": 486,
                        "remaining_time": 977.3307379,
                        "learn": [
                          73424.02316
                        ]
                      },
                      {
                        "test": [
                          83646.12591
                        ],
                        "passed_time": 1523.764442,
                        "iteration": 487,
                        "remaining_time": 974.2100531,
                        "learn": [
                          73403.58307
                        ]
                      },
                      {
                        "test": [
                          83644.59648
                        ],
                        "passed_time": 1526.875313,
                        "iteration": 488,
                        "remaining_time": 971.0802091,
                        "learn": [
                          73395.52072
                        ]
                      },
                      {
                        "test": [
                          83618.76894
                        ],
                        "passed_time": 1530.071185,
                        "iteration": 489,
                        "remaining_time": 968.0042191,
                        "learn": [
                          73350.90911
                        ]
                      },
                      {
                        "test": [
                          83608.81524
                        ],
                        "passed_time": 1533.182219,
                        "iteration": 490,
                        "remaining_time": 964.8743498,
                        "learn": [
                          73333.06893
                        ]
                      },
                      {
                        "test": [
                          83590.50204
                        ],
                        "passed_time": 1536.332754,
                        "iteration": 491,
                        "remaining_time": 961.7692849,
                        "learn": [
                          73299.91546
                        ]
                      },
                      {
                        "test": [
                          83576.00782
                        ],
                        "passed_time": 1539.465062,
                        "iteration": 492,
                        "remaining_time": 958.6526859,
                        "learn": [
                          73276.7079
                        ]
                      },
                      {
                        "test": [
                          83552.44071
                        ],
                        "passed_time": 1542.619655,
                        "iteration": 493,
                        "remaining_time": 955.5498268,
                        "learn": [
                          73229.70594
                        ]
                      },
                      {
                        "test": [
                          83534.33618
                        ],
                        "passed_time": 1545.765974,
                        "iteration": 494,
                        "remaining_time": 952.4416606,
                        "learn": [
                          73199.78754
                        ]
                      },
                      {
                        "test": [
                          83510.3943
                        ],
                        "passed_time": 1548.961752,
                        "iteration": 495,
                        "remaining_time": 949.3636547,
                        "learn": [
                          73159.6334
                        ]
                      },
                      {
                        "test": [
                          83501.08403
                        ],
                        "passed_time": 1552.068795,
                        "iteration": 496,
                        "remaining_time": 946.2310763,
                        "learn": [
                          73144.61952
                        ]
                      },
                      {
                        "test": [
                          83479.4058
                        ],
                        "passed_time": 1555.200057,
                        "iteration": 497,
                        "remaining_time": 943.1132875,
                        "learn": [
                          73111.94143
                        ]
                      },
                      {
                        "test": [
                          83464.8825
                        ],
                        "passed_time": 1558.428588,
                        "iteration": 498,
                        "remaining_time": 940.0541184,
                        "learn": [
                          73073.91617
                        ]
                      },
                      {
                        "test": [
                          83434.09768
                        ],
                        "passed_time": 1561.590156,
                        "iteration": 499,
                        "remaining_time": 936.9540935,
                        "learn": [
                          73018.42369
                        ]
                      },
                      {
                        "test": [
                          83419.67775
                        ],
                        "passed_time": 1564.726425,
                        "iteration": 500,
                        "remaining_time": 933.8387244,
                        "learn": [
                          72990.50066
                        ]
                      },
                      {
                        "test": [
                          83406.30339
                        ],
                        "passed_time": 1567.835604,
                        "iteration": 501,
                        "remaining_time": 930.7071913,
                        "learn": [
                          72969.74072
                        ]
                      },
                      {
                        "test": [
                          83394.84629
                        ],
                        "passed_time": 1570.959955,
                        "iteration": 502,
                        "remaining_time": 927.5847051,
                        "learn": [
                          72948.94567
                        ]
                      },
                      {
                        "test": [
                          83382.8047
                        ],
                        "passed_time": 1574.008323,
                        "iteration": 503,
                        "remaining_time": 924.4175865,
                        "learn": [
                          72929.09517
                        ]
                      },
                      {
                        "test": [
                          83377.42918
                        ],
                        "passed_time": 1577.163936,
                        "iteration": 504,
                        "remaining_time": 921.3135864,
                        "learn": [
                          72913.02586
                        ]
                      },
                      {
                        "test": [
                          83364.7015
                        ],
                        "passed_time": 1580.299456,
                        "iteration": 505,
                        "remaining_time": 918.1977077,
                        "learn": [
                          72890.49511
                        ]
                      },
                      {
                        "test": [
                          83351.72168
                        ],
                        "passed_time": 1583.373139,
                        "iteration": 506,
                        "remaining_time": 915.0460155,
                        "learn": [
                          72871.83675
                        ]
                      },
                      {
                        "test": [
                          83344.73094
                        ],
                        "passed_time": 1586.465837,
                        "iteration": 507,
                        "remaining_time": 911.90556,
                        "learn": [
                          72859.89902
                        ]
                      },
                      {
                        "test": [
                          83329.75075
                        ],
                        "passed_time": 1589.564449,
                        "iteration": 508,
                        "remaining_time": 908.7686733,
                        "learn": [
                          72834.62281
                        ]
                      },
                      {
                        "test": [
                          83314.73327
                        ],
                        "passed_time": 1592.693891,
                        "iteration": 509,
                        "remaining_time": 905.6494672,
                        "learn": [
                          72808.8204
                        ]
                      },
                      {
                        "test": [
                          83311.88197
                        ],
                        "passed_time": 1595.735096,
                        "iteration": 510,
                        "remaining_time": 902.4803183,
                        "learn": [
                          72799.4285
                        ]
                      },
                      {
                        "test": [
                          83300.6588
                        ],
                        "passed_time": 1598.984862,
                        "iteration": 511,
                        "remaining_time": 899.4289851,
                        "learn": [
                          72774.55649
                        ]
                      },
                      {
                        "test": [
                          83289.23455
                        ],
                        "passed_time": 1602.084693,
                        "iteration": 512,
                        "remaining_time": 896.2929956,
                        "learn": [
                          72756.99216
                        ]
                      },
                      {
                        "test": [
                          83275.89515
                        ],
                        "passed_time": 1605.127225,
                        "iteration": 513,
                        "remaining_time": 893.1252654,
                        "learn": [
                          72737.42864
                        ]
                      },
                      {
                        "test": [
                          83269.88034
                        ],
                        "passed_time": 1608.311275,
                        "iteration": 514,
                        "remaining_time": 890.0363368,
                        "learn": [
                          72716.04061
                        ]
                      },
                      {
                        "test": [
                          83266.9274
                        ],
                        "passed_time": 1611.392007,
                        "iteration": 515,
                        "remaining_time": 886.8901747,
                        "learn": [
                          72707.99908
                        ]
                      },
                      {
                        "test": [
                          83249.78662
                        ],
                        "passed_time": 1614.582362,
                        "iteration": 516,
                        "remaining_time": 883.8042717,
                        "learn": [
                          72668.3851
                        ]
                      },
                      {
                        "test": [
                          83236.64679
                        ],
                        "passed_time": 1617.697166,
                        "iteration": 517,
                        "remaining_time": 880.6768357,
                        "learn": [
                          72646.741
                        ]
                      },
                      {
                        "test": [
                          83231.90464
                        ],
                        "passed_time": 1620.846299,
                        "iteration": 518,
                        "remaining_time": 877.5680346,
                        "learn": [
                          72631.96167
                        ]
                      },
                      {
                        "test": [
                          83218.16995
                        ],
                        "passed_time": 1623.946406,
                        "iteration": 519,
                        "remaining_time": 874.4326799,
                        "learn": [
                          72605.78471
                        ]
                      },
                      {
                        "test": [
                          83205.17485
                        ],
                        "passed_time": 1627.023967,
                        "iteration": 520,
                        "remaining_time": 871.2853875,
                        "learn": [
                          72593.84286
                        ]
                      },
                      {
                        "test": [
                          83193.91806
                        ],
                        "passed_time": 1630.159738,
                        "iteration": 521,
                        "remaining_time": 868.1693626,
                        "learn": [
                          72573.30158
                        ]
                      },
                      {
                        "test": [
                          83188.12171
                        ],
                        "passed_time": 1633.252689,
                        "iteration": 522,
                        "remaining_time": 865.0305831,
                        "learn": [
                          72564.07184
                        ]
                      },
                      {
                        "test": [
                          83178.66468
                        ],
                        "passed_time": 1636.342157,
                        "iteration": 523,
                        "remaining_time": 861.8901439,
                        "learn": [
                          72547.28635
                        ]
                      },
                      {
                        "test": [
                          83163.48089
                        ],
                        "passed_time": 1639.460305,
                        "iteration": 524,
                        "remaining_time": 858.7649215,
                        "learn": [
                          72525.58814
                        ]
                      },
                      {
                        "test": [
                          83157.81998
                        ],
                        "passed_time": 1642.652968,
                        "iteration": 525,
                        "remaining_time": 855.6785422,
                        "learn": [
                          72505.68297
                        ]
                      },
                      {
                        "test": [
                          83136.14408
                        ],
                        "passed_time": 1645.840904,
                        "iteration": 526,
                        "remaining_time": 852.5893107,
                        "learn": [
                          72471.29349
                        ]
                      },
                      {
                        "test": [
                          83125.80749
                        ],
                        "passed_time": 1648.953103,
                        "iteration": 527,
                        "remaining_time": 849.4606896,
                        "learn": [
                          72454.24492
                        ]
                      },
                      {
                        "test": [
                          83107.37157
                        ],
                        "passed_time": 1652.135709,
                        "iteration": 528,
                        "remaining_time": 846.3681988,
                        "learn": [
                          72413.2233
                        ]
                      },
                      {
                        "test": [
                          83105.05398
                        ],
                        "passed_time": 1655.280521,
                        "iteration": 529,
                        "remaining_time": 843.2561147,
                        "learn": [
                          72400.75973
                        ]
                      },
                      {
                        "test": [
                          83094.08172
                        ],
                        "passed_time": 1658.587574,
                        "iteration": 530,
                        "remaining_time": 840.2260966,
                        "learn": [
                          72370.79239
                        ]
                      },
                      {
                        "test": [
                          83086.20632
                        ],
                        "passed_time": 1661.743363,
                        "iteration": 531,
                        "remaining_time": 837.1188371,
                        "learn": [
                          72355.11364
                        ]
                      },
                      {
                        "test": [
                          83081.96572
                        ],
                        "passed_time": 1664.834873,
                        "iteration": 532,
                        "remaining_time": 833.9791953,
                        "learn": [
                          72347.10701
                        ]
                      },
                      {
                        "test": [
                          83080.54684
                        ],
                        "passed_time": 1667.974009,
                        "iteration": 533,
                        "remaining_time": 830.8634578,
                        "learn": [
                          72335.25957
                        ]
                      },
                      {
                        "test": [
                          83074.81354
                        ],
                        "passed_time": 1671.168448,
                        "iteration": 534,
                        "remaining_time": 827.7750258,
                        "learn": [
                          72318.47409
                        ]
                      },
                      {
                        "test": [
                          83058.60168
                        ],
                        "passed_time": 1674.271915,
                        "iteration": 535,
                        "remaining_time": 824.6413911,
                        "learn": [
                          72289.92234
                        ]
                      },
                      {
                        "test": [
                          83042.05053
                        ],
                        "passed_time": 1677.481986,
                        "iteration": 536,
                        "remaining_time": 821.560079,
                        "learn": [
                          72256.25075
                        ]
                      },
                      {
                        "test": [
                          83031.99314
                        ],
                        "passed_time": 1680.642826,
                        "iteration": 537,
                        "remaining_time": 818.4543129,
                        "learn": [
                          72228.63228
                        ]
                      },
                      {
                        "test": [
                          83019.84204
                        ],
                        "passed_time": 1683.769943,
                        "iteration": 538,
                        "remaining_time": 815.3320134,
                        "learn": [
                          72203.54182
                        ]
                      },
                      {
                        "test": [
                          83002.56924
                        ],
                        "passed_time": 1686.947494,
                        "iteration": 539,
                        "remaining_time": 812.2339786,
                        "learn": [
                          72176.14485
                        ]
                      },
                      {
                        "test": [
                          82992.32697
                        ],
                        "passed_time": 1690.061728,
                        "iteration": 540,
                        "remaining_time": 809.1053377,
                        "learn": [
                          72155.86337
                        ]
                      },
                      {
                        "test": [
                          82982.57065
                        ],
                        "passed_time": 1693.239917,
                        "iteration": 541,
                        "remaining_time": 806.0071929,
                        "learn": [
                          72137.52763
                        ]
                      },
                      {
                        "test": [
                          82981.37333
                        ],
                        "passed_time": 1696.345319,
                        "iteration": 542,
                        "remaining_time": 802.8743037,
                        "learn": [
                          72125.6342
                        ]
                      },
                      {
                        "test": [
                          82973.99288
                        ],
                        "passed_time": 1699.548948,
                        "iteration": 543,
                        "remaining_time": 799.78774,
                        "learn": [
                          72107.6541
                        ]
                      },
                      {
                        "test": [
                          82970.39349
                        ],
                        "passed_time": 1702.685381,
                        "iteration": 544,
                        "remaining_time": 796.6693066,
                        "learn": [
                          72100.03878
                        ]
                      },
                      {
                        "test": [
                          82956.90016
                        ],
                        "passed_time": 1705.751881,
                        "iteration": 545,
                        "remaining_time": 793.5182745,
                        "learn": [
                          72077.76817
                        ]
                      },
                      {
                        "test": [
                          82954.22294
                        ],
                        "passed_time": 1708.900575,
                        "iteration": 546,
                        "remaining_time": 790.4055678,
                        "learn": [
                          72068.94821
                        ]
                      },
                      {
                        "test": [
                          82944.36293
                        ],
                        "passed_time": 1711.991144,
                        "iteration": 547,
                        "remaining_time": 787.2660005,
                        "learn": [
                          72046.9383
                        ]
                      },
                      {
                        "test": [
                          82932.57515
                        ],
                        "passed_time": 1715.110847,
                        "iteration": 548,
                        "remaining_time": 784.1399317,
                        "learn": [
                          72026.69806
                        ]
                      },
                      {
                        "test": [
                          82928.69879
                        ],
                        "passed_time": 1718.239087,
                        "iteration": 549,
                        "remaining_time": 781.0177666,
                        "learn": [
                          72018.49752
                        ]
                      },
                      {
                        "test": [
                          82913.98402
                        ],
                        "passed_time": 1721.434917,
                        "iteration": 550,
                        "remaining_time": 777.9261242,
                        "learn": [
                          71995.4229
                        ]
                      },
                      {
                        "test": [
                          82911.49787
                        ],
                        "passed_time": 1724.60947,
                        "iteration": 551,
                        "remaining_time": 774.8245446,
                        "learn": [
                          71978.95817
                        ]
                      },
                      {
                        "test": [
                          82894.51709
                        ],
                        "passed_time": 1727.75095,
                        "iteration": 552,
                        "remaining_time": 771.7079288,
                        "learn": [
                          71951.33928
                        ]
                      },
                      {
                        "test": [
                          82889.29185
                        ],
                        "passed_time": 1730.847671,
                        "iteration": 553,
                        "remaining_time": 768.5713484,
                        "learn": [
                          71937.55194
                        ]
                      },
                      {
                        "test": [
                          82876.73344
                        ],
                        "passed_time": 1733.961621,
                        "iteration": 554,
                        "remaining_time": 765.4425172,
                        "learn": [
                          71917.07841
                        ]
                      },
                      {
                        "test": [
                          82868.9197
                        ],
                        "passed_time": 1737.12465,
                        "iteration": 555,
                        "remaining_time": 762.3352781,
                        "learn": [
                          71898.53539
                        ]
                      },
                      {
                        "test": [
                          82856.99167
                        ],
                        "passed_time": 1740.240113,
                        "iteration": 556,
                        "remaining_time": 759.2070871,
                        "learn": [
                          71876.65932
                        ]
                      },
                      {
                        "test": [
                          82835.98112
                        ],
                        "passed_time": 1743.357863,
                        "iteration": 557,
                        "remaining_time": 756.0799335,
                        "learn": [
                          71840.98725
                        ]
                      },
                      {
                        "test": [
                          82823.44069
                        ],
                        "passed_time": 1746.534081,
                        "iteration": 558,
                        "remaining_time": 752.9780206,
                        "learn": [
                          71815.03925
                        ]
                      },
                      {
                        "test": [
                          82810.75194
                        ],
                        "passed_time": 1749.655119,
                        "iteration": 559,
                        "remaining_time": 749.8521937,
                        "learn": [
                          71793.68328
                        ]
                      },
                      {
                        "test": [
                          82793.67657
                        ],
                        "passed_time": 1752.85815,
                        "iteration": 560,
                        "remaining_time": 746.7613152,
                        "learn": [
                          71762.73724
                        ]
                      },
                      {
                        "test": [
                          82786.91643
                        ],
                        "passed_time": 1755.990342,
                        "iteration": 561,
                        "remaining_time": 743.6400379,
                        "learn": [
                          71751.45503
                        ]
                      },
                      {
                        "test": [
                          82786.75868
                        ],
                        "passed_time": 1756.06693,
                        "iteration": 562,
                        "remaining_time": 739.2324378,
                        "learn": [
                          71751.29489
                        ]
                      },
                      {
                        "test": [
                          82769.37946
                        ],
                        "passed_time": 1759.188633,
                        "iteration": 563,
                        "remaining_time": 736.1143925,
                        "learn": [
                          71725.24056
                        ]
                      },
                      {
                        "test": [
                          82750.80035
                        ],
                        "passed_time": 1762.337969,
                        "iteration": 564,
                        "remaining_time": 733.0078279,
                        "learn": [
                          71692.93447
                        ]
                      },
                      {
                        "test": [
                          82741.55847
                        ],
                        "passed_time": 1765.396549,
                        "iteration": 565,
                        "remaining_time": 729.8635911,
                        "learn": [
                          71678.04554
                        ]
                      },
                      {
                        "test": [
                          82729.82282
                        ],
                        "passed_time": 1768.502045,
                        "iteration": 566,
                        "remaining_time": 726.7389357,
                        "learn": [
                          71654.79431
                        ]
                      },
                      {
                        "test": [
                          82717.74539
                        ],
                        "passed_time": 1771.686418,
                        "iteration": 567,
                        "remaining_time": 723.646565,
                        "learn": [
                          71625.79312
                        ]
                      },
                      {
                        "test": [
                          82698.70728
                        ],
                        "passed_time": 1774.932348,
                        "iteration": 568,
                        "remaining_time": 720.5788617,
                        "learn": [
                          71590.29794
                        ]
                      },
                      {
                        "test": [
                          82684.27626
                        ],
                        "passed_time": 1778.181254,
                        "iteration": 569,
                        "remaining_time": 717.5117342,
                        "learn": [
                          71555.13758
                        ]
                      },
                      {
                        "test": [
                          82682.55814
                        ],
                        "passed_time": 1781.241257,
                        "iteration": 570,
                        "remaining_time": 714.3682097,
                        "learn": [
                          71548.52095
                        ]
                      },
                      {
                        "test": [
                          82665.93862
                        ],
                        "passed_time": 1784.324681,
                        "iteration": 571,
                        "remaining_time": 711.2343135,
                        "learn": [
                          71514.90662
                        ]
                      },
                      {
                        "test": [
                          82658.60305
                        ],
                        "passed_time": 1787.491635,
                        "iteration": 572,
                        "remaining_time": 708.1336842,
                        "learn": [
                          71488.43038
                        ]
                      },
                      {
                        "test": [
                          82642.98352
                        ],
                        "passed_time": 1790.605385,
                        "iteration": 573,
                        "remaining_time": 705.0118762,
                        "learn": [
                          71461.35661
                        ]
                      },
                      {
                        "test": [
                          82623.32178
                        ],
                        "passed_time": 1793.767403,
                        "iteration": 574,
                        "remaining_time": 701.908984,
                        "learn": [
                          71428.79531
                        ]
                      },
                      {
                        "test": [
                          82608.61495
                        ],
                        "passed_time": 1796.866012,
                        "iteration": 575,
                        "remaining_time": 698.781227,
                        "learn": [
                          71406.24003
                        ]
                      },
                      {
                        "test": [
                          82603.93555
                        ],
                        "passed_time": 1800.00647,
                        "iteration": 576,
                        "remaining_time": 695.6697449,
                        "learn": [
                          71394.2084
                        ]
                      },
                      {
                        "test": [
                          82588.90562
                        ],
                        "passed_time": 1803.148933,
                        "iteration": 577,
                        "remaining_time": 692.5589329,
                        "learn": [
                          71371.77176
                        ]
                      },
                      {
                        "test": [
                          82577.96736
                        ],
                        "passed_time": 1806.279304,
                        "iteration": 578,
                        "remaining_time": 689.443396,
                        "learn": [
                          71351.60609
                        ]
                      },
                      {
                        "test": [
                          82562.12006
                        ],
                        "passed_time": 1809.315819,
                        "iteration": 579,
                        "remaining_time": 686.2922074,
                        "learn": [
                          71330.81827
                        ]
                      },
                      {
                        "test": [
                          82558.7657
                        ],
                        "passed_time": 1812.406438,
                        "iteration": 580,
                        "remaining_time": 683.161807,
                        "learn": [
                          71319.43417
                        ]
                      },
                      {
                        "test": [
                          82535.33054
                        ],
                        "passed_time": 1815.588596,
                        "iteration": 581,
                        "remaining_time": 680.0658314,
                        "learn": [
                          71272.8288
                        ]
                      },
                      {
                        "test": [
                          82526.18607
                        ],
                        "passed_time": 1818.78429,
                        "iteration": 582,
                        "remaining_time": 676.9745984,
                        "learn": [
                          71251.18617
                        ]
                      },
                      {
                        "test": [
                          82524.60785
                        ],
                        "passed_time": 1821.873441,
                        "iteration": 583,
                        "remaining_time": 673.8436015,
                        "learn": [
                          71238.10125
                        ]
                      },
                      {
                        "test": [
                          82506.52194
                        ],
                        "passed_time": 1824.993108,
                        "iteration": 584,
                        "remaining_time": 670.7239626,
                        "learn": [
                          71207.7924
                        ]
                      },
                      {
                        "test": [
                          82492.35936
                        ],
                        "passed_time": 1828.127869,
                        "iteration": 585,
                        "remaining_time": 667.6098362,
                        "learn": [
                          71180.19507
                        ]
                      },
                      {
                        "test": [
                          82476.25093
                        ],
                        "passed_time": 1831.288264,
                        "iteration": 586,
                        "remaining_time": 664.5049407,
                        "learn": [
                          71150.3749
                        ]
                      },
                      {
                        "test": [
                          82475.4442
                        ],
                        "passed_time": 1834.362025,
                        "iteration": 587,
                        "remaining_time": 661.3686211,
                        "learn": [
                          71144.39405
                        ]
                      },
                      {
                        "test": [
                          82460.04033
                        ],
                        "passed_time": 1837.506352,
                        "iteration": 588,
                        "remaining_time": 658.2577933,
                        "learn": [
                          71115.75506
                        ]
                      },
                      {
                        "test": [
                          82447.688
                        ],
                        "passed_time": 1840.674628,
                        "iteration": 589,
                        "remaining_time": 655.155376,
                        "learn": [
                          71088.12461
                        ]
                      },
                      {
                        "test": [
                          82433.15822
                        ],
                        "passed_time": 1843.82441,
                        "iteration": 590,
                        "remaining_time": 652.0461958,
                        "learn": [
                          71061.65916
                        ]
                      },
                      {
                        "test": [
                          82420.9488
                        ],
                        "passed_time": 1846.974184,
                        "iteration": 591,
                        "remaining_time": 648.9368756,
                        "learn": [
                          71037.35224
                        ]
                      },
                      {
                        "test": [
                          82411.59703
                        ],
                        "passed_time": 1850.114061,
                        "iteration": 592,
                        "remaining_time": 645.823964,
                        "learn": [
                          71012.45061
                        ]
                      },
                      {
                        "test": [
                          82410.14274
                        ],
                        "passed_time": 1853.272649,
                        "iteration": 593,
                        "remaining_time": 642.7174506,
                        "learn": [
                          70998.56964
                        ]
                      },
                      {
                        "test": [
                          82398.58876
                        ],
                        "passed_time": 1856.38651,
                        "iteration": 594,
                        "remaining_time": 639.5953523,
                        "learn": [
                          70978.36801
                        ]
                      },
                      {
                        "test": [
                          82386.7478
                        ],
                        "passed_time": 1859.4528,
                        "iteration": 595,
                        "remaining_time": 636.4569987,
                        "learn": [
                          70960.35714
                        ]
                      },
                      {
                        "test": [
                          82374.62509
                        ],
                        "passed_time": 1862.582791,
                        "iteration": 596,
                        "remaining_time": 633.3405469,
                        "learn": [
                          70940.46386
                        ]
                      },
                      {
                        "test": [
                          82373.84229
                        ],
                        "passed_time": 1865.704101,
                        "iteration": 597,
                        "remaining_time": 630.2211176,
                        "learn": [
                          70928.64388
                        ]
                      },
                      {
                        "test": [
                          82367.19554
                        ],
                        "passed_time": 1868.81567,
                        "iteration": 598,
                        "remaining_time": 627.0984136,
                        "learn": [
                          70913.24463
                        ]
                      },
                      {
                        "test": [
                          82358.51999
                        ],
                        "passed_time": 1871.862571,
                        "iteration": 599,
                        "remaining_time": 623.9541902,
                        "learn": [
                          70897.91369
                        ]
                      },
                      {
                        "test": [
                          82353.32358
                        ],
                        "passed_time": 1874.948322,
                        "iteration": 600,
                        "remaining_time": 620.8231548,
                        "learn": [
                          70885.58117
                        ]
                      },
                      {
                        "test": [
                          82345.4855
                        ],
                        "passed_time": 1878.002293,
                        "iteration": 601,
                        "remaining_time": 617.6818172,
                        "learn": [
                          70872.84074
                        ]
                      },
                      {
                        "test": [
                          82336.50489
                        ],
                        "passed_time": 1881.169989,
                        "iteration": 602,
                        "remaining_time": 614.5779234,
                        "learn": [
                          70859.08718
                        ]
                      },
                      {
                        "test": [
                          82332.99061
                        ],
                        "passed_time": 1884.290677,
                        "iteration": 603,
                        "remaining_time": 611.4585641,
                        "learn": [
                          70846.00538
                        ]
                      },
                      {
                        "test": [
                          82316.30541
                        ],
                        "passed_time": 1887.528135,
                        "iteration": 604,
                        "remaining_time": 608.3768368,
                        "learn": [
                          70810.23198
                        ]
                      },
                      {
                        "test": [
                          82302.29862
                        ],
                        "passed_time": 1890.671934,
                        "iteration": 605,
                        "remaining_time": 605.2646124,
                        "learn": [
                          70786.07398
                        ]
                      },
                      {
                        "test": [
                          82300.05415
                        ],
                        "passed_time": 1893.747979,
                        "iteration": 606,
                        "remaining_time": 602.1307412,
                        "learn": [
                          70778.42482
                        ]
                      },
                      {
                        "test": [
                          82290.54414
                        ],
                        "passed_time": 1896.868408,
                        "iteration": 607,
                        "remaining_time": 599.0110762,
                        "learn": [
                          70758.85298
                        ]
                      },
                      {
                        "test": [
                          82285.01839
                        ],
                        "passed_time": 1900.013906,
                        "iteration": 608,
                        "remaining_time": 595.899271,
                        "learn": [
                          70742.95562
                        ]
                      },
                      {
                        "test": [
                          82268.1608
                        ],
                        "passed_time": 1903.133489,
                        "iteration": 609,
                        "remaining_time": 592.7792835,
                        "learn": [
                          70711.04545
                        ]
                      },
                      {
                        "test": [
                          82265.95411
                        ],
                        "passed_time": 1906.230556,
                        "iteration": 610,
                        "remaining_time": 589.6523325,
                        "learn": [
                          70699.38508
                        ]
                      },
                      {
                        "test": [
                          82264.05353
                        ],
                        "passed_time": 1909.35201,
                        "iteration": 611,
                        "remaining_time": 586.5329705,
                        "learn": [
                          70685.37726
                        ]
                      },
                      {
                        "test": [
                          82262.63753
                        ],
                        "passed_time": 1912.538961,
                        "iteration": 612,
                        "remaining_time": 583.4335819,
                        "learn": [
                          70670.66631
                        ]
                      },
                      {
                        "test": [
                          82259.03368
                        ],
                        "passed_time": 1915.596602,
                        "iteration": 613,
                        "remaining_time": 580.2947361,
                        "learn": [
                          70658.51015
                        ]
                      },
                      {
                        "test": [
                          82248.59844
                        ],
                        "passed_time": 1918.814464,
                        "iteration": 614,
                        "remaining_time": 577.204351,
                        "learn": [
                          70636.80177
                        ]
                      },
                      {
                        "test": [
                          82248.51839
                        ],
                        "passed_time": 1918.876804,
                        "iteration": 615,
                        "remaining_time": 573.1709933,
                        "learn": [
                          70636.69131
                        ]
                      },
                      {
                        "test": [
                          82240.30729
                        ],
                        "passed_time": 1922.014376,
                        "iteration": 616,
                        "remaining_time": 570.0626106,
                        "learn": [
                          70618.50713
                        ]
                      },
                      {
                        "test": [
                          82218.00098
                        ],
                        "passed_time": 1925.256377,
                        "iteration": 617,
                        "remaining_time": 566.9848877,
                        "learn": [
                          70581.16712
                        ]
                      },
                      {
                        "test": [
                          82217.59905
                        ],
                        "passed_time": 1928.311586,
                        "iteration": 618,
                        "remaining_time": 563.8520146,
                        "learn": [
                          70577.33765
                        ]
                      },
                      {
                        "test": [
                          82207.03954
                        ],
                        "passed_time": 1931.469001,
                        "iteration": 619,
                        "remaining_time": 560.7490648,
                        "learn": [
                          70558.95729
                        ]
                      },
                      {
                        "test": [
                          82201.30232
                        ],
                        "passed_time": 1934.59769,
                        "iteration": 620,
                        "remaining_time": 557.6376594,
                        "learn": [
                          70545.09327
                        ]
                      },
                      {
                        "test": [
                          82187.36588
                        ],
                        "passed_time": 1937.777344,
                        "iteration": 621,
                        "remaining_time": 554.5407833,
                        "learn": [
                          70520.97252
                        ]
                      },
                      {
                        "test": [
                          82176.80166
                        ],
                        "passed_time": 1940.876979,
                        "iteration": 622,
                        "remaining_time": 551.4209074,
                        "learn": [
                          70501.80745
                        ]
                      },
                      {
                        "test": [
                          82168.67346
                        ],
                        "passed_time": 1944.049211,
                        "iteration": 623,
                        "remaining_time": 548.3215723,
                        "learn": [
                          70484.37446
                        ]
                      },
                      {
                        "test": [
                          82158.58111
                        ],
                        "passed_time": 1947.272766,
                        "iteration": 624,
                        "remaining_time": 545.2363744,
                        "learn": [
                          70461.88345
                        ]
                      },
                      {
                        "test": [
                          82148.77453
                        ],
                        "passed_time": 1950.423064,
                        "iteration": 625,
                        "remaining_time": 542.1303724,
                        "learn": [
                          70447.3938
                        ]
                      },
                      {
                        "test": [
                          82129.65825
                        ],
                        "passed_time": 1953.651952,
                        "iteration": 626,
                        "remaining_time": 539.0459133,
                        "learn": [
                          70418.33376
                        ]
                      },
                      {
                        "test": [
                          82113.43157
                        ],
                        "passed_time": 1956.840248,
                        "iteration": 627,
                        "remaining_time": 535.9498767,
                        "learn": [
                          70391.04878
                        ]
                      },
                      {
                        "test": [
                          82103.29876
                        ],
                        "passed_time": 1960.027911,
                        "iteration": 628,
                        "remaining_time": 532.8533748,
                        "learn": [
                          70365.47591
                        ]
                      },
                      {
                        "test": [
                          82093.71881
                        ],
                        "passed_time": 1963.263805,
                        "iteration": 629,
                        "remaining_time": 529.7695982,
                        "learn": [
                          70350.53195
                        ]
                      },
                      {
                        "test": [
                          82082.78765
                        ],
                        "passed_time": 1966.439807,
                        "iteration": 630,
                        "remaining_time": 526.6692987,
                        "learn": [
                          70328.25832
                        ]
                      },
                      {
                        "test": [
                          82055.66394
                        ],
                        "passed_time": 1969.705678,
                        "iteration": 631,
                        "remaining_time": 523.5926485,
                        "learn": [
                          70277.03574
                        ]
                      },
                      {
                        "test": [
                          82050.75301
                        ],
                        "passed_time": 1972.836865,
                        "iteration": 632,
                        "remaining_time": 520.479868,
                        "learn": [
                          70266.4827
                        ]
                      },
                      {
                        "test": [
                          82040.77253
                        ],
                        "passed_time": 1975.997276,
                        "iteration": 633,
                        "remaining_time": 517.3746811,
                        "learn": [
                          70248.96598
                        ]
                      },
                      {
                        "test": [
                          82031.60422
                        ],
                        "passed_time": 1979.114404,
                        "iteration": 634,
                        "remaining_time": 514.2580735,
                        "learn": [
                          70232.40287
                        ]
                      },
                      {
                        "test": [
                          82029.61783
                        ],
                        "passed_time": 1982.227045,
                        "iteration": 635,
                        "remaining_time": 511.1403072,
                        "learn": [
                          70226.24162
                        ]
                      },
                      {
                        "test": [
                          82015.08537
                        ],
                        "passed_time": 1985.39156,
                        "iteration": 636,
                        "remaining_time": 508.035831,
                        "learn": [
                          70202.0784
                        ]
                      },
                      {
                        "test": [
                          82013.29717
                        ],
                        "passed_time": 1988.52872,
                        "iteration": 637,
                        "remaining_time": 504.9242206,
                        "learn": [
                          70196.03638
                        ]
                      },
                      {
                        "test": [
                          82010.67953
                        ],
                        "passed_time": 1991.681704,
                        "iteration": 638,
                        "remaining_time": 501.8165169,
                        "learn": [
                          70188.48662
                        ]
                      },
                      {
                        "test": [
                          82002.08497
                        ],
                        "passed_time": 1994.85763,
                        "iteration": 639,
                        "remaining_time": 498.7144076,
                        "learn": [
                          70177.08974
                        ]
                      },
                      {
                        "test": [
                          81983.52496
                        ],
                        "passed_time": 1998.101097,
                        "iteration": 640,
                        "remaining_time": 495.6288212,
                        "learn": [
                          70155.94432
                        ]
                      },
                      {
                        "test": [
                          81971.90015
                        ],
                        "passed_time": 2001.278899,
                        "iteration": 641,
                        "remaining_time": 492.5265826,
                        "learn": [
                          70136.00118
                        ]
                      },
                      {
                        "test": [
                          81969.89846
                        ],
                        "passed_time": 2004.436383,
                        "iteration": 642,
                        "remaining_time": 489.4191478,
                        "learn": [
                          70126.97992
                        ]
                      },
                      {
                        "test": [
                          81961.03941
                        ],
                        "passed_time": 2007.670081,
                        "iteration": 643,
                        "remaining_time": 486.3300196,
                        "learn": [
                          70113.18147
                        ]
                      },
                      {
                        "test": [
                          81950.49785
                        ],
                        "passed_time": 2010.801985,
                        "iteration": 644,
                        "remaining_time": 483.215981,
                        "learn": [
                          70094.39174
                        ]
                      },
                      {
                        "test": [
                          81930.56784
                        ],
                        "passed_time": 2014.024168,
                        "iteration": 645,
                        "remaining_time": 480.1234084,
                        "learn": [
                          70054.00985
                        ]
                      },
                      {
                        "test": [
                          81918.67964
                        ],
                        "passed_time": 2017.12303,
                        "iteration": 646,
                        "remaining_time": 477.0012728,
                        "learn": [
                          70039.13713
                        ]
                      },
                      {
                        "test": [
                          81906.75308
                        ],
                        "passed_time": 2020.287765,
                        "iteration": 647,
                        "remaining_time": 473.8946609,
                        "learn": [
                          70020.25088
                        ]
                      },
                      {
                        "test": [
                          81897.87983
                        ],
                        "passed_time": 2023.436581,
                        "iteration": 648,
                        "remaining_time": 470.784166,
                        "learn": [
                          70007.93169
                        ]
                      },
                      {
                        "test": [
                          81890.55669
                        ],
                        "passed_time": 2026.619345,
                        "iteration": 649,
                        "remaining_time": 467.6813874,
                        "learn": [
                          69992.60843
                        ]
                      },
                      {
                        "test": [
                          81878.6637
                        ],
                        "passed_time": 2029.734811,
                        "iteration": 650,
                        "remaining_time": 464.5629598,
                        "learn": [
                          69972.8142
                        ]
                      },
                      {
                        "test": [
                          81866.62286
                        ],
                        "passed_time": 2032.880585,
                        "iteration": 651,
                        "remaining_time": 461.4514212,
                        "learn": [
                          69953.76677
                        ]
                      },
                      {
                        "test": [
                          81860.4584
                        ],
                        "passed_time": 2036.004258,
                        "iteration": 652,
                        "remaining_time": 458.3348023,
                        "learn": [
                          69945.18391
                        ]
                      },
                      {
                        "test": [
                          81853.12285
                        ],
                        "passed_time": 2039.172698,
                        "iteration": 653,
                        "remaining_time": 455.2281559,
                        "learn": [
                          69930.49961
                        ]
                      },
                      {
                        "test": [
                          81852.01804
                        ],
                        "passed_time": 2042.263416,
                        "iteration": 654,
                        "remaining_time": 452.1041149,
                        "learn": [
                          69923.14065
                        ]
                      },
                      {
                        "test": [
                          81841.77287
                        ],
                        "passed_time": 2045.488984,
                        "iteration": 655,
                        "remaining_time": 449.009777,
                        "learn": [
                          69899.00359
                        ]
                      },
                      {
                        "test": [
                          81835.4087
                        ],
                        "passed_time": 2048.668909,
                        "iteration": 656,
                        "remaining_time": 445.9051049,
                        "learn": [
                          69883.78036
                        ]
                      },
                      {
                        "test": [
                          81827.95801
                        ],
                        "passed_time": 2051.848032,
                        "iteration": 657,
                        "remaining_time": 442.8000313,
                        "learn": [
                          69868.60304
                        ]
                      },
                      {
                        "test": [
                          81827.29878
                        ],
                        "passed_time": 2055.043442,
                        "iteration": 658,
                        "remaining_time": 439.6982174,
                        "learn": [
                          69860.13913
                        ]
                      },
                      {
                        "test": [
                          81825.17067
                        ],
                        "passed_time": 2055.368263,
                        "iteration": 659,
                        "remaining_time": 435.9872073,
                        "learn": [
                          69856.30605
                        ]
                      },
                      {
                        "test": [
                          81812.58996
                        ],
                        "passed_time": 2058.531121,
                        "iteration": 660,
                        "remaining_time": 432.8832464,
                        "learn": [
                          69832.45727
                        ]
                      },
                      {
                        "test": [
                          81785.89651
                        ],
                        "passed_time": 2061.82641,
                        "iteration": 661,
                        "remaining_time": 429.8067139,
                        "learn": [
                          69776.77522
                        ]
                      },
                      {
                        "test": [
                          81771.82002
                        ],
                        "passed_time": 2065.006839,
                        "iteration": 662,
                        "remaining_time": 426.7057873,
                        "learn": [
                          69748.48392
                        ]
                      },
                      {
                        "test": [
                          81766.49398
                        ],
                        "passed_time": 2068.263185,
                        "iteration": 663,
                        "remaining_time": 423.6201704,
                        "learn": [
                          69727.41107
                        ]
                      },
                      {
                        "test": [
                          81753.63861
                        ],
                        "passed_time": 2071.457048,
                        "iteration": 664,
                        "remaining_time": 420.5213557,
                        "learn": [
                          69699.55997
                        ]
                      },
                      {
                        "test": [
                          81750.61178
                        ],
                        "passed_time": 2074.603089,
                        "iteration": 665,
                        "remaining_time": 417.4126335,
                        "learn": [
                          69684.4004
                        ]
                      },
                      {
                        "test": [
                          81742.68033
                        ],
                        "passed_time": 2077.786584,
                        "iteration": 666,
                        "remaining_time": 414.3112678,
                        "learn": [
                          69668.65859
                        ]
                      },
                      {
                        "test": [
                          81742.55488
                        ],
                        "passed_time": 2077.885111,
                        "iteration": 667,
                        "remaining_time": 410.6000519,
                        "learn": [
                          69668.55567
                        ]
                      },
                      {
                        "test": [
                          81733.13671
                        ],
                        "passed_time": 2081.080158,
                        "iteration": 668,
                        "remaining_time": 407.5059802,
                        "learn": [
                          69651.39832
                        ]
                      },
                      {
                        "test": [
                          81715.50566
                        ],
                        "passed_time": 2084.267128,
                        "iteration": 669,
                        "remaining_time": 404.4100397,
                        "learn": [
                          69624.64349
                        ]
                      },
                      {
                        "test": [
                          81714.11286
                        ],
                        "passed_time": 2087.422873,
                        "iteration": 670,
                        "remaining_time": 401.307825,
                        "learn": [
                          69616.93987
                        ]
                      },
                      {
                        "test": [
                          81705.35642
                        ],
                        "passed_time": 2090.56724,
                        "iteration": 671,
                        "remaining_time": 398.2032839,
                        "learn": [
                          69600.96679
                        ]
                      },
                      {
                        "test": [
                          81693.11052
                        ],
                        "passed_time": 2093.728767,
                        "iteration": 672,
                        "remaining_time": 395.1018623,
                        "learn": [
                          69581.89832
                        ]
                      },
                      {
                        "test": [
                          81679.38465
                        ],
                        "passed_time": 2096.910314,
                        "iteration": 673,
                        "remaining_time": 392.0040053,
                        "learn": [
                          69562.17875
                        ]
                      },
                      {
                        "test": [
                          81670.88773
                        ],
                        "passed_time": 2100.101905,
                        "iteration": 674,
                        "remaining_time": 388.9077602,
                        "learn": [
                          69539.85331
                        ]
                      },
                      {
                        "test": [
                          81661.47883
                        ],
                        "passed_time": 2103.232841,
                        "iteration": 675,
                        "remaining_time": 385.8001068,
                        "learn": [
                          69521.07986
                        ]
                      },
                      {
                        "test": [
                          81661.09062
                        ],
                        "passed_time": 2106.412217,
                        "iteration": 676,
                        "remaining_time": 382.7011857,
                        "learn": [
                          69512.4277
                        ]
                      },
                      {
                        "test": [
                          81641.96863
                        ],
                        "passed_time": 2109.671942,
                        "iteration": 677,
                        "remaining_time": 379.6164851,
                        "learn": [
                          69467.44766
                        ]
                      },
                      {
                        "test": [
                          81640.3048
                        ],
                        "passed_time": 2112.785069,
                        "iteration": 678,
                        "remaining_time": 376.5051449,
                        "learn": [
                          69457.40009
                        ]
                      },
                      {
                        "test": [
                          81630.90074
                        ],
                        "passed_time": 2115.911877,
                        "iteration": 679,
                        "remaining_time": 373.3962136,
                        "learn": [
                          69438.23678
                        ]
                      },
                      {
                        "test": [
                          81620.36382
                        ],
                        "passed_time": 2119.115505,
                        "iteration": 680,
                        "remaining_time": 370.3006535,
                        "learn": [
                          69416.34418
                        ]
                      },
                      {
                        "test": [
                          81619.82405
                        ],
                        "passed_time": 2122.273977,
                        "iteration": 681,
                        "remaining_time": 367.1969637,
                        "learn": [
                          69410.61464
                        ]
                      },
                      {
                        "test": [
                          81619.56579
                        ],
                        "passed_time": 2125.367813,
                        "iteration": 682,
                        "remaining_time": 364.0820412,
                        "learn": [
                          69405.3678
                        ]
                      },
                      {
                        "test": [
                          81618.97051
                        ],
                        "passed_time": 2128.484924,
                        "iteration": 683,
                        "remaining_time": 360.9711275,
                        "learn": [
                          69397.21377
                        ]
                      },
                      {
                        "test": [
                          81617.01895
                        ],
                        "passed_time": 2131.535697,
                        "iteration": 684,
                        "remaining_time": 357.8490586,
                        "learn": [
                          69389.59432
                        ]
                      },
                      {
                        "test": [
                          81602.85313
                        ],
                        "passed_time": 2134.712175,
                        "iteration": 685,
                        "remaining_time": 354.7480873,
                        "learn": [
                          69366.39822
                        ]
                      },
                      {
                        "test": [
                          81594.52771
                        ],
                        "passed_time": 2137.798274,
                        "iteration": 686,
                        "remaining_time": 351.6320306,
                        "learn": [
                          69353.13722
                        ]
                      },
                      {
                        "test": [
                          81586.53986
                        ],
                        "passed_time": 2140.971565,
                        "iteration": 687,
                        "remaining_time": 348.5302548,
                        "learn": [
                          69336.57046
                        ]
                      },
                      {
                        "test": [
                          81570.00959
                        ],
                        "passed_time": 2144.155512,
                        "iteration": 688,
                        "remaining_time": 345.4299882,
                        "learn": [
                          69308.64403
                        ]
                      },
                      {
                        "test": [
                          81559.05929
                        ],
                        "passed_time": 2147.355855,
                        "iteration": 689,
                        "remaining_time": 342.3320929,
                        "learn": [
                          69284.50149
                        ]
                      },
                      {
                        "test": [
                          81553.9518
                        ],
                        "passed_time": 2150.530437,
                        "iteration": 690,
                        "remaining_time": 339.2298373,
                        "learn": [
                          69270.44461
                        ]
                      },
                      {
                        "test": [
                          81550.32949
                        ],
                        "passed_time": 2153.710522,
                        "iteration": 691,
                        "remaining_time": 336.1282318,
                        "learn": [
                          69259.5474
                        ]
                      },
                      {
                        "test": [
                          81525.36081
                        ],
                        "passed_time": 2156.904852,
                        "iteration": 692,
                        "remaining_time": 333.0285991,
                        "learn": [
                          69214.1431
                        ]
                      },
                      {
                        "test": [
                          81518.93994
                        ],
                        "passed_time": 2159.986223,
                        "iteration": 693,
                        "remaining_time": 329.9114404,
                        "learn": [
                          69200.58295
                        ]
                      },
                      {
                        "test": [
                          81510.46308
                        ],
                        "passed_time": 2163.027863,
                        "iteration": 694,
                        "remaining_time": 326.7883822,
                        "learn": [
                          69184.45807
                        ]
                      },
                      {
                        "test": [
                          81496.59542
                        ],
                        "passed_time": 2166.153919,
                        "iteration": 695,
                        "remaining_time": 323.6781719,
                        "learn": [
                          69163.41697
                        ]
                      },
                      {
                        "test": [
                          81487.75983
                        ],
                        "passed_time": 2169.33283,
                        "iteration": 696,
                        "remaining_time": 320.5757267,
                        "learn": [
                          69148.18491
                        ]
                      },
                      {
                        "test": [
                          81463.2047
                        ],
                        "passed_time": 2172.496511,
                        "iteration": 697,
                        "remaining_time": 317.4708368,
                        "learn": [
                          69108.8312
                        ]
                      },
                      {
                        "test": [
                          81454.2334
                        ],
                        "passed_time": 2175.693554,
                        "iteration": 698,
                        "remaining_time": 314.3705993,
                        "learn": [
                          69092.68306
                        ]
                      },
                      {
                        "test": [
                          81442.63932
                        ],
                        "passed_time": 2178.838646,
                        "iteration": 699,
                        "remaining_time": 311.2626638,
                        "learn": [
                          69070.57413
                        ]
                      },
                      {
                        "test": [
                          81442.30875
                        ],
                        "passed_time": 2181.946356,
                        "iteration": 700,
                        "remaining_time": 308.1493428,
                        "learn": [
                          69065.11655
                        ]
                      },
                      {
                        "test": [
                          81428.85063
                        ],
                        "passed_time": 2185.153501,
                        "iteration": 701,
                        "remaining_time": 305.0499189,
                        "learn": [
                          69042.7634
                        ]
                      },
                      {
                        "test": [
                          81418.59062
                        ],
                        "passed_time": 2188.249386,
                        "iteration": 702,
                        "remaining_time": 301.934837,
                        "learn": [
                          69028.62152
                        ]
                      },
                      {
                        "test": [
                          81409.15696
                        ],
                        "passed_time": 2191.496402,
                        "iteration": 703,
                        "remaining_time": 298.8404185,
                        "learn": [
                          68998.67606
                        ]
                      },
                      {
                        "test": [
                          81401.22579
                        ],
                        "passed_time": 2194.645139,
                        "iteration": 704,
                        "remaining_time": 295.7323236,
                        "learn": [
                          68984.38476
                        ]
                      },
                      {
                        "test": [
                          81396.94882
                        ],
                        "passed_time": 2197.707447,
                        "iteration": 705,
                        "remaining_time": 292.6126062,
                        "learn": [
                          68974.5955
                        ]
                      },
                      {
                        "test": [
                          81396.64814
                        ],
                        "passed_time": 2197.981622,
                        "iteration": 706,
                        "remaining_time": 289.1262954,
                        "learn": [
                          68973.88863
                        ]
                      },
                      {
                        "test": [
                          81389.96016
                        ],
                        "passed_time": 2201.172046,
                        "iteration": 707,
                        "remaining_time": 286.028006,
                        "learn": [
                          68955.39533
                        ]
                      },
                      {
                        "test": [
                          81381.46907
                        ],
                        "passed_time": 2204.326416,
                        "iteration": 708,
                        "remaining_time": 282.9248291,
                        "learn": [
                          68942.77903
                        ]
                      },
                      {
                        "test": [
                          81367.74374
                        ],
                        "passed_time": 2207.491779,
                        "iteration": 709,
                        "remaining_time": 279.8229016,
                        "learn": [
                          68919.26489
                        ]
                      },
                      {
                        "test": [
                          81362.11364
                        ],
                        "passed_time": 2210.675837,
                        "iteration": 710,
                        "remaining_time": 276.7231357,
                        "learn": [
                          68907.06676
                        ]
                      },
                      {
                        "test": [
                          81355.0512
                        ],
                        "passed_time": 2213.758621,
                        "iteration": 711,
                        "remaining_time": 273.6106161,
                        "learn": [
                          68894.9542
                        ]
                      },
                      {
                        "test": [
                          81353.16924
                        ],
                        "passed_time": 2216.908438,
                        "iteration": 712,
                        "remaining_time": 270.5063592,
                        "learn": [
                          68880.82687
                        ]
                      },
                      {
                        "test": [
                          81339.83616
                        ],
                        "passed_time": 2219.996249,
                        "iteration": 713,
                        "remaining_time": 267.3945061,
                        "learn": [
                          68862.84709
                        ]
                      },
                      {
                        "test": [
                          81338.76497
                        ],
                        "passed_time": 2223.122644,
                        "iteration": 714,
                        "remaining_time": 264.2873074,
                        "learn": [
                          68858.29528
                        ]
                      },
                      {
                        "test": [
                          81328.28185
                        ],
                        "passed_time": 2226.306499,
                        "iteration": 715,
                        "remaining_time": 261.1867959,
                        "learn": [
                          68831.45231
                        ]
                      },
                      {
                        "test": [
                          81306.8125
                        ],
                        "passed_time": 2229.459125,
                        "iteration": 716,
                        "remaining_time": 258.0824371,
                        "learn": [
                          68800.40154
                        ]
                      },
                      {
                        "test": [
                          81305.67516
                        ],
                        "passed_time": 2232.596875,
                        "iteration": 717,
                        "remaining_time": 254.9762448,
                        "learn": [
                          68790.41975
                        ]
                      },
                      {
                        "test": [
                          81296.34483
                        ],
                        "passed_time": 2235.747318,
                        "iteration": 718,
                        "remaining_time": 251.8713946,
                        "learn": [
                          68772.72844
                        ]
                      },
                      {
                        "test": [
                          81295.01618
                        ],
                        "passed_time": 2238.869991,
                        "iteration": 719,
                        "remaining_time": 248.7633323,
                        "learn": [
                          68762.02607
                        ]
                      },
                      {
                        "test": [
                          81278.45544
                        ],
                        "passed_time": 2242.096349,
                        "iteration": 720,
                        "remaining_time": 245.6665903,
                        "learn": [
                          68739.16957
                        ]
                      },
                      {
                        "test": [
                          81275.29557
                        ],
                        "passed_time": 2245.270008,
                        "iteration": 721,
                        "remaining_time": 242.5637959,
                        "learn": [
                          68729.34293
                        ]
                      },
                      {
                        "test": [
                          81267.18163
                        ],
                        "passed_time": 2248.388999,
                        "iteration": 722,
                        "remaining_time": 239.4549833,
                        "learn": [
                          68712.91707
                        ]
                      },
                      {
                        "test": [
                          81260.70844
                        ],
                        "passed_time": 2251.521913,
                        "iteration": 723,
                        "remaining_time": 236.3476041,
                        "learn": [
                          68695.92049
                        ]
                      },
                      {
                        "test": [
                          81255.12522
                        ],
                        "passed_time": 2254.721973,
                        "iteration": 724,
                        "remaining_time": 233.2471007,
                        "learn": [
                          68687.59126
                        ]
                      },
                      {
                        "test": [
                          81253.13527
                        ],
                        "passed_time": 2257.848747,
                        "iteration": 725,
                        "remaining_time": 230.138853,
                        "learn": [
                          68676.8902
                        ]
                      },
                      {
                        "test": [
                          81238.67533
                        ],
                        "passed_time": 2261.016667,
                        "iteration": 726,
                        "remaining_time": 227.034686,
                        "learn": [
                          68658.23255
                        ]
                      },
                      {
                        "test": [
                          81219.07028
                        ],
                        "passed_time": 2264.242645,
                        "iteration": 727,
                        "remaining_time": 223.9360858,
                        "learn": [
                          68627.70979
                        ]
                      },
                      {
                        "test": [
                          81217.08216
                        ],
                        "passed_time": 2267.357905,
                        "iteration": 728,
                        "remaining_time": 220.8263529,
                        "learn": [
                          68619.78659
                        ]
                      },
                      {
                        "test": [
                          81206.44959
                        ],
                        "passed_time": 2270.503082,
                        "iteration": 729,
                        "remaining_time": 217.7194736,
                        "learn": [
                          68603.32079
                        ]
                      },
                      {
                        "test": [
                          81198.60302
                        ],
                        "passed_time": 2273.691286,
                        "iteration": 730,
                        "remaining_time": 214.616551,
                        "learn": [
                          68581.55192
                        ]
                      },
                      {
                        "test": [
                          81186.36208
                        ],
                        "passed_time": 2276.8903,
                        "iteration": 731,
                        "remaining_time": 211.5143994,
                        "learn": [
                          68561.8296
                        ]
                      },
                      {
                        "test": [
                          81185.09492
                        ],
                        "passed_time": 2280.027191,
                        "iteration": 732,
                        "remaining_time": 208.4063053,
                        "learn": [
                          68552.95075
                        ]
                      },
                      {
                        "test": [
                          81173.9709
                        ],
                        "passed_time": 2283.222917,
                        "iteration": 733,
                        "remaining_time": 205.303423,
                        "learn": [
                          68524.89151
                        ]
                      },
                      {
                        "test": [
                          81154.93485
                        ],
                        "passed_time": 2286.464027,
                        "iteration": 734,
                        "remaining_time": 202.2043017,
                        "learn": [
                          68489.24668
                        ]
                      },
                      {
                        "test": [
                          81145.27758
                        ],
                        "passed_time": 2289.63038,
                        "iteration": 735,
                        "remaining_time": 199.0982939,
                        "learn": [
                          68471.95436
                        ]
                      },
                      {
                        "test": [
                          81136.75716
                        ],
                        "passed_time": 2292.758515,
                        "iteration": 736,
                        "remaining_time": 195.9888554,
                        "learn": [
                          68456.01972
                        ]
                      },
                      {
                        "test": [
                          81133.88054
                        ],
                        "passed_time": 2295.956296,
                        "iteration": 737,
                        "remaining_time": 192.8852172,
                        "learn": [
                          68448.28043
                        ]
                      },
                      {
                        "test": [
                          81127.60054
                        ],
                        "passed_time": 2299.0859,
                        "iteration": 738,
                        "remaining_time": 189.7756968,
                        "learn": [
                          68432.12081
                        ]
                      },
                      {
                        "test": [
                          81115.01116
                        ],
                        "passed_time": 2302.254146,
                        "iteration": 739,
                        "remaining_time": 186.6692551,
                        "learn": [
                          68407.61983
                        ]
                      },
                      {
                        "test": [
                          81114.17347
                        ],
                        "passed_time": 2305.373678,
                        "iteration": 740,
                        "remaining_time": 183.5587679,
                        "learn": [
                          68403.8412
                        ]
                      },
                      {
                        "test": [
                          81109.74374
                        ],
                        "passed_time": 2308.512029,
                        "iteration": 741,
                        "remaining_time": 180.4497274,
                        "learn": [
                          68394.88189
                        ]
                      },
                      {
                        "test": [
                          81103.23648
                        ],
                        "passed_time": 2311.652106,
                        "iteration": 742,
                        "remaining_time": 177.3407403,
                        "learn": [
                          68379.39521
                        ]
                      },
                      {
                        "test": [
                          81085.54742
                        ],
                        "passed_time": 2314.90935,
                        "iteration": 743,
                        "remaining_time": 174.2404887,
                        "learn": [
                          68343.536
                        ]
                      },
                      {
                        "test": [
                          81072.65173
                        ],
                        "passed_time": 2318.046649,
                        "iteration": 744,
                        "remaining_time": 171.1309606,
                        "learn": [
                          68326.42166
                        ]
                      },
                      {
                        "test": [
                          81065.66952
                        ],
                        "passed_time": 2321.22759,
                        "iteration": 745,
                        "remaining_time": 168.0245172,
                        "learn": [
                          68313.81342
                        ]
                      },
                      {
                        "test": [
                          81052.4756
                        ],
                        "passed_time": 2324.454609,
                        "iteration": 746,
                        "remaining_time": 164.9211436,
                        "learn": [
                          68281.85925
                        ]
                      },
                      {
                        "test": [
                          81038.74167
                        ],
                        "passed_time": 2327.631244,
                        "iteration": 747,
                        "remaining_time": 161.8139367,
                        "learn": [
                          68259.74728
                        ]
                      },
                      {
                        "test": [
                          81014.22383
                        ],
                        "passed_time": 2330.990617,
                        "iteration": 748,
                        "remaining_time": 158.7189873,
                        "learn": [
                          68198.03867
                        ]
                      },
                      {
                        "test": [
                          81009.69947
                        ],
                        "passed_time": 2334.20492,
                        "iteration": 749,
                        "remaining_time": 155.6136613,
                        "learn": [
                          68185.254
                        ]
                      },
                      {
                        "test": [
                          80994.95606
                        ],
                        "passed_time": 2337.406663,
                        "iteration": 750,
                        "remaining_time": 152.5072257,
                        "learn": [
                          68158.02515
                        ]
                      },
                      {
                        "test": [
                          80989.36972
                        ],
                        "passed_time": 2340.554732,
                        "iteration": 751,
                        "remaining_time": 149.3971106,
                        "learn": [
                          68145.96093
                        ]
                      },
                      {
                        "test": [
                          80981.1392
                        ],
                        "passed_time": 2343.6484,
                        "iteration": 752,
                        "remaining_time": 146.2834991,
                        "learn": [
                          68127.86696
                        ]
                      },
                      {
                        "test": [
                          80966.53572
                        ],
                        "passed_time": 2346.905483,
                        "iteration": 753,
                        "remaining_time": 143.1799101,
                        "learn": [
                          68094.924
                        ]
                      },
                      {
                        "test": [
                          80961.02258
                        ],
                        "passed_time": 2350.034626,
                        "iteration": 754,
                        "remaining_time": 140.068289,
                        "learn": [
                          68081.31777
                        ]
                      },
                      {
                        "test": [
                          80951.84188
                        ],
                        "passed_time": 2353.257599,
                        "iteration": 755,
                        "remaining_time": 136.9620825,
                        "learn": [
                          68061.65928
                        ]
                      },
                      {
                        "test": [
                          80937.5883
                        ],
                        "passed_time": 2356.41319,
                        "iteration": 756,
                        "remaining_time": 133.85174,
                        "learn": [
                          68039.90542
                        ]
                      },
                      {
                        "test": [
                          80929.83229
                        ],
                        "passed_time": 2359.543447,
                        "iteration": 757,
                        "remaining_time": 130.7398744,
                        "learn": [
                          68028.49778
                        ]
                      },
                      {
                        "test": [
                          80929.64787
                        ],
                        "passed_time": 2362.696623,
                        "iteration": 758,
                        "remaining_time": 127.6291984,
                        "learn": [
                          68024.53066
                        ]
                      },
                      {
                        "test": [
                          80928.28492
                        ],
                        "passed_time": 2365.831682,
                        "iteration": 759,
                        "remaining_time": 124.5174569,
                        "learn": [
                          68018.43703
                        ]
                      },
                      {
                        "test": [
                          80926.20873
                        ],
                        "passed_time": 2369.08627,
                        "iteration": 760,
                        "remaining_time": 121.4117799,
                        "learn": [
                          68001.41977
                        ]
                      },
                      {
                        "test": [
                          80925.93008
                        ],
                        "passed_time": 2372.217758,
                        "iteration": 761,
                        "remaining_time": 118.2995732,
                        "learn": [
                          67995.06844
                        ]
                      },
                      {
                        "test": [
                          80919.20356
                        ],
                        "passed_time": 2375.270764,
                        "iteration": 762,
                        "remaining_time": 115.1835102,
                        "learn": [
                          67981.00456
                        ]
                      },
                      {
                        "test": [
                          80911.03109
                        ],
                        "passed_time": 2378.461124,
                        "iteration": 763,
                        "remaining_time": 112.0740844,
                        "learn": [
                          67963.15152
                        ]
                      },
                      {
                        "test": [
                          80906.71496
                        ],
                        "passed_time": 2381.6122,
                        "iteration": 764,
                        "remaining_time": 108.9626497,
                        "learn": [
                          67953.02569
                        ]
                      },
                      {
                        "test": [
                          80898.54979
                        ],
                        "passed_time": 2384.804027,
                        "iteration": 765,
                        "remaining_time": 105.8529203,
                        "learn": [
                          67937.81378
                        ]
                      },
                      {
                        "test": [
                          80885.71461
                        ],
                        "passed_time": 2388.001227,
                        "iteration": 766,
                        "remaining_time": 102.7432079,
                        "learn": [
                          67917.11887
                        ]
                      },
                      {
                        "test": [
                          80885.70216
                        ],
                        "passed_time": 2388.214856,
                        "iteration": 767,
                        "remaining_time": 99.50895234,
                        "learn": [
                          67916.2256
                        ]
                      },
                      {
                        "test": [
                          80871.39555
                        ],
                        "passed_time": 2391.474715,
                        "iteration": 768,
                        "remaining_time": 96.40535264,
                        "learn": [
                          67883.94098
                        ]
                      },
                      {
                        "test": [
                          80865.3146
                        ],
                        "passed_time": 2394.561553,
                        "iteration": 769,
                        "remaining_time": 93.29460596,
                        "learn": [
                          67870.93881
                        ]
                      },
                      {
                        "test": [
                          80858.40652
                        ],
                        "passed_time": 2397.741045,
                        "iteration": 770,
                        "remaining_time": 90.18740637,
                        "learn": [
                          67853.78547
                        ]
                      },
                      {
                        "test": [
                          80850.7899
                        ],
                        "passed_time": 2400.907082,
                        "iteration": 771,
                        "remaining_time": 87.07953147,
                        "learn": [
                          67840.97912
                        ]
                      },
                      {
                        "test": [
                          80837.81971
                        ],
                        "passed_time": 2404.055279,
                        "iteration": 772,
                        "remaining_time": 83.97088298,
                        "learn": [
                          67820.5036
                        ]
                      },
                      {
                        "test": [
                          80836.63681
                        ],
                        "passed_time": 2407.185314,
                        "iteration": 773,
                        "remaining_time": 80.86152217,
                        "learn": [
                          67813.22857
                        ]
                      },
                      {
                        "test": [
                          80828.53215
                        ],
                        "passed_time": 2410.373848,
                        "iteration": 774,
                        "remaining_time": 77.75399509,
                        "learn": [
                          67794.29815
                        ]
                      },
                      {
                        "test": [
                          80819.61252
                        ],
                        "passed_time": 2413.545312,
                        "iteration": 775,
                        "remaining_time": 74.64573129,
                        "learn": [
                          67775.34306
                        ]
                      },
                      {
                        "test": [
                          80808.56521
                        ],
                        "passed_time": 2416.696359,
                        "iteration": 776,
                        "remaining_time": 71.53670047,
                        "learn": [
                          67758.96922
                        ]
                      },
                      {
                        "test": [
                          80807.23791
                        ],
                        "passed_time": 2419.896247,
                        "iteration": 777,
                        "remaining_time": 68.42894271,
                        "learn": [
                          67751.87357
                        ]
                      },
                      {
                        "test": [
                          80801.73872
                        ],
                        "passed_time": 2422.962807,
                        "iteration": 778,
                        "remaining_time": 65.31735423,
                        "learn": [
                          67742.84551
                        ]
                      },
                      {
                        "test": [
                          80783.21805
                        ],
                        "passed_time": 2426.220136,
                        "iteration": 779,
                        "remaining_time": 62.21077271,
                        "learn": [
                          67705.47667
                        ]
                      },
                      {
                        "test": [
                          80780.74657
                        ],
                        "passed_time": 2429.33292,
                        "iteration": 780,
                        "remaining_time": 59.10028871,
                        "learn": [
                          67697.32409
                        ]
                      },
                      {
                        "test": [
                          80768.09969
                        ],
                        "passed_time": 2432.512079,
                        "iteration": 781,
                        "remaining_time": 55.99132663,
                        "learn": [
                          67673.31835
                        ]
                      },
                      {
                        "test": [
                          80758.73071
                        ],
                        "passed_time": 2435.623676,
                        "iteration": 782,
                        "remaining_time": 52.88071837,
                        "learn": [
                          67657.59014
                        ]
                      },
                      {
                        "test": [
                          80754.48341
                        ],
                        "passed_time": 2438.792978,
                        "iteration": 783,
                        "remaining_time": 49.77128526,
                        "learn": [
                          67639.96296
                        ]
                      },
                      {
                        "test": [
                          80747.10767
                        ],
                        "passed_time": 2441.960079,
                        "iteration": 784,
                        "remaining_time": 46.66165756,
                        "learn": [
                          67628.9712
                        ]
                      },
                      {
                        "test": [
                          80736.80532
                        ],
                        "passed_time": 2445.194769,
                        "iteration": 785,
                        "remaining_time": 43.55308749,
                        "learn": [
                          67612.10661
                        ]
                      },
                      {
                        "test": [
                          80732.85431
                        ],
                        "passed_time": 2448.369556,
                        "iteration": 786,
                        "remaining_time": 40.4432074,
                        "learn": [
                          67599.4864
                        ]
                      },
                      {
                        "test": [
                          80732.45361
                        ],
                        "passed_time": 2451.507565,
                        "iteration": 787,
                        "remaining_time": 37.33260251,
                        "learn": [
                          67592.83818
                        ]
                      },
                      {
                        "test": [
                          80717.85169
                        ],
                        "passed_time": 2454.637581,
                        "iteration": 788,
                        "remaining_time": 34.22181671,
                        "learn": [
                          67568.80766
                        ]
                      },
                      {
                        "test": [
                          80712.45338
                        ],
                        "passed_time": 2457.809385,
                        "iteration": 789,
                        "remaining_time": 31.1115112,
                        "learn": [
                          67550.33326
                        ]
                      },
                      {
                        "test": [
                          80707.74383
                        ],
                        "passed_time": 2460.960567,
                        "iteration": 790,
                        "remaining_time": 28.00081555,
                        "learn": [
                          67536.86469
                        ]
                      },
                      {
                        "test": [
                          80704.80933
                        ],
                        "passed_time": 2464.115279,
                        "iteration": 791,
                        "remaining_time": 24.89005332,
                        "learn": [
                          67529.74048
                        ]
                      },
                      {
                        "test": [
                          80694.84302
                        ],
                        "passed_time": 2467.264235,
                        "iteration": 792,
                        "remaining_time": 21.77912944,
                        "learn": [
                          67503.98281
                        ]
                      },
                      {
                        "test": [
                          80687.71119
                        ],
                        "passed_time": 2470.468335,
                        "iteration": 793,
                        "remaining_time": 18.66852646,
                        "learn": [
                          67488.76004
                        ]
                      },
                      {
                        "test": [
                          80680.3487
                        ],
                        "passed_time": 2473.688946,
                        "iteration": 794,
                        "remaining_time": 15.55779212,
                        "learn": [
                          67471.38221
                        ]
                      },
                      {
                        "test": [
                          80668.02283
                        ],
                        "passed_time": 2476.894652,
                        "iteration": 795,
                        "remaining_time": 12.44670679,
                        "learn": [
                          67443.86938
                        ]
                      },
                      {
                        "test": [
                          80667.55431
                        ],
                        "passed_time": 2479.993168,
                        "iteration": 796,
                        "remaining_time": 9.334980558,
                        "learn": [
                          67437.16004
                        ]
                      },
                      {
                        "test": [
                          80667.31479
                        ],
                        "passed_time": 2483.141933,
                        "iteration": 797,
                        "remaining_time": 6.223413365,
                        "learn": [
                          67433.25092
                        ]
                      },
                      {
                        "test": [
                          80660.62372
                        ],
                        "passed_time": 2486.33085,
                        "iteration": 798,
                        "remaining_time": 3.111803316,
                        "learn": [
                          67420.91013
                        ]
                      },
                      {
                        "test": [
                          80653.87637
                        ],
                        "passed_time": 2489.497536,
                        "iteration": 799,
                        "remaining_time": 0,
                        "learn": [
                          67407.59188
                        ]
                      }
                    ]
                  },
                  "total_iterations": 800,
                  "passed_iterations": 799
                },
                "path": "catboost_info",
                "name": "catboost_info"
              }
            },
            "_view_module": "catboost-widget",
            "_model_module_version": "^1.0.0",
            "_view_count": null,
            "_view_module_version": "^1.0.0",
            "layout": "IPY_MODEL_5041fc5b90164f979714a0d0eb805b0d",
            "_model_module": "catboost-widget"
          }
        }
      }
    }
  },
  "cells": [
    {
      "cell_type": "code",
      "metadata": {
        "id": "X4Cppt1N9Mgl"
      },
      "source": [
        ""
      ],
      "execution_count": null,
      "outputs": []
    },
    {
      "cell_type": "markdown",
      "metadata": {
        "id": "zVhnX9bP9P4b"
      },
      "source": [
        "Решение задачи РайфайзенБанка по предсказанию цен на недвижимость. Сентябрь 2021 года, команда DataSlon"
      ]
    },
    {
      "cell_type": "code",
      "metadata": {
        "id": "pAmFlkqQ9c3a"
      },
      "source": [
        "import numpy as np\n",
        "import pandas as pd\n",
        "from sklearn.pipeline import Pipeline\n",
        "from sklearn.ensemble import RandomForestRegressor  #lib for classification\n",
        "from sklearn.model_selection import train_test_split\n",
        "import pickle  #for saving model\n",
        "from catboost import CatBoostRegressor\n",
        "from catboost import Pool"
      ],
      "execution_count": 25,
      "outputs": []
    },
    {
      "cell_type": "code",
      "metadata": {
        "colab": {
          "base_uri": "https://localhost:8080/"
        },
        "id": "AfmQJgbs-IMR",
        "outputId": "576a1713-3ffc-4ef9-f052-b7dd221d7a61"
      },
      "source": [
        "# подключаем гугл диск на котором данные\n",
        "from google.colab import drive\n",
        "drive.mount ('/content/gdrive', force_remount = True)"
      ],
      "execution_count": 2,
      "outputs": [
        {
          "output_type": "stream",
          "name": "stdout",
          "text": [
            "Mounted at /content/gdrive\n"
          ]
        }
      ]
    },
    {
      "cell_type": "code",
      "metadata": {
        "colab": {
          "base_uri": "https://localhost:8080/"
        },
        "id": "vqixb06P_Lwb",
        "outputId": "491cc95d-fb1c-4278-a153-4a204af98cd9"
      },
      "source": [
        "!ls /content/gdrive/'My Drive'/raifhack/data"
      ],
      "execution_count": 4,
      "outputs": [
        {
          "output_type": "stream",
          "name": "stdout",
          "text": [
            "test.csv  test_submission.csv  train.csv\n"
          ]
        }
      ]
    },
    {
      "cell_type": "code",
      "metadata": {
        "id": "qi0fOX5Z_nZ2"
      },
      "source": [
        "PATH_TO_DATA = \"../content/gdrive/My Drive/raifhack/data\""
      ],
      "execution_count": 5,
      "outputs": []
    },
    {
      "cell_type": "code",
      "metadata": {
        "colab": {
          "base_uri": "https://localhost:8080/",
          "height": 199
        },
        "id": "mQoLAvdL_5FL",
        "outputId": "7bec2e4e-e542-49a2-f84c-0250ddf4650c"
      },
      "source": [
        "train_df = pd.read_csv(PATH_TO_DATA+'/train.csv')\n",
        "train_df.tail(2)"
      ],
      "execution_count": 6,
      "outputs": [
        {
          "output_type": "stream",
          "name": "stderr",
          "text": [
            "/usr/local/lib/python3.7/dist-packages/IPython/core/interactiveshell.py:2718: DtypeWarning: Columns (1) have mixed types.Specify dtype option on import or set low_memory=False.\n",
            "  interactivity=interactivity, compiler=compiler, result=result)\n"
          ]
        },
        {
          "output_type": "execute_result",
          "data": {
            "text/html": [
              "<div>\n",
              "<style scoped>\n",
              "    .dataframe tbody tr th:only-of-type {\n",
              "        vertical-align: middle;\n",
              "    }\n",
              "\n",
              "    .dataframe tbody tr th {\n",
              "        vertical-align: top;\n",
              "    }\n",
              "\n",
              "    .dataframe thead th {\n",
              "        text-align: right;\n",
              "    }\n",
              "</style>\n",
              "<table border=\"1\" class=\"dataframe\">\n",
              "  <thead>\n",
              "    <tr style=\"text-align: right;\">\n",
              "      <th></th>\n",
              "      <th>city</th>\n",
              "      <th>floor</th>\n",
              "      <th>id</th>\n",
              "      <th>lat</th>\n",
              "      <th>lng</th>\n",
              "      <th>osm_amenity_points_in_0.001</th>\n",
              "      <th>osm_amenity_points_in_0.005</th>\n",
              "      <th>osm_amenity_points_in_0.0075</th>\n",
              "      <th>osm_amenity_points_in_0.01</th>\n",
              "      <th>osm_building_points_in_0.001</th>\n",
              "      <th>osm_building_points_in_0.005</th>\n",
              "      <th>osm_building_points_in_0.0075</th>\n",
              "      <th>osm_building_points_in_0.01</th>\n",
              "      <th>osm_catering_points_in_0.001</th>\n",
              "      <th>osm_catering_points_in_0.005</th>\n",
              "      <th>osm_catering_points_in_0.0075</th>\n",
              "      <th>osm_catering_points_in_0.01</th>\n",
              "      <th>osm_city_closest_dist</th>\n",
              "      <th>osm_city_nearest_name</th>\n",
              "      <th>osm_city_nearest_population</th>\n",
              "      <th>osm_crossing_closest_dist</th>\n",
              "      <th>osm_crossing_points_in_0.001</th>\n",
              "      <th>osm_crossing_points_in_0.005</th>\n",
              "      <th>osm_crossing_points_in_0.0075</th>\n",
              "      <th>osm_crossing_points_in_0.01</th>\n",
              "      <th>osm_culture_points_in_0.001</th>\n",
              "      <th>osm_culture_points_in_0.005</th>\n",
              "      <th>osm_culture_points_in_0.0075</th>\n",
              "      <th>osm_culture_points_in_0.01</th>\n",
              "      <th>osm_finance_points_in_0.001</th>\n",
              "      <th>osm_finance_points_in_0.005</th>\n",
              "      <th>osm_finance_points_in_0.0075</th>\n",
              "      <th>osm_finance_points_in_0.01</th>\n",
              "      <th>osm_healthcare_points_in_0.005</th>\n",
              "      <th>osm_healthcare_points_in_0.0075</th>\n",
              "      <th>osm_healthcare_points_in_0.01</th>\n",
              "      <th>osm_historic_points_in_0.005</th>\n",
              "      <th>osm_historic_points_in_0.0075</th>\n",
              "      <th>osm_historic_points_in_0.01</th>\n",
              "      <th>osm_hotels_points_in_0.005</th>\n",
              "      <th>osm_hotels_points_in_0.0075</th>\n",
              "      <th>osm_hotels_points_in_0.01</th>\n",
              "      <th>osm_leisure_points_in_0.005</th>\n",
              "      <th>osm_leisure_points_in_0.0075</th>\n",
              "      <th>osm_leisure_points_in_0.01</th>\n",
              "      <th>osm_offices_points_in_0.001</th>\n",
              "      <th>osm_offices_points_in_0.005</th>\n",
              "      <th>osm_offices_points_in_0.0075</th>\n",
              "      <th>osm_offices_points_in_0.01</th>\n",
              "      <th>osm_shops_points_in_0.001</th>\n",
              "      <th>osm_shops_points_in_0.005</th>\n",
              "      <th>osm_shops_points_in_0.0075</th>\n",
              "      <th>osm_shops_points_in_0.01</th>\n",
              "      <th>osm_subway_closest_dist</th>\n",
              "      <th>osm_train_stop_closest_dist</th>\n",
              "      <th>osm_train_stop_points_in_0.005</th>\n",
              "      <th>osm_train_stop_points_in_0.0075</th>\n",
              "      <th>osm_train_stop_points_in_0.01</th>\n",
              "      <th>osm_transport_stop_closest_dist</th>\n",
              "      <th>osm_transport_stop_points_in_0.005</th>\n",
              "      <th>osm_transport_stop_points_in_0.0075</th>\n",
              "      <th>osm_transport_stop_points_in_0.01</th>\n",
              "      <th>per_square_meter_price</th>\n",
              "      <th>reform_count_of_houses_1000</th>\n",
              "      <th>reform_count_of_houses_500</th>\n",
              "      <th>reform_house_population_1000</th>\n",
              "      <th>reform_house_population_500</th>\n",
              "      <th>reform_mean_floor_count_1000</th>\n",
              "      <th>reform_mean_floor_count_500</th>\n",
              "      <th>reform_mean_year_building_1000</th>\n",
              "      <th>reform_mean_year_building_500</th>\n",
              "      <th>region</th>\n",
              "      <th>total_square</th>\n",
              "      <th>street</th>\n",
              "      <th>date</th>\n",
              "      <th>realty_type</th>\n",
              "      <th>price_type</th>\n",
              "    </tr>\n",
              "  </thead>\n",
              "  <tbody>\n",
              "    <tr>\n",
              "      <th>279790</th>\n",
              "      <td>Кемерово</td>\n",
              "      <td>1.0</td>\n",
              "      <td>COL_280529</td>\n",
              "      <td>55.360680</td>\n",
              "      <td>86.081460</td>\n",
              "      <td>5</td>\n",
              "      <td>57</td>\n",
              "      <td>100</td>\n",
              "      <td>134</td>\n",
              "      <td>0</td>\n",
              "      <td>0</td>\n",
              "      <td>0</td>\n",
              "      <td>0</td>\n",
              "      <td>1</td>\n",
              "      <td>16</td>\n",
              "      <td>32</td>\n",
              "      <td>41</td>\n",
              "      <td>0.844577</td>\n",
              "      <td>Кемерово</td>\n",
              "      <td>558662.0</td>\n",
              "      <td>0.341931</td>\n",
              "      <td>0</td>\n",
              "      <td>10</td>\n",
              "      <td>12</td>\n",
              "      <td>20</td>\n",
              "      <td>1</td>\n",
              "      <td>3</td>\n",
              "      <td>5</td>\n",
              "      <td>7</td>\n",
              "      <td>1</td>\n",
              "      <td>4</td>\n",
              "      <td>6</td>\n",
              "      <td>7</td>\n",
              "      <td>1</td>\n",
              "      <td>3</td>\n",
              "      <td>3</td>\n",
              "      <td>1</td>\n",
              "      <td>7</td>\n",
              "      <td>9</td>\n",
              "      <td>0</td>\n",
              "      <td>0</td>\n",
              "      <td>1</td>\n",
              "      <td>1</td>\n",
              "      <td>4</td>\n",
              "      <td>7</td>\n",
              "      <td>0</td>\n",
              "      <td>2</td>\n",
              "      <td>9</td>\n",
              "      <td>12</td>\n",
              "      <td>1</td>\n",
              "      <td>23</td>\n",
              "      <td>32</td>\n",
              "      <td>48</td>\n",
              "      <td>200.109079</td>\n",
              "      <td>2.073608</td>\n",
              "      <td>0</td>\n",
              "      <td>0</td>\n",
              "      <td>0</td>\n",
              "      <td>0.385545</td>\n",
              "      <td>3</td>\n",
              "      <td>14</td>\n",
              "      <td>18</td>\n",
              "      <td>38755.038322</td>\n",
              "      <td>94</td>\n",
              "      <td>24</td>\n",
              "      <td>1649.0</td>\n",
              "      <td>429.0</td>\n",
              "      <td>4.691489</td>\n",
              "      <td>4.125000</td>\n",
              "      <td>1957.425532</td>\n",
              "      <td>1954.625000</td>\n",
              "      <td>Кемеровская область</td>\n",
              "      <td>89.201305</td>\n",
              "      <td>S17667</td>\n",
              "      <td>2020-08-23</td>\n",
              "      <td>110</td>\n",
              "      <td>1</td>\n",
              "    </tr>\n",
              "    <tr>\n",
              "      <th>279791</th>\n",
              "      <td>Киров</td>\n",
              "      <td>1.0</td>\n",
              "      <td>COL_280637</td>\n",
              "      <td>58.592915</td>\n",
              "      <td>49.677439</td>\n",
              "      <td>1</td>\n",
              "      <td>23</td>\n",
              "      <td>64</td>\n",
              "      <td>113</td>\n",
              "      <td>0</td>\n",
              "      <td>0</td>\n",
              "      <td>0</td>\n",
              "      <td>0</td>\n",
              "      <td>0</td>\n",
              "      <td>1</td>\n",
              "      <td>11</td>\n",
              "      <td>25</td>\n",
              "      <td>1.317512</td>\n",
              "      <td>Киров</td>\n",
              "      <td>496986.0</td>\n",
              "      <td>0.126115</td>\n",
              "      <td>0</td>\n",
              "      <td>6</td>\n",
              "      <td>18</td>\n",
              "      <td>48</td>\n",
              "      <td>0</td>\n",
              "      <td>0</td>\n",
              "      <td>0</td>\n",
              "      <td>1</td>\n",
              "      <td>0</td>\n",
              "      <td>6</td>\n",
              "      <td>9</td>\n",
              "      <td>12</td>\n",
              "      <td>3</td>\n",
              "      <td>4</td>\n",
              "      <td>5</td>\n",
              "      <td>0</td>\n",
              "      <td>1</td>\n",
              "      <td>2</td>\n",
              "      <td>1</td>\n",
              "      <td>1</td>\n",
              "      <td>3</td>\n",
              "      <td>1</td>\n",
              "      <td>1</td>\n",
              "      <td>4</td>\n",
              "      <td>0</td>\n",
              "      <td>0</td>\n",
              "      <td>4</td>\n",
              "      <td>7</td>\n",
              "      <td>1</td>\n",
              "      <td>10</td>\n",
              "      <td>37</td>\n",
              "      <td>61</td>\n",
              "      <td>306.460323</td>\n",
              "      <td>1.998461</td>\n",
              "      <td>0</td>\n",
              "      <td>0</td>\n",
              "      <td>0</td>\n",
              "      <td>0.148057</td>\n",
              "      <td>4</td>\n",
              "      <td>12</td>\n",
              "      <td>19</td>\n",
              "      <td>41335.014762</td>\n",
              "      <td>249</td>\n",
              "      <td>79</td>\n",
              "      <td>2735.0</td>\n",
              "      <td>766.0</td>\n",
              "      <td>5.069124</td>\n",
              "      <td>4.776119</td>\n",
              "      <td>1972.599078</td>\n",
              "      <td>1971.794118</td>\n",
              "      <td>Кировская область</td>\n",
              "      <td>172.855871</td>\n",
              "      <td>S5611</td>\n",
              "      <td>2020-08-23</td>\n",
              "      <td>110</td>\n",
              "      <td>1</td>\n",
              "    </tr>\n",
              "  </tbody>\n",
              "</table>\n",
              "</div>"
            ],
            "text/plain": [
              "            city floor          id  ...        date  realty_type  price_type\n",
              "279790  Кемерово   1.0  COL_280529  ...  2020-08-23          110           1\n",
              "279791     Киров   1.0  COL_280637  ...  2020-08-23          110           1\n",
              "\n",
              "[2 rows x 77 columns]"
            ]
          },
          "metadata": {},
          "execution_count": 6
        }
      ]
    },
    {
      "cell_type": "code",
      "metadata": {
        "colab": {
          "base_uri": "https://localhost:8080/"
        },
        "id": "ABMueUpQAMvK",
        "outputId": "163f4cdc-79ed-4a71-f05c-56aefdc060aa"
      },
      "source": [
        "#смотрим размерность данный, 279 ТЫС. СТРОК, 77 СТОЛБЦОВ\n",
        "train_df.shape"
      ],
      "execution_count": 7,
      "outputs": [
        {
          "output_type": "execute_result",
          "data": {
            "text/plain": [
              "(279792, 77)"
            ]
          },
          "metadata": {},
          "execution_count": 7
        }
      ]
    },
    {
      "cell_type": "code",
      "metadata": {
        "colab": {
          "base_uri": "https://localhost:8080/"
        },
        "id": "JZhpjS4-AdF2",
        "outputId": "ecf6dd9f-057f-4525-87bf-fe43c69ab7a8"
      },
      "source": [
        "#смотрим названия колонок\n",
        "train_df.columns"
      ],
      "execution_count": 9,
      "outputs": [
        {
          "output_type": "execute_result",
          "data": {
            "text/plain": [
              "Index(['city', 'floor', 'id', 'lat', 'lng', 'osm_amenity_points_in_0.001',\n",
              "       'osm_amenity_points_in_0.005', 'osm_amenity_points_in_0.0075',\n",
              "       'osm_amenity_points_in_0.01', 'osm_building_points_in_0.001',\n",
              "       'osm_building_points_in_0.005', 'osm_building_points_in_0.0075',\n",
              "       'osm_building_points_in_0.01', 'osm_catering_points_in_0.001',\n",
              "       'osm_catering_points_in_0.005', 'osm_catering_points_in_0.0075',\n",
              "       'osm_catering_points_in_0.01', 'osm_city_closest_dist',\n",
              "       'osm_city_nearest_name', 'osm_city_nearest_population',\n",
              "       'osm_crossing_closest_dist', 'osm_crossing_points_in_0.001',\n",
              "       'osm_crossing_points_in_0.005', 'osm_crossing_points_in_0.0075',\n",
              "       'osm_crossing_points_in_0.01', 'osm_culture_points_in_0.001',\n",
              "       'osm_culture_points_in_0.005', 'osm_culture_points_in_0.0075',\n",
              "       'osm_culture_points_in_0.01', 'osm_finance_points_in_0.001',\n",
              "       'osm_finance_points_in_0.005', 'osm_finance_points_in_0.0075',\n",
              "       'osm_finance_points_in_0.01', 'osm_healthcare_points_in_0.005',\n",
              "       'osm_healthcare_points_in_0.0075', 'osm_healthcare_points_in_0.01',\n",
              "       'osm_historic_points_in_0.005', 'osm_historic_points_in_0.0075',\n",
              "       'osm_historic_points_in_0.01', 'osm_hotels_points_in_0.005',\n",
              "       'osm_hotels_points_in_0.0075', 'osm_hotels_points_in_0.01',\n",
              "       'osm_leisure_points_in_0.005', 'osm_leisure_points_in_0.0075',\n",
              "       'osm_leisure_points_in_0.01', 'osm_offices_points_in_0.001',\n",
              "       'osm_offices_points_in_0.005', 'osm_offices_points_in_0.0075',\n",
              "       'osm_offices_points_in_0.01', 'osm_shops_points_in_0.001',\n",
              "       'osm_shops_points_in_0.005', 'osm_shops_points_in_0.0075',\n",
              "       'osm_shops_points_in_0.01', 'osm_subway_closest_dist',\n",
              "       'osm_train_stop_closest_dist', 'osm_train_stop_points_in_0.005',\n",
              "       'osm_train_stop_points_in_0.0075', 'osm_train_stop_points_in_0.01',\n",
              "       'osm_transport_stop_closest_dist', 'osm_transport_stop_points_in_0.005',\n",
              "       'osm_transport_stop_points_in_0.0075',\n",
              "       'osm_transport_stop_points_in_0.01', 'per_square_meter_price',\n",
              "       'reform_count_of_houses_1000', 'reform_count_of_houses_500',\n",
              "       'reform_house_population_1000', 'reform_house_population_500',\n",
              "       'reform_mean_floor_count_1000', 'reform_mean_floor_count_500',\n",
              "       'reform_mean_year_building_1000', 'reform_mean_year_building_500',\n",
              "       'region', 'total_square', 'street', 'date', 'realty_type',\n",
              "       'price_type'],\n",
              "      dtype='object')"
            ]
          },
          "metadata": {},
          "execution_count": 9
        }
      ]
    },
    {
      "cell_type": "code",
      "metadata": {
        "colab": {
          "base_uri": "https://localhost:8080/"
        },
        "id": "cURH5MwXA1Q1",
        "outputId": "20cbcb88-5c3e-48da-ea6b-1a5ca6757f69"
      },
      "source": [
        "#let s count NaNs\n",
        "train_df.isna().sum().sum()"
      ],
      "execution_count": 10,
      "outputs": [
        {
          "output_type": "execute_result",
          "data": {
            "text/plain": [
              "312480"
            ]
          },
          "metadata": {},
          "execution_count": 10
        }
      ]
    },
    {
      "cell_type": "code",
      "metadata": {
        "id": "M40uoa5WBmBA"
      },
      "source": [
        "X_features = ['city','lat', 'lng',\n",
        "       'osm_amenity_points_in_0.01', \n",
        "       'osm_building_points_in_0.01', 'osm_catering_points_in_0.001',\n",
        "       'osm_catering_points_in_0.01', 'osm_city_closest_dist','osm_city_nearest_population',\n",
        "       'osm_crossing_closest_dist', 'osm_crossing_points_in_0.001',\n",
        "       'osm_crossing_points_in_0.01',\n",
        "       'osm_culture_points_in_0.01',\n",
        "       'osm_finance_points_in_0.01', 'osm_healthcare_points_in_0.01',\n",
        "       'osm_historic_points_in_0.005', 'osm_hotels_points_in_0.01',\n",
        "       'osm_offices_points_in_0.01','osm_shops_points_in_0.01', 'total_square', 'realty_type',\n",
        "       'price_type']"
      ],
      "execution_count": 29,
      "outputs": []
    },
    {
      "cell_type": "code",
      "metadata": {
        "id": "faVXiapSC8GE"
      },
      "source": [
        "# Разделим годы на трейн и тест\n",
        "X_train, X_test, y_train, y_test = train_test_split(train_df[X_features], \n",
        "                                                    train_df['per_square_meter_price'], \n",
        "                                                    test_size=0.3,  \n",
        "                                                    #stratify=y_length, \n",
        "                                                    random_state=42)"
      ],
      "execution_count": 30,
      "outputs": []
    },
    {
      "cell_type": "code",
      "metadata": {
        "colab": {
          "base_uri": "https://localhost:8080/"
        },
        "id": "9VcOd80WAgVq",
        "outputId": "73965c91-6be4-4850-feab-cc98e028f499"
      },
      "source": [
        "!pip install catboost"
      ],
      "execution_count": 24,
      "outputs": [
        {
          "output_type": "stream",
          "name": "stdout",
          "text": [
            "Collecting catboost\n",
            "  Downloading catboost-0.26.1-cp37-none-manylinux1_x86_64.whl (67.4 MB)\n",
            "\u001b[K     |████████████████████████████████| 67.4 MB 28 kB/s \n",
            "\u001b[?25hRequirement already satisfied: graphviz in /usr/local/lib/python3.7/dist-packages (from catboost) (0.10.1)\n",
            "Requirement already satisfied: six in /usr/local/lib/python3.7/dist-packages (from catboost) (1.15.0)\n",
            "Requirement already satisfied: plotly in /usr/local/lib/python3.7/dist-packages (from catboost) (4.4.1)\n",
            "Requirement already satisfied: pandas>=0.24.0 in /usr/local/lib/python3.7/dist-packages (from catboost) (1.1.5)\n",
            "Requirement already satisfied: matplotlib in /usr/local/lib/python3.7/dist-packages (from catboost) (3.2.2)\n",
            "Requirement already satisfied: scipy in /usr/local/lib/python3.7/dist-packages (from catboost) (1.4.1)\n",
            "Requirement already satisfied: numpy>=1.16.0 in /usr/local/lib/python3.7/dist-packages (from catboost) (1.19.5)\n",
            "Requirement already satisfied: python-dateutil>=2.7.3 in /usr/local/lib/python3.7/dist-packages (from pandas>=0.24.0->catboost) (2.8.2)\n",
            "Requirement already satisfied: pytz>=2017.2 in /usr/local/lib/python3.7/dist-packages (from pandas>=0.24.0->catboost) (2018.9)\n",
            "Requirement already satisfied: cycler>=0.10 in /usr/local/lib/python3.7/dist-packages (from matplotlib->catboost) (0.10.0)\n",
            "Requirement already satisfied: pyparsing!=2.0.4,!=2.1.2,!=2.1.6,>=2.0.1 in /usr/local/lib/python3.7/dist-packages (from matplotlib->catboost) (2.4.7)\n",
            "Requirement already satisfied: kiwisolver>=1.0.1 in /usr/local/lib/python3.7/dist-packages (from matplotlib->catboost) (1.3.2)\n",
            "Requirement already satisfied: retrying>=1.3.3 in /usr/local/lib/python3.7/dist-packages (from plotly->catboost) (1.3.3)\n",
            "Installing collected packages: catboost\n",
            "Successfully installed catboost-0.26.1\n"
          ]
        }
      ]
    },
    {
      "cell_type": "code",
      "metadata": {
        "id": "dX48NhHbEhEM"
      },
      "source": [
        "target_col = 'per_square_meter_price'\n",
        "text_cols = []\n",
        "categorical_cols = ['city']\n",
        "\n",
        "train_pool = Pool(\n",
        "        X_train, \n",
        "        y_train, \n",
        "        cat_features=categorical_cols,\n",
        "        text_features=text_cols,\n",
        "        feature_names=X_features,\n",
        ")\n",
        "valid_pool = Pool(\n",
        "        X_test, \n",
        "        y_test, \n",
        "        cat_features=categorical_cols,\n",
        "        text_features=text_cols,\n",
        "        feature_names=X_features,\n",
        ")"
      ],
      "execution_count": 31,
      "outputs": []
    },
    {
      "cell_type": "code",
      "metadata": {
        "id": "wC3LaMXf_jzP"
      },
      "source": [
        "regr_CB =CatBoostRegressor(iterations= 800,\n",
        "    learning_rate= 0.015,\n",
        "    depth=16,\n",
        "    task_type= 'CPU',   #'GPU',\n",
        "    early_stopping_rounds= 90,\n",
        "    #class_weights=[0.95,0.05],\n",
        "    use_best_model= True,\n",
        "    random_seed=42,\n",
        "    verbose= 20\n",
        ")"
      ],
      "execution_count": 32,
      "outputs": []
    },
    {
      "cell_type": "code",
      "metadata": {
        "colab": {
          "base_uri": "https://localhost:8080/",
          "height": 799,
          "referenced_widgets": [
            "fb89d8f16aad4a999157ee34eaab6837"
          ]
        },
        "id": "I8fVtrUm9N98",
        "outputId": "92813ca9-7d1b-4c57-9c0f-f08bd7cb465b"
      },
      "source": [
        "regr_CB.fit(train_pool, eval_set=valid_pool,plot=True)"
      ],
      "execution_count": 33,
      "outputs": [
        {
          "output_type": "display_data",
          "data": {
            "application/vnd.jupyter.widget-view+json": {
              "model_id": "fb89d8f16aad4a999157ee34eaab6837",
              "version_minor": 0,
              "version_major": 2
            },
            "text/plain": [
              "MetricVisualizer(layout=Layout(align_self='stretch', height='500px'))"
            ]
          },
          "metadata": {}
        },
        {
          "output_type": "stream",
          "name": "stdout",
          "text": [
            "0:\tlearn: 169757.3633900\ttest: 172621.8027528\tbest: 172621.8027528 (0)\ttotal: 4.36s\tremaining: 58m 7s\n",
            "20:\tlearn: 145296.7345699\ttest: 148429.0959744\tbest: 148429.0959744 (20)\ttotal: 1m 8s\tremaining: 42m 14s\n",
            "40:\tlearn: 127806.4403586\ttest: 131305.1767682\tbest: 131305.1767682 (40)\ttotal: 2m 12s\tremaining: 40m 49s\n",
            "60:\tlearn: 115419.4829485\ttest: 119321.1595812\tbest: 119321.1595812 (60)\ttotal: 3m 16s\tremaining: 39m 38s\n",
            "80:\tlearn: 106749.4115327\ttest: 110916.4203188\tbest: 110916.4203188 (80)\ttotal: 4m 17s\tremaining: 38m 3s\n",
            "100:\tlearn: 100344.0946353\ttest: 104911.9142924\tbest: 104911.9142924 (100)\ttotal: 5m 21s\tremaining: 37m 3s\n",
            "120:\tlearn: 95693.9364959\ttest: 100624.3982565\tbest: 100624.3982565 (120)\ttotal: 6m 24s\tremaining: 35m 59s\n",
            "140:\tlearn: 92205.9627962\ttest: 97563.2112398\tbest: 97563.2112398 (140)\ttotal: 7m 28s\tremaining: 34m 56s\n",
            "160:\tlearn: 89279.8225770\ttest: 95075.1681564\tbest: 95075.1681564 (160)\ttotal: 8m 31s\tremaining: 33m 51s\n",
            "180:\tlearn: 86788.8805396\ttest: 92992.3867132\tbest: 92992.3867132 (180)\ttotal: 9m 34s\tremaining: 32m 44s\n",
            "200:\tlearn: 84841.0427971\ttest: 91431.2258829\tbest: 91431.2258829 (200)\ttotal: 10m 36s\tremaining: 31m 38s\n",
            "220:\tlearn: 83254.6926908\ttest: 90212.5386576\tbest: 90212.5386576 (220)\ttotal: 11m 38s\tremaining: 30m 30s\n",
            "240:\tlearn: 81886.0726859\ttest: 89182.1304906\tbest: 89182.1304906 (240)\ttotal: 12m 40s\tremaining: 29m 25s\n",
            "260:\tlearn: 80804.4492478\ttest: 88381.4696040\tbest: 88381.4696040 (260)\ttotal: 13m 43s\tremaining: 28m 19s\n",
            "280:\tlearn: 79905.8632191\ttest: 87736.7740029\tbest: 87736.7740029 (280)\ttotal: 14m 45s\tremaining: 27m 15s\n",
            "300:\tlearn: 79108.9379086\ttest: 87167.6695355\tbest: 87167.6695355 (300)\ttotal: 15m 48s\tremaining: 26m 11s\n",
            "320:\tlearn: 78337.3855182\ttest: 86639.5995835\tbest: 86639.5995835 (320)\ttotal: 16m 50s\tremaining: 25m 7s\n",
            "340:\tlearn: 77608.6875772\ttest: 86161.6003898\tbest: 86161.6003898 (340)\ttotal: 17m 52s\tremaining: 24m 4s\n",
            "360:\tlearn: 76960.1940236\ttest: 85736.0824000\tbest: 85736.0824000 (360)\ttotal: 18m 52s\tremaining: 22m 57s\n",
            "380:\tlearn: 76386.2803543\ttest: 85385.0543013\tbest: 85385.0543013 (380)\ttotal: 19m 52s\tremaining: 21m 51s\n",
            "400:\tlearn: 75794.0763838\ttest: 85012.2803841\tbest: 85012.2803841 (400)\ttotal: 20m 51s\tremaining: 20m 45s\n",
            "420:\tlearn: 75258.1602571\ttest: 84682.9861778\tbest: 84682.9861778 (420)\ttotal: 21m 54s\tremaining: 19m 43s\n",
            "440:\tlearn: 74688.1863748\ttest: 84369.9663459\tbest: 84369.9663459 (440)\ttotal: 22m 56s\tremaining: 18m 40s\n",
            "460:\tlearn: 74171.3957031\ttest: 84065.9866210\tbest: 84065.9866210 (460)\ttotal: 23m 58s\tremaining: 17m 38s\n",
            "480:\tlearn: 73568.6606740\ttest: 83730.3553059\tbest: 83730.3553059 (480)\ttotal: 25m 1s\tremaining: 16m 36s\n",
            "500:\tlearn: 72990.5006567\ttest: 83419.6777528\tbest: 83419.6777528 (500)\ttotal: 26m 4s\tremaining: 15m 33s\n",
            "520:\tlearn: 72593.8428635\ttest: 83205.1748543\tbest: 83205.1748543 (520)\ttotal: 27m 7s\tremaining: 14m 31s\n",
            "540:\tlearn: 72155.8633689\ttest: 82992.3269673\tbest: 82992.3269673 (540)\ttotal: 28m 10s\tremaining: 13m 29s\n",
            "560:\tlearn: 71762.7372433\ttest: 82793.6765689\tbest: 82793.6765689 (560)\ttotal: 29m 12s\tremaining: 12m 26s\n",
            "580:\tlearn: 71319.4341687\ttest: 82558.7656989\tbest: 82558.7656989 (580)\ttotal: 30m 12s\tremaining: 11m 23s\n",
            "600:\tlearn: 70885.5811737\ttest: 82353.3235779\tbest: 82353.3235779 (600)\ttotal: 31m 14s\tremaining: 10m 20s\n",
            "620:\tlearn: 70545.0932652\ttest: 82201.3023225\tbest: 82201.3023225 (620)\ttotal: 32m 14s\tremaining: 9m 17s\n",
            "640:\tlearn: 70155.9443160\ttest: 81983.5249613\tbest: 81983.5249613 (640)\ttotal: 33m 18s\tremaining: 8m 15s\n",
            "660:\tlearn: 69832.4572733\ttest: 81812.5899587\tbest: 81812.5899587 (660)\ttotal: 34m 18s\tremaining: 7m 12s\n",
            "680:\tlearn: 69416.3441819\ttest: 81620.3638208\tbest: 81620.3638208 (680)\ttotal: 35m 19s\tremaining: 6m 10s\n",
            "700:\tlearn: 69065.1165537\ttest: 81442.3087529\tbest: 81442.3087529 (700)\ttotal: 36m 21s\tremaining: 5m 8s\n",
            "720:\tlearn: 68739.1695704\ttest: 81278.4554397\tbest: 81278.4554397 (720)\ttotal: 37m 22s\tremaining: 4m 5s\n",
            "740:\tlearn: 68403.8411961\ttest: 81114.1734690\tbest: 81114.1734690 (740)\ttotal: 38m 25s\tremaining: 3m 3s\n",
            "760:\tlearn: 68001.4197659\ttest: 80926.2087337\tbest: 80926.2087337 (760)\ttotal: 39m 29s\tremaining: 2m 1s\n",
            "780:\tlearn: 67697.3240869\ttest: 80780.7465661\tbest: 80780.7465661 (780)\ttotal: 40m 29s\tremaining: 59.1s\n",
            "799:\tlearn: 67407.5918827\ttest: 80653.8763721\tbest: 80653.8763721 (799)\ttotal: 41m 29s\tremaining: 0us\n",
            "\n",
            "bestTest = 80653.87637\n",
            "bestIteration = 799\n",
            "\n"
          ]
        },
        {
          "output_type": "execute_result",
          "data": {
            "text/plain": [
              "<catboost.core.CatBoostRegressor at 0x7f206f71ffd0>"
            ]
          },
          "metadata": {},
          "execution_count": 33
        }
      ]
    },
    {
      "cell_type": "code",
      "metadata": {
        "colab": {
          "base_uri": "https://localhost:8080/"
        },
        "id": "5U7-MDi3GJmQ",
        "outputId": "1fb18d27-bf3e-44b3-b8c2-4e28a119e4ee"
      },
      "source": [
        "features_list = list(regr_CB.feature_importances_)\n",
        "for i in range(len(X_features)):\n",
        "  print(X_features[i],features_list[i])"
      ],
      "execution_count": 35,
      "outputs": [
        {
          "output_type": "stream",
          "name": "stdout",
          "text": [
            "city 2.3511719600826146\n",
            "lat 6.380927770649267\n",
            "lng 8.853421300353574\n",
            "osm_amenity_points_in_0.01 1.3187134999683798\n",
            "osm_building_points_in_0.01 4.748888924473569\n",
            "osm_catering_points_in_0.001 8.784356141242341\n",
            "osm_catering_points_in_0.01 1.7442856887662412\n",
            "osm_city_closest_dist 4.67294513114419\n",
            "osm_city_nearest_population 9.005780748053093\n",
            "osm_crossing_closest_dist 5.807423437471979\n",
            "osm_crossing_points_in_0.001 4.5416249034988585\n",
            "osm_crossing_points_in_0.01 2.478393375286349\n",
            "osm_culture_points_in_0.01 2.835541809117371\n",
            "osm_finance_points_in_0.01 3.897292715414583\n",
            "osm_healthcare_points_in_0.01 1.7185341206770504\n",
            "osm_historic_points_in_0.005 3.8658428131410236\n",
            "osm_hotels_points_in_0.01 1.36587500121734\n",
            "osm_offices_points_in_0.01 1.276181294480991\n",
            "osm_shops_points_in_0.01 1.7397468824250721\n",
            "total_square 13.945981021799543\n",
            "realty_type 8.621903365840108\n",
            "price_type 0.04516809489646769\n"
          ]
        }
      ]
    },
    {
      "cell_type": "code",
      "metadata": {
        "colab": {
          "base_uri": "https://localhost:8080/"
        },
        "id": "WP4rnbSRQU2j",
        "outputId": "0140a1e5-a150-49f7-bcce-d6d5b48049d0"
      },
      "source": [
        "regr_CB.score(X_train,y_train)"
      ],
      "execution_count": 36,
      "outputs": [
        {
          "output_type": "execute_result",
          "data": {
            "text/plain": [
              "0.8442028998486368"
            ]
          },
          "metadata": {},
          "execution_count": 36
        }
      ]
    },
    {
      "cell_type": "code",
      "metadata": {
        "colab": {
          "base_uri": "https://localhost:8080/"
        },
        "id": "Ye0UW4EYQm7_",
        "outputId": "df173b2b-c76e-43a9-eca9-cbf3d860c54c"
      },
      "source": [
        "regr_CB.score(X_test,y_test)"
      ],
      "execution_count": 37,
      "outputs": [
        {
          "output_type": "execute_result",
          "data": {
            "text/plain": [
              "0.7852241495369973"
            ]
          },
          "metadata": {},
          "execution_count": 37
        }
      ]
    },
    {
      "cell_type": "code",
      "metadata": {
        "colab": {
          "base_uri": "https://localhost:8080/",
          "height": 165
        },
        "id": "46LVMbOoQuZm",
        "outputId": "6f963503-6bcf-462b-b011-6abefdd869e4"
      },
      "source": [
        "test_df = pd.read_csv(PATH_TO_DATA+'/test.csv')  #merge \n",
        "test_df.tail(2)"
      ],
      "execution_count": 39,
      "outputs": [
        {
          "output_type": "execute_result",
          "data": {
            "text/html": [
              "<div>\n",
              "<style scoped>\n",
              "    .dataframe tbody tr th:only-of-type {\n",
              "        vertical-align: middle;\n",
              "    }\n",
              "\n",
              "    .dataframe tbody tr th {\n",
              "        vertical-align: top;\n",
              "    }\n",
              "\n",
              "    .dataframe thead th {\n",
              "        text-align: right;\n",
              "    }\n",
              "</style>\n",
              "<table border=\"1\" class=\"dataframe\">\n",
              "  <thead>\n",
              "    <tr style=\"text-align: right;\">\n",
              "      <th></th>\n",
              "      <th>city</th>\n",
              "      <th>floor</th>\n",
              "      <th>id</th>\n",
              "      <th>osm_amenity_points_in_0.001</th>\n",
              "      <th>osm_amenity_points_in_0.005</th>\n",
              "      <th>osm_amenity_points_in_0.0075</th>\n",
              "      <th>osm_amenity_points_in_0.01</th>\n",
              "      <th>osm_building_points_in_0.001</th>\n",
              "      <th>osm_building_points_in_0.005</th>\n",
              "      <th>osm_building_points_in_0.0075</th>\n",
              "      <th>osm_building_points_in_0.01</th>\n",
              "      <th>osm_catering_points_in_0.001</th>\n",
              "      <th>osm_catering_points_in_0.005</th>\n",
              "      <th>osm_catering_points_in_0.0075</th>\n",
              "      <th>osm_catering_points_in_0.01</th>\n",
              "      <th>osm_city_closest_dist</th>\n",
              "      <th>osm_city_nearest_name</th>\n",
              "      <th>osm_city_nearest_population</th>\n",
              "      <th>osm_crossing_closest_dist</th>\n",
              "      <th>osm_crossing_points_in_0.001</th>\n",
              "      <th>osm_crossing_points_in_0.005</th>\n",
              "      <th>osm_crossing_points_in_0.0075</th>\n",
              "      <th>osm_crossing_points_in_0.01</th>\n",
              "      <th>osm_culture_points_in_0.001</th>\n",
              "      <th>osm_culture_points_in_0.005</th>\n",
              "      <th>osm_culture_points_in_0.0075</th>\n",
              "      <th>osm_culture_points_in_0.01</th>\n",
              "      <th>osm_finance_points_in_0.001</th>\n",
              "      <th>osm_finance_points_in_0.005</th>\n",
              "      <th>osm_finance_points_in_0.0075</th>\n",
              "      <th>osm_finance_points_in_0.01</th>\n",
              "      <th>osm_healthcare_points_in_0.005</th>\n",
              "      <th>osm_healthcare_points_in_0.0075</th>\n",
              "      <th>osm_healthcare_points_in_0.01</th>\n",
              "      <th>osm_historic_points_in_0.005</th>\n",
              "      <th>osm_historic_points_in_0.0075</th>\n",
              "      <th>osm_historic_points_in_0.01</th>\n",
              "      <th>osm_hotels_points_in_0.005</th>\n",
              "      <th>osm_hotels_points_in_0.0075</th>\n",
              "      <th>osm_hotels_points_in_0.01</th>\n",
              "      <th>osm_leisure_points_in_0.005</th>\n",
              "      <th>osm_leisure_points_in_0.0075</th>\n",
              "      <th>osm_leisure_points_in_0.01</th>\n",
              "      <th>osm_offices_points_in_0.001</th>\n",
              "      <th>osm_offices_points_in_0.005</th>\n",
              "      <th>osm_offices_points_in_0.0075</th>\n",
              "      <th>osm_offices_points_in_0.01</th>\n",
              "      <th>osm_shops_points_in_0.001</th>\n",
              "      <th>osm_shops_points_in_0.005</th>\n",
              "      <th>osm_shops_points_in_0.0075</th>\n",
              "      <th>osm_shops_points_in_0.01</th>\n",
              "      <th>osm_subway_closest_dist</th>\n",
              "      <th>osm_train_stop_closest_dist</th>\n",
              "      <th>osm_train_stop_points_in_0.005</th>\n",
              "      <th>osm_train_stop_points_in_0.0075</th>\n",
              "      <th>osm_train_stop_points_in_0.01</th>\n",
              "      <th>osm_transport_stop_closest_dist</th>\n",
              "      <th>osm_transport_stop_points_in_0.005</th>\n",
              "      <th>osm_transport_stop_points_in_0.0075</th>\n",
              "      <th>osm_transport_stop_points_in_0.01</th>\n",
              "      <th>reform_count_of_houses_1000</th>\n",
              "      <th>reform_count_of_houses_500</th>\n",
              "      <th>reform_house_population_1000</th>\n",
              "      <th>reform_house_population_500</th>\n",
              "      <th>reform_mean_floor_count_1000</th>\n",
              "      <th>reform_mean_floor_count_500</th>\n",
              "      <th>reform_mean_year_building_1000</th>\n",
              "      <th>reform_mean_year_building_500</th>\n",
              "      <th>region</th>\n",
              "      <th>lat</th>\n",
              "      <th>lng</th>\n",
              "      <th>total_square</th>\n",
              "      <th>street</th>\n",
              "      <th>date</th>\n",
              "      <th>realty_type</th>\n",
              "      <th>price_type</th>\n",
              "    </tr>\n",
              "  </thead>\n",
              "  <tbody>\n",
              "    <tr>\n",
              "      <th>2972</th>\n",
              "      <td>Нижний Новгород</td>\n",
              "      <td>NaN</td>\n",
              "      <td>COL_455381</td>\n",
              "      <td>13</td>\n",
              "      <td>70</td>\n",
              "      <td>114</td>\n",
              "      <td>158</td>\n",
              "      <td>0</td>\n",
              "      <td>0</td>\n",
              "      <td>0</td>\n",
              "      <td>0</td>\n",
              "      <td>8</td>\n",
              "      <td>34</td>\n",
              "      <td>45</td>\n",
              "      <td>59</td>\n",
              "      <td>1.030306</td>\n",
              "      <td>Нижний Новгород</td>\n",
              "      <td>1252236.0</td>\n",
              "      <td>0.050913</td>\n",
              "      <td>4</td>\n",
              "      <td>12</td>\n",
              "      <td>22</td>\n",
              "      <td>38</td>\n",
              "      <td>0</td>\n",
              "      <td>5</td>\n",
              "      <td>9</td>\n",
              "      <td>12</td>\n",
              "      <td>0</td>\n",
              "      <td>0</td>\n",
              "      <td>1</td>\n",
              "      <td>1</td>\n",
              "      <td>1</td>\n",
              "      <td>1</td>\n",
              "      <td>2</td>\n",
              "      <td>4</td>\n",
              "      <td>6</td>\n",
              "      <td>11</td>\n",
              "      <td>4</td>\n",
              "      <td>6</td>\n",
              "      <td>7</td>\n",
              "      <td>10</td>\n",
              "      <td>15</td>\n",
              "      <td>20</td>\n",
              "      <td>1</td>\n",
              "      <td>5</td>\n",
              "      <td>7</td>\n",
              "      <td>8</td>\n",
              "      <td>1</td>\n",
              "      <td>14</td>\n",
              "      <td>33</td>\n",
              "      <td>47</td>\n",
              "      <td>1.657414</td>\n",
              "      <td>2.588330</td>\n",
              "      <td>0</td>\n",
              "      <td>0</td>\n",
              "      <td>0</td>\n",
              "      <td>0.032220</td>\n",
              "      <td>7</td>\n",
              "      <td>10</td>\n",
              "      <td>19</td>\n",
              "      <td>199</td>\n",
              "      <td>38</td>\n",
              "      <td>1343.0</td>\n",
              "      <td>370.0</td>\n",
              "      <td>3.829268</td>\n",
              "      <td>4.529412</td>\n",
              "      <td>1938.331361</td>\n",
              "      <td>1946.529412</td>\n",
              "      <td>Нижегородская область</td>\n",
              "      <td>56.328236</td>\n",
              "      <td>43.990039</td>\n",
              "      <td>208.625735</td>\n",
              "      <td>S21753</td>\n",
              "      <td>2020-12-27</td>\n",
              "      <td>10</td>\n",
              "      <td>1</td>\n",
              "    </tr>\n",
              "    <tr>\n",
              "      <th>2973</th>\n",
              "      <td>Нижний Новгород</td>\n",
              "      <td>NaN</td>\n",
              "      <td>COL_455397</td>\n",
              "      <td>1</td>\n",
              "      <td>52</td>\n",
              "      <td>111</td>\n",
              "      <td>146</td>\n",
              "      <td>0</td>\n",
              "      <td>0</td>\n",
              "      <td>0</td>\n",
              "      <td>0</td>\n",
              "      <td>1</td>\n",
              "      <td>7</td>\n",
              "      <td>20</td>\n",
              "      <td>28</td>\n",
              "      <td>8.620167</td>\n",
              "      <td>Нижний Новгород</td>\n",
              "      <td>1252236.0</td>\n",
              "      <td>0.054001</td>\n",
              "      <td>1</td>\n",
              "      <td>19</td>\n",
              "      <td>27</td>\n",
              "      <td>39</td>\n",
              "      <td>0</td>\n",
              "      <td>0</td>\n",
              "      <td>4</td>\n",
              "      <td>4</td>\n",
              "      <td>0</td>\n",
              "      <td>3</td>\n",
              "      <td>7</td>\n",
              "      <td>14</td>\n",
              "      <td>1</td>\n",
              "      <td>2</td>\n",
              "      <td>2</td>\n",
              "      <td>2</td>\n",
              "      <td>6</td>\n",
              "      <td>8</td>\n",
              "      <td>0</td>\n",
              "      <td>0</td>\n",
              "      <td>2</td>\n",
              "      <td>2</td>\n",
              "      <td>4</td>\n",
              "      <td>7</td>\n",
              "      <td>0</td>\n",
              "      <td>2</td>\n",
              "      <td>4</td>\n",
              "      <td>8</td>\n",
              "      <td>0</td>\n",
              "      <td>36</td>\n",
              "      <td>69</td>\n",
              "      <td>81</td>\n",
              "      <td>2.114953</td>\n",
              "      <td>1.017884</td>\n",
              "      <td>0</td>\n",
              "      <td>0</td>\n",
              "      <td>0</td>\n",
              "      <td>0.419797</td>\n",
              "      <td>1</td>\n",
              "      <td>18</td>\n",
              "      <td>19</td>\n",
              "      <td>134</td>\n",
              "      <td>50</td>\n",
              "      <td>2932.0</td>\n",
              "      <td>943.0</td>\n",
              "      <td>6.961240</td>\n",
              "      <td>5.440000</td>\n",
              "      <td>1972.892308</td>\n",
              "      <td>1963.940000</td>\n",
              "      <td>Нижегородская область</td>\n",
              "      <td>56.343952</td>\n",
              "      <td>43.869360</td>\n",
              "      <td>232.109058</td>\n",
              "      <td>S28997</td>\n",
              "      <td>2020-12-27</td>\n",
              "      <td>100</td>\n",
              "      <td>1</td>\n",
              "    </tr>\n",
              "  </tbody>\n",
              "</table>\n",
              "</div>"
            ],
            "text/plain": [
              "                 city floor          id  ...        date  realty_type  price_type\n",
              "2972  Нижний Новгород   NaN  COL_455381  ...  2020-12-27           10           1\n",
              "2973  Нижний Новгород   NaN  COL_455397  ...  2020-12-27          100           1\n",
              "\n",
              "[2 rows x 76 columns]"
            ]
          },
          "metadata": {},
          "execution_count": 39
        }
      ]
    },
    {
      "cell_type": "code",
      "metadata": {
        "colab": {
          "base_uri": "https://localhost:8080/"
        },
        "id": "lteRDW_vROUE",
        "outputId": "04cc69e8-e4a7-44b1-a923-122cf36d4511"
      },
      "source": [
        "pred_test = regr_CB.predict(test_df[X_features])\n",
        "print(pred_test[:10])"
      ],
      "execution_count": 40,
      "outputs": [
        {
          "output_type": "stream",
          "name": "stdout",
          "text": [
            "[ 30715.55166814  54448.76148842  56130.01095925  90555.95062571\n",
            "  52057.05344162  59092.40381448  59225.45278455  51901.42039861\n",
            " 114867.79435717  51077.65963136]\n"
          ]
        }
      ]
    },
    {
      "cell_type": "code",
      "metadata": {
        "colab": {
          "base_uri": "https://localhost:8080/",
          "height": 165
        },
        "id": "902Ik96nRVvA",
        "outputId": "38acb67c-393f-490c-916b-7768305b404a"
      },
      "source": [
        "test_df['per_square_meter_price'] = pred_test\n",
        "test_df.tail(2)"
      ],
      "execution_count": 41,
      "outputs": [
        {
          "output_type": "execute_result",
          "data": {
            "text/html": [
              "<div>\n",
              "<style scoped>\n",
              "    .dataframe tbody tr th:only-of-type {\n",
              "        vertical-align: middle;\n",
              "    }\n",
              "\n",
              "    .dataframe tbody tr th {\n",
              "        vertical-align: top;\n",
              "    }\n",
              "\n",
              "    .dataframe thead th {\n",
              "        text-align: right;\n",
              "    }\n",
              "</style>\n",
              "<table border=\"1\" class=\"dataframe\">\n",
              "  <thead>\n",
              "    <tr style=\"text-align: right;\">\n",
              "      <th></th>\n",
              "      <th>city</th>\n",
              "      <th>floor</th>\n",
              "      <th>id</th>\n",
              "      <th>osm_amenity_points_in_0.001</th>\n",
              "      <th>osm_amenity_points_in_0.005</th>\n",
              "      <th>osm_amenity_points_in_0.0075</th>\n",
              "      <th>osm_amenity_points_in_0.01</th>\n",
              "      <th>osm_building_points_in_0.001</th>\n",
              "      <th>osm_building_points_in_0.005</th>\n",
              "      <th>osm_building_points_in_0.0075</th>\n",
              "      <th>osm_building_points_in_0.01</th>\n",
              "      <th>osm_catering_points_in_0.001</th>\n",
              "      <th>osm_catering_points_in_0.005</th>\n",
              "      <th>osm_catering_points_in_0.0075</th>\n",
              "      <th>osm_catering_points_in_0.01</th>\n",
              "      <th>osm_city_closest_dist</th>\n",
              "      <th>osm_city_nearest_name</th>\n",
              "      <th>osm_city_nearest_population</th>\n",
              "      <th>osm_crossing_closest_dist</th>\n",
              "      <th>osm_crossing_points_in_0.001</th>\n",
              "      <th>osm_crossing_points_in_0.005</th>\n",
              "      <th>osm_crossing_points_in_0.0075</th>\n",
              "      <th>osm_crossing_points_in_0.01</th>\n",
              "      <th>osm_culture_points_in_0.001</th>\n",
              "      <th>osm_culture_points_in_0.005</th>\n",
              "      <th>osm_culture_points_in_0.0075</th>\n",
              "      <th>osm_culture_points_in_0.01</th>\n",
              "      <th>osm_finance_points_in_0.001</th>\n",
              "      <th>osm_finance_points_in_0.005</th>\n",
              "      <th>osm_finance_points_in_0.0075</th>\n",
              "      <th>osm_finance_points_in_0.01</th>\n",
              "      <th>osm_healthcare_points_in_0.005</th>\n",
              "      <th>osm_healthcare_points_in_0.0075</th>\n",
              "      <th>osm_healthcare_points_in_0.01</th>\n",
              "      <th>osm_historic_points_in_0.005</th>\n",
              "      <th>osm_historic_points_in_0.0075</th>\n",
              "      <th>osm_historic_points_in_0.01</th>\n",
              "      <th>osm_hotels_points_in_0.005</th>\n",
              "      <th>osm_hotels_points_in_0.0075</th>\n",
              "      <th>osm_hotels_points_in_0.01</th>\n",
              "      <th>osm_leisure_points_in_0.005</th>\n",
              "      <th>osm_leisure_points_in_0.0075</th>\n",
              "      <th>osm_leisure_points_in_0.01</th>\n",
              "      <th>osm_offices_points_in_0.001</th>\n",
              "      <th>osm_offices_points_in_0.005</th>\n",
              "      <th>osm_offices_points_in_0.0075</th>\n",
              "      <th>osm_offices_points_in_0.01</th>\n",
              "      <th>osm_shops_points_in_0.001</th>\n",
              "      <th>osm_shops_points_in_0.005</th>\n",
              "      <th>osm_shops_points_in_0.0075</th>\n",
              "      <th>osm_shops_points_in_0.01</th>\n",
              "      <th>osm_subway_closest_dist</th>\n",
              "      <th>osm_train_stop_closest_dist</th>\n",
              "      <th>osm_train_stop_points_in_0.005</th>\n",
              "      <th>osm_train_stop_points_in_0.0075</th>\n",
              "      <th>osm_train_stop_points_in_0.01</th>\n",
              "      <th>osm_transport_stop_closest_dist</th>\n",
              "      <th>osm_transport_stop_points_in_0.005</th>\n",
              "      <th>osm_transport_stop_points_in_0.0075</th>\n",
              "      <th>osm_transport_stop_points_in_0.01</th>\n",
              "      <th>reform_count_of_houses_1000</th>\n",
              "      <th>reform_count_of_houses_500</th>\n",
              "      <th>reform_house_population_1000</th>\n",
              "      <th>reform_house_population_500</th>\n",
              "      <th>reform_mean_floor_count_1000</th>\n",
              "      <th>reform_mean_floor_count_500</th>\n",
              "      <th>reform_mean_year_building_1000</th>\n",
              "      <th>reform_mean_year_building_500</th>\n",
              "      <th>region</th>\n",
              "      <th>lat</th>\n",
              "      <th>lng</th>\n",
              "      <th>total_square</th>\n",
              "      <th>street</th>\n",
              "      <th>date</th>\n",
              "      <th>realty_type</th>\n",
              "      <th>price_type</th>\n",
              "      <th>per_square_meter_price</th>\n",
              "    </tr>\n",
              "  </thead>\n",
              "  <tbody>\n",
              "    <tr>\n",
              "      <th>2972</th>\n",
              "      <td>Нижний Новгород</td>\n",
              "      <td>NaN</td>\n",
              "      <td>COL_455381</td>\n",
              "      <td>13</td>\n",
              "      <td>70</td>\n",
              "      <td>114</td>\n",
              "      <td>158</td>\n",
              "      <td>0</td>\n",
              "      <td>0</td>\n",
              "      <td>0</td>\n",
              "      <td>0</td>\n",
              "      <td>8</td>\n",
              "      <td>34</td>\n",
              "      <td>45</td>\n",
              "      <td>59</td>\n",
              "      <td>1.030306</td>\n",
              "      <td>Нижний Новгород</td>\n",
              "      <td>1252236.0</td>\n",
              "      <td>0.050913</td>\n",
              "      <td>4</td>\n",
              "      <td>12</td>\n",
              "      <td>22</td>\n",
              "      <td>38</td>\n",
              "      <td>0</td>\n",
              "      <td>5</td>\n",
              "      <td>9</td>\n",
              "      <td>12</td>\n",
              "      <td>0</td>\n",
              "      <td>0</td>\n",
              "      <td>1</td>\n",
              "      <td>1</td>\n",
              "      <td>1</td>\n",
              "      <td>1</td>\n",
              "      <td>2</td>\n",
              "      <td>4</td>\n",
              "      <td>6</td>\n",
              "      <td>11</td>\n",
              "      <td>4</td>\n",
              "      <td>6</td>\n",
              "      <td>7</td>\n",
              "      <td>10</td>\n",
              "      <td>15</td>\n",
              "      <td>20</td>\n",
              "      <td>1</td>\n",
              "      <td>5</td>\n",
              "      <td>7</td>\n",
              "      <td>8</td>\n",
              "      <td>1</td>\n",
              "      <td>14</td>\n",
              "      <td>33</td>\n",
              "      <td>47</td>\n",
              "      <td>1.657414</td>\n",
              "      <td>2.588330</td>\n",
              "      <td>0</td>\n",
              "      <td>0</td>\n",
              "      <td>0</td>\n",
              "      <td>0.032220</td>\n",
              "      <td>7</td>\n",
              "      <td>10</td>\n",
              "      <td>19</td>\n",
              "      <td>199</td>\n",
              "      <td>38</td>\n",
              "      <td>1343.0</td>\n",
              "      <td>370.0</td>\n",
              "      <td>3.829268</td>\n",
              "      <td>4.529412</td>\n",
              "      <td>1938.331361</td>\n",
              "      <td>1946.529412</td>\n",
              "      <td>Нижегородская область</td>\n",
              "      <td>56.328236</td>\n",
              "      <td>43.990039</td>\n",
              "      <td>208.625735</td>\n",
              "      <td>S21753</td>\n",
              "      <td>2020-12-27</td>\n",
              "      <td>10</td>\n",
              "      <td>1</td>\n",
              "      <td>64648.348422</td>\n",
              "    </tr>\n",
              "    <tr>\n",
              "      <th>2973</th>\n",
              "      <td>Нижний Новгород</td>\n",
              "      <td>NaN</td>\n",
              "      <td>COL_455397</td>\n",
              "      <td>1</td>\n",
              "      <td>52</td>\n",
              "      <td>111</td>\n",
              "      <td>146</td>\n",
              "      <td>0</td>\n",
              "      <td>0</td>\n",
              "      <td>0</td>\n",
              "      <td>0</td>\n",
              "      <td>1</td>\n",
              "      <td>7</td>\n",
              "      <td>20</td>\n",
              "      <td>28</td>\n",
              "      <td>8.620167</td>\n",
              "      <td>Нижний Новгород</td>\n",
              "      <td>1252236.0</td>\n",
              "      <td>0.054001</td>\n",
              "      <td>1</td>\n",
              "      <td>19</td>\n",
              "      <td>27</td>\n",
              "      <td>39</td>\n",
              "      <td>0</td>\n",
              "      <td>0</td>\n",
              "      <td>4</td>\n",
              "      <td>4</td>\n",
              "      <td>0</td>\n",
              "      <td>3</td>\n",
              "      <td>7</td>\n",
              "      <td>14</td>\n",
              "      <td>1</td>\n",
              "      <td>2</td>\n",
              "      <td>2</td>\n",
              "      <td>2</td>\n",
              "      <td>6</td>\n",
              "      <td>8</td>\n",
              "      <td>0</td>\n",
              "      <td>0</td>\n",
              "      <td>2</td>\n",
              "      <td>2</td>\n",
              "      <td>4</td>\n",
              "      <td>7</td>\n",
              "      <td>0</td>\n",
              "      <td>2</td>\n",
              "      <td>4</td>\n",
              "      <td>8</td>\n",
              "      <td>0</td>\n",
              "      <td>36</td>\n",
              "      <td>69</td>\n",
              "      <td>81</td>\n",
              "      <td>2.114953</td>\n",
              "      <td>1.017884</td>\n",
              "      <td>0</td>\n",
              "      <td>0</td>\n",
              "      <td>0</td>\n",
              "      <td>0.419797</td>\n",
              "      <td>1</td>\n",
              "      <td>18</td>\n",
              "      <td>19</td>\n",
              "      <td>134</td>\n",
              "      <td>50</td>\n",
              "      <td>2932.0</td>\n",
              "      <td>943.0</td>\n",
              "      <td>6.961240</td>\n",
              "      <td>5.440000</td>\n",
              "      <td>1972.892308</td>\n",
              "      <td>1963.940000</td>\n",
              "      <td>Нижегородская область</td>\n",
              "      <td>56.343952</td>\n",
              "      <td>43.869360</td>\n",
              "      <td>232.109058</td>\n",
              "      <td>S28997</td>\n",
              "      <td>2020-12-27</td>\n",
              "      <td>100</td>\n",
              "      <td>1</td>\n",
              "      <td>54650.691321</td>\n",
              "    </tr>\n",
              "  </tbody>\n",
              "</table>\n",
              "</div>"
            ],
            "text/plain": [
              "                 city floor  ... price_type  per_square_meter_price\n",
              "2972  Нижний Новгород   NaN  ...          1            64648.348422\n",
              "2973  Нижний Новгород   NaN  ...          1            54650.691321\n",
              "\n",
              "[2 rows x 77 columns]"
            ]
          },
          "metadata": {},
          "execution_count": 41
        }
      ]
    },
    {
      "cell_type": "code",
      "metadata": {
        "id": "k1gvj1EIR2Zg"
      },
      "source": [
        ""
      ],
      "execution_count": null,
      "outputs": []
    },
    {
      "cell_type": "code",
      "metadata": {
        "id": "w9dbCGMiRJFs"
      },
      "source": [
        ""
      ],
      "execution_count": null,
      "outputs": []
    },
    {
      "cell_type": "code",
      "metadata": {
        "colab": {
          "base_uri": "https://localhost:8080/",
          "height": 17
        },
        "id": "86ps3sKS9OTE",
        "outputId": "c592c427-d62b-4bd1-9182-0175538e5750"
      },
      "source": [
        "#let s save our prediction\n",
        "\n",
        "test_df[['id','per_square_meter_price']].to_csv('sub01.csv',header=True,index=False)\n",
        "\n"
      ],
      "execution_count": 42,
      "outputs": [
        {
          "output_type": "display_data",
          "data": {
            "application/javascript": [
              "\n",
              "    async function download(id, filename, size) {\n",
              "      if (!google.colab.kernel.accessAllowed) {\n",
              "        return;\n",
              "      }\n",
              "      const div = document.createElement('div');\n",
              "      const label = document.createElement('label');\n",
              "      label.textContent = `Downloading \"${filename}\": `;\n",
              "      div.appendChild(label);\n",
              "      const progress = document.createElement('progress');\n",
              "      progress.max = size;\n",
              "      div.appendChild(progress);\n",
              "      document.body.appendChild(div);\n",
              "\n",
              "      const buffers = [];\n",
              "      let downloaded = 0;\n",
              "\n",
              "      const channel = await google.colab.kernel.comms.open(id);\n",
              "      // Send a message to notify the kernel that we're ready.\n",
              "      channel.send({})\n",
              "\n",
              "      for await (const message of channel.messages) {\n",
              "        // Send a message to notify the kernel that we're ready.\n",
              "        channel.send({})\n",
              "        if (message.buffers) {\n",
              "          for (const buffer of message.buffers) {\n",
              "            buffers.push(buffer);\n",
              "            downloaded += buffer.byteLength;\n",
              "            progress.value = downloaded;\n",
              "          }\n",
              "        }\n",
              "      }\n",
              "      const blob = new Blob(buffers, {type: 'application/binary'});\n",
              "      const a = document.createElement('a');\n",
              "      a.href = window.URL.createObjectURL(blob);\n",
              "      a.download = filename;\n",
              "      div.appendChild(a);\n",
              "      a.click();\n",
              "      div.remove();\n",
              "    }\n",
              "  "
            ],
            "text/plain": [
              "<IPython.core.display.Javascript object>"
            ]
          },
          "metadata": {}
        },
        {
          "output_type": "display_data",
          "data": {
            "application/javascript": [
              "download(\"download_5dd50306-2f05-48ff-9dae-aa29426887e3\", \"sub01.csv\", 86870)"
            ],
            "text/plain": [
              "<IPython.core.display.Javascript object>"
            ]
          },
          "metadata": {}
        }
      ]
    },
    {
      "cell_type": "code",
      "metadata": {
        "colab": {
          "base_uri": "https://localhost:8080/"
        },
        "id": "zHj3O9yt9Oj8",
        "outputId": "2c79ed97-8e4f-4778-9f51-2627b05fb7e5"
      },
      "source": [
        "!ls"
      ],
      "execution_count": 43,
      "outputs": [
        {
          "output_type": "stream",
          "name": "stdout",
          "text": [
            "catboost_info  gdrive  sample_data  sub01.csv\n"
          ]
        }
      ]
    },
    {
      "cell_type": "code",
      "metadata": {
        "colab": {
          "base_uri": "https://localhost:8080/",
          "height": 17
        },
        "id": "eJTM8BSk9O3Y",
        "outputId": "74bf0584-64ef-483b-f1ca-bbb7b730d22f"
      },
      "source": [
        "from google.colab import files\n",
        "\n",
        "files.download('sub01.csv')"
      ],
      "execution_count": 44,
      "outputs": [
        {
          "output_type": "display_data",
          "data": {
            "application/javascript": [
              "\n",
              "    async function download(id, filename, size) {\n",
              "      if (!google.colab.kernel.accessAllowed) {\n",
              "        return;\n",
              "      }\n",
              "      const div = document.createElement('div');\n",
              "      const label = document.createElement('label');\n",
              "      label.textContent = `Downloading \"${filename}\": `;\n",
              "      div.appendChild(label);\n",
              "      const progress = document.createElement('progress');\n",
              "      progress.max = size;\n",
              "      div.appendChild(progress);\n",
              "      document.body.appendChild(div);\n",
              "\n",
              "      const buffers = [];\n",
              "      let downloaded = 0;\n",
              "\n",
              "      const channel = await google.colab.kernel.comms.open(id);\n",
              "      // Send a message to notify the kernel that we're ready.\n",
              "      channel.send({})\n",
              "\n",
              "      for await (const message of channel.messages) {\n",
              "        // Send a message to notify the kernel that we're ready.\n",
              "        channel.send({})\n",
              "        if (message.buffers) {\n",
              "          for (const buffer of message.buffers) {\n",
              "            buffers.push(buffer);\n",
              "            downloaded += buffer.byteLength;\n",
              "            progress.value = downloaded;\n",
              "          }\n",
              "        }\n",
              "      }\n",
              "      const blob = new Blob(buffers, {type: 'application/binary'});\n",
              "      const a = document.createElement('a');\n",
              "      a.href = window.URL.createObjectURL(blob);\n",
              "      a.download = filename;\n",
              "      div.appendChild(a);\n",
              "      a.click();\n",
              "      div.remove();\n",
              "    }\n",
              "  "
            ],
            "text/plain": [
              "<IPython.core.display.Javascript object>"
            ]
          },
          "metadata": {}
        },
        {
          "output_type": "display_data",
          "data": {
            "application/javascript": [
              "download(\"download_456f98df-1807-4a34-80fe-7630302f4113\", \"sub01.csv\", 86870)"
            ],
            "text/plain": [
              "<IPython.core.display.Javascript object>"
            ]
          },
          "metadata": {}
        }
      ]
    },
    {
      "cell_type": "code",
      "metadata": {
        "id": "V3ruqEou9PJE"
      },
      "source": [
        ""
      ],
      "execution_count": null,
      "outputs": []
    }
  ]
}